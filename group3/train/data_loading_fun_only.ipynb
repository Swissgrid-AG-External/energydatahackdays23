{
 "cells": [
  {
   "cell_type": "code",
   "execution_count": 1,
   "id": "da05d911",
   "metadata": {},
   "outputs": [],
   "source": [
    "from sklearn.model_selection import train_test_split\n",
    "import pandas as pd\n",
    "import lightgbm as lgb"
   ]
  },
  {
   "cell_type": "code",
   "execution_count": 2,
   "id": "09dada3e",
   "metadata": {},
   "outputs": [],
   "source": [
    "# explain NTC, how can they vary, how are they determined in the first place, are they fixed and then exchanged"
   ]
  },
  {
   "cell_type": "code",
   "execution_count": 55,
   "id": "8c66d781",
   "metadata": {},
   "outputs": [],
   "source": [
    "df_NTC = pd.read_csv(\"../../data/NTC.csv\")\n",
    "df_losses = pd.read_csv(\"../../data/Avtice-losses.csv\")\n",
    "df_renewable = pd.read_csv(\"../../data/Forecast-renewable-generation.csv\")\n",
    "df_temp = pd.read_csv(\"../../data/Forecast-temperature.csv\")\n",
    "\n",
    "df_losses = df_losses.drop(df_losses.index[0])"
   ]
  },
  {
   "cell_type": "code",
   "execution_count": null,
   "id": "a5d92cb4",
   "metadata": {},
   "outputs": [],
   "source": []
  },
  {
   "cell_type": "code",
   "execution_count": 57,
   "id": "b1655f35",
   "metadata": {},
   "outputs": [
    {
     "name": "stdout",
     "output_type": "stream",
     "text": [
      "Index(['datetime', 'CH_AT', 'CH_DE', 'CH_FR', 'CH_IT', 'AT_CH', 'DE_CH',\n",
      "       'FR_CH', 'IT_CH'],\n",
      "      dtype='object')\n",
      "Index(['Unnamed: 0', 'Wirkverluste/Active Losses'], dtype='object')\n",
      "Index(['datetime', 'solar_fore_de [MW]', 'solar_fore_it [MW]',\n",
      "       'wind_fore_de [MW]', 'wind_fore_it [MW]'],\n",
      "      dtype='object')\n",
      "Index(['datetime', 'temperature_fore_ch', 'temperature_fore_fr',\n",
      "       'temperature_fore_de', 'temperature_fore_it'],\n",
      "      dtype='object')\n"
     ]
    }
   ],
   "source": [
    "print(df_NTC.columns)\n",
    "print(df_losses.columns)\n",
    "print(df_renewable.columns)\n",
    "print(df_temp.columns)"
   ]
  },
  {
   "cell_type": "code",
   "execution_count": 58,
   "id": "24f9bf05",
   "metadata": {},
   "outputs": [],
   "source": [
    "df_losses = df_losses.rename(columns={\n",
    "    'Unnamed: 0': 'datetime',\n",
    "})"
   ]
  },
  {
   "cell_type": "code",
   "execution_count": 59,
   "id": "debaab6c",
   "metadata": {},
   "outputs": [],
   "source": [
    "\n",
    "df_NTC['datetime'] = pd.to_datetime(df_NTC['datetime'])\n",
    "df_losses['datetime'] = pd.to_datetime(df_losses['datetime'])\n",
    "df_renewable['datetime'] = pd.to_datetime(df_renewable['datetime'])\n",
    "df_temp['datetime'] = pd.to_datetime(df_temp['datetime'])"
   ]
  },
  {
   "cell_type": "code",
   "execution_count": 60,
   "id": "8a9726cb",
   "metadata": {},
   "outputs": [],
   "source": [
    "df_losses['Wirkverluste/Active Losses'] = pd.to_numeric(df_losses['Wirkverluste/Active Losses'], errors='coerce')"
   ]
  },
  {
   "cell_type": "code",
   "execution_count": null,
   "id": "d422a9ae",
   "metadata": {},
   "outputs": [],
   "source": []
  },
  {
   "cell_type": "code",
   "execution_count": 61,
   "id": "2a3fe321",
   "metadata": {},
   "outputs": [
    {
     "name": "stdout",
     "output_type": "stream",
     "text": [
      "              datetime  Wirkverluste/Active Losses\n",
      "1  2019-01-01 00:00:00                39143.346123\n",
      "2  2019-01-01 00:15:00                32788.068958\n",
      "3  2019-01-01 00:30:00                33018.915678\n",
      "4  2019-01-01 00:45:00                34574.672936\n",
      "5  2019-01-01 01:00:00                33417.095550\n",
      "6  2019-01-01 01:15:00                34716.826297\n",
      "7  2019-01-01 01:30:00                31063.597739\n",
      "8  2019-01-01 01:45:00                30518.516417\n",
      "9  2019-01-01 02:00:00                33344.466641\n",
      "10 2019-01-01 02:15:00                33763.341624\n"
     ]
    }
   ],
   "source": [
    "# Convert \"Zeitstempel\" column to datetime format, if not already\n",
    "df_losses['datetime'] = pd.to_datetime(df_losses['datetime'])\n",
    "\n",
    "# Subtract 15 minutes from each date in the \"Zeitstempel\" column\n",
    "df_losses['datetime'] = df_losses['datetime'] - pd.Timedelta(minutes=15)\n",
    "\n",
    "# Print the modified dataframe\n",
    "print(df_losses.head(n=10))"
   ]
  },
  {
   "cell_type": "code",
   "execution_count": 62,
   "id": "19bc4c5b",
   "metadata": {},
   "outputs": [],
   "source": [
    "\n",
    "df_losses_new = df_losses.set_index('datetime')\n",
    "\n",
    "hourly_loss = df_losses_new.resample('1H', closed='left', label='left').sum()"
   ]
  },
  {
   "cell_type": "code",
   "execution_count": 63,
   "id": "a95296a3",
   "metadata": {},
   "outputs": [
    {
     "data": {
      "text/html": [
       "<div>\n",
       "<style scoped>\n",
       "    .dataframe tbody tr th:only-of-type {\n",
       "        vertical-align: middle;\n",
       "    }\n",
       "\n",
       "    .dataframe tbody tr th {\n",
       "        vertical-align: top;\n",
       "    }\n",
       "\n",
       "    .dataframe thead th {\n",
       "        text-align: right;\n",
       "    }\n",
       "</style>\n",
       "<table border=\"1\" class=\"dataframe\">\n",
       "  <thead>\n",
       "    <tr style=\"text-align: right;\">\n",
       "      <th></th>\n",
       "      <th>Wirkverluste/Active Losses</th>\n",
       "    </tr>\n",
       "    <tr>\n",
       "      <th>datetime</th>\n",
       "      <th></th>\n",
       "    </tr>\n",
       "  </thead>\n",
       "  <tbody>\n",
       "    <tr>\n",
       "      <th>2019-01-01 00:00:00</th>\n",
       "      <td>139525.003695</td>\n",
       "    </tr>\n",
       "    <tr>\n",
       "      <th>2019-01-01 01:00:00</th>\n",
       "      <td>129716.036003</td>\n",
       "    </tr>\n",
       "    <tr>\n",
       "      <th>2019-01-01 02:00:00</th>\n",
       "      <td>133398.074458</td>\n",
       "    </tr>\n",
       "    <tr>\n",
       "      <th>2019-01-01 03:00:00</th>\n",
       "      <td>135133.851731</td>\n",
       "    </tr>\n",
       "    <tr>\n",
       "      <th>2019-01-01 04:00:00</th>\n",
       "      <td>131699.424059</td>\n",
       "    </tr>\n",
       "    <tr>\n",
       "      <th>...</th>\n",
       "      <td>...</td>\n",
       "    </tr>\n",
       "    <tr>\n",
       "      <th>2021-12-31 19:00:00</th>\n",
       "      <td>171707.317615</td>\n",
       "    </tr>\n",
       "    <tr>\n",
       "      <th>2021-12-31 20:00:00</th>\n",
       "      <td>159462.903412</td>\n",
       "    </tr>\n",
       "    <tr>\n",
       "      <th>2021-12-31 21:00:00</th>\n",
       "      <td>155109.519730</td>\n",
       "    </tr>\n",
       "    <tr>\n",
       "      <th>2021-12-31 22:00:00</th>\n",
       "      <td>171370.276941</td>\n",
       "    </tr>\n",
       "    <tr>\n",
       "      <th>2021-12-31 23:00:00</th>\n",
       "      <td>146054.790821</td>\n",
       "    </tr>\n",
       "  </tbody>\n",
       "</table>\n",
       "<p>26304 rows × 1 columns</p>\n",
       "</div>"
      ],
      "text/plain": [
       "                     Wirkverluste/Active Losses\n",
       "datetime                                       \n",
       "2019-01-01 00:00:00               139525.003695\n",
       "2019-01-01 01:00:00               129716.036003\n",
       "2019-01-01 02:00:00               133398.074458\n",
       "2019-01-01 03:00:00               135133.851731\n",
       "2019-01-01 04:00:00               131699.424059\n",
       "...                                         ...\n",
       "2021-12-31 19:00:00               171707.317615\n",
       "2021-12-31 20:00:00               159462.903412\n",
       "2021-12-31 21:00:00               155109.519730\n",
       "2021-12-31 22:00:00               171370.276941\n",
       "2021-12-31 23:00:00               146054.790821\n",
       "\n",
       "[26304 rows x 1 columns]"
      ]
     },
     "execution_count": 63,
     "metadata": {},
     "output_type": "execute_result"
    }
   ],
   "source": [
    "hourly_loss"
   ]
  },
  {
   "cell_type": "code",
   "execution_count": null,
   "id": "ad70d17a",
   "metadata": {},
   "outputs": [],
   "source": []
  }
 ],
 "metadata": {
  "kernelspec": {
   "display_name": "Python 3 (ipykernel)",
   "language": "python",
   "name": "python3"
  },
  "language_info": {
   "codemirror_mode": {
    "name": "ipython",
    "version": 3
   },
   "file_extension": ".py",
   "mimetype": "text/x-python",
   "name": "python",
   "nbconvert_exporter": "python",
   "pygments_lexer": "ipython3",
   "version": "3.9.7"
  }
 },
 "nbformat": 4,
 "nbformat_minor": 5
}
