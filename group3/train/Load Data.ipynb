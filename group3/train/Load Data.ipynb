{
 "cells": [
  {
   "cell_type": "code",
   "execution_count": null,
   "id": "0039cfce",
   "metadata": {},
   "outputs": [],
   "source": [
    "from sklearn.model_selection import train_test_split\n",
    "import pandas as pd\n",
    "import lightgbm as lgb"
   ]
  },
  {
   "cell_type": "code",
   "execution_count": null,
   "id": "6a1d7a18",
   "metadata": {},
   "outputs": [],
   "source": [
    "pd.set_option('display.max_columns', None)"
   ]
  },
  {
   "cell_type": "code",
   "execution_count": null,
   "id": "0683307e",
   "metadata": {},
   "outputs": [],
   "source": [
    "################## Load ####################"
   ]
  },
  {
   "cell_type": "code",
   "execution_count": null,
   "id": "24968cc5",
   "metadata": {},
   "outputs": [],
   "source": [
    "#Active-Losses Data (Unit: kWh per 15 minutes)"
   ]
  },
  {
   "cell_type": "code",
   "execution_count": null,
   "id": "13b15ce7",
   "metadata": {},
   "outputs": [],
   "source": [
    "df = pd.read_csv(\"../../data/Avtice-losses.csv\")\n",
    "display(df)"
   ]
  },
  {
   "cell_type": "code",
   "execution_count": null,
   "id": "f11447ef",
   "metadata": {},
   "outputs": [],
   "source": [
    "#Forecast-Renewable-Generation (Unit: MW)"
   ]
  },
  {
   "cell_type": "code",
   "execution_count": null,
   "id": "185c0dc3",
   "metadata": {},
   "outputs": [],
   "source": []
  },
  {
   "cell_type": "code",
   "execution_count": null,
   "id": "670c8b3c",
   "metadata": {},
   "outputs": [],
   "source": [
    "df = pd.read_csv(\"../../data/Forecast-renewable-generation.csv\")\n",
    "display(df)"
   ]
  },
  {
   "cell_type": "code",
   "execution_count": null,
   "id": "4bd6b482",
   "metadata": {},
   "outputs": [],
   "source": [
    "#Forecast-Temperature (Unit: °C)"
   ]
  },
  {
   "cell_type": "code",
   "execution_count": null,
   "id": "6aa715db",
   "metadata": {},
   "outputs": [],
   "source": [
    "df = pd.read_csv(\"../../data/Forecast-temperature.csv\")\n",
    "display(df)"
   ]
  },
  {
   "cell_type": "code",
   "execution_count": null,
   "id": "5cf32df6",
   "metadata": {},
   "outputs": [],
   "source": [
    "# Load the data\n",
    "data = pd.read_csv(\"../../data/Forecast-temperature.csv\")\n",
    "\n",
    "# Convert the 'datetime' column to datetime format\n",
    "data['datetime'] = pd.to_datetime(data['datetime'])\n",
    "\n",
    "# Check if the data is already in 6-hour intervals\n",
    "if (data['datetime'].diff().dt.total_seconds() / 3600).median() == 6:\n",
    "    # If the data is in 6-hour intervals, leave the datetime column as it is\n",
    "    hourly_data = data\n",
    "else:\n",
    "    # If the data is not in 6-hour intervals, resample it to hourly intervals\n",
    "    hourly_data = data.resample('H', on='datetime').mean().reset_index()\n",
    "\n",
    "    # Fill missing values in other columns with the values from the initial 6-hourly data\n",
    "    columns_to_fill = hourly_data.columns.difference(['datetime'])\n",
    "    hourly_data[columns_to_fill] = hourly_data[columns_to_fill].fillna(method='ffill', limit=6)\n",
    "    # Replace '6' with the appropriate number if you want to fill more or fewer hours\n",
    "\n",
    "# Print the resulting hourly data\n",
    "display(hourly_data)\n",
    "hourly_data.to_csv('your_file.csv', index=False)"
   ]
  },
  {
   "cell_type": "code",
   "execution_count": null,
   "id": "cf70dd27",
   "metadata": {},
   "outputs": [],
   "source": [
    "len(hourly_data['datetime'].unique())"
   ]
  },
  {
   "cell_type": "code",
   "execution_count": null,
   "id": "c15a07b4",
   "metadata": {},
   "outputs": [],
   "source": [
    "#Load NTC (Net Transfer Capacity) Data (Unit: MW)"
   ]
  },
  {
   "cell_type": "code",
   "execution_count": null,
   "id": "7c47a7f9",
   "metadata": {},
   "outputs": [],
   "source": [
    "df = pd.read_csv(\"../../data/NTC.csv\")\n",
    "display(df)"
   ]
  },
  {
   "cell_type": "code",
   "execution_count": null,
   "id": "42788981",
   "metadata": {},
   "outputs": [],
   "source": [
    "len()"
   ]
  },
  {
   "cell_type": "code",
   "execution_count": null,
   "id": "f3488e8e",
   "metadata": {},
   "outputs": [],
   "source": [
    "################## Learning ####################"
   ]
  },
  {
   "cell_type": "code",
   "execution_count": null,
   "id": "be682f50",
   "metadata": {},
   "outputs": [],
   "source": [
    "import pandas as pd\n",
    "import lightgbm as lgb\n",
    "from sklearn.model_selection import train_test_split\n",
    "from sklearn.metrics import mean_squared_error\n",
    "\n",
    "# Load the Active Losses data\n",
    "losses_df = pd.read_csv(\"../../data/Avtice-losses.csv\")\n",
    "\n",
    "# Load the Forecast-Renewable-Generation data\n",
    "renewable_df = pd.read_csv(\"../../data/Forecast-renewable-generation.csv\")\n",
    "\n",
    "# Load the Forecast-Temperature data\n",
    "temperature_df = pd.read_csv(\"../../data/Forecast-temperature.csv\")\n",
    "\n",
    "# Load the NTC data\n",
    "ntc_df = pd.read_csv(\"../../data/NTC.csv\")"
   ]
  },
  {
   "cell_type": "code",
   "execution_count": null,
   "id": "cbca8dc4",
   "metadata": {},
   "outputs": [],
   "source": []
  },
  {
   "cell_type": "code",
   "execution_count": null,
   "id": "d5cc4277",
   "metadata": {},
   "outputs": [],
   "source": []
  },
  {
   "cell_type": "code",
   "execution_count": null,
   "id": "fb448f15",
   "metadata": {},
   "outputs": [],
   "source": []
  }
 ],
 "metadata": {
  "kernelspec": {
   "display_name": "Python 3 (ipykernel)",
   "language": "python",
   "name": "python3"
  },
  "language_info": {
   "codemirror_mode": {
    "name": "ipython",
    "version": 3
   },
   "file_extension": ".py",
   "mimetype": "text/x-python",
   "name": "python",
   "nbconvert_exporter": "python",
   "pygments_lexer": "ipython3",
   "version": "3.9.7"
  }
 },
 "nbformat": 4,
 "nbformat_minor": 5
}
