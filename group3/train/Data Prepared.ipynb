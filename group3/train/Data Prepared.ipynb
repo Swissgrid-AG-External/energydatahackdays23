{
 "cells": [
  {
   "cell_type": "code",
   "execution_count": 2,
   "id": "495b57fb",
   "metadata": {},
   "outputs": [],
   "source": [
    "import pandas as pd\n",
    "import os"
   ]
  },
  {
   "cell_type": "code",
   "execution_count": 3,
   "id": "c265e37e",
   "metadata": {},
   "outputs": [],
   "source": [
    "### Clean 'Avtice-losses.csv' ###"
   ]
  },
  {
   "cell_type": "code",
   "execution_count": 4,
   "id": "16bf5e08",
   "metadata": {},
   "outputs": [
    {
     "name": "stdout",
     "output_type": "stream",
     "text": [
      "/srv/train_group3/Shared\n",
      "           Zeitstempel           kWh\n",
      "0  2019-01-01 00:15:00  39143.346123\n",
      "1  2019-01-01 00:30:00  32788.068958\n",
      "2  2019-01-01 00:45:00  33018.915678\n",
      "3  2019-01-01 01:00:00  34574.672936\n",
      "4  2019-01-01 01:15:00  33417.095550\n"
     ]
    }
   ],
   "source": [
    "print(os.getcwd())\n",
    "data = pd.read_csv('../../data/Avtice-losses.csv', header=1)\n",
    "print(data.head(5))"
   ]
  },
  {
   "cell_type": "code",
   "execution_count": 5,
   "id": "03f7f89b",
   "metadata": {},
   "outputs": [],
   "source": [
    "#convert losses from kwh to mwh\n",
    "data['MWh']=data['kWh']/1000"
   ]
  },
  {
   "cell_type": "code",
   "execution_count": 6,
   "id": "6d6f4bda",
   "metadata": {},
   "outputs": [],
   "source": [
    "#convert quarter resolution to hourly resolution\n",
    "data['Zeitstempel'] = pd. to_datetime(data['Zeitstempel']) \n",
    "data['time_start'] = data['Zeitstempel']-pd.Timedelta(minutes=15)"
   ]
  },
  {
   "cell_type": "code",
   "execution_count": 7,
   "id": "ccfbc741",
   "metadata": {},
   "outputs": [],
   "source": [
    "data['hour'] = data['time_start'].apply(lambda x: x.strftime('%Y-%m-%d %H'))"
   ]
  },
  {
   "cell_type": "code",
   "execution_count": 8,
   "id": "a45ff819",
   "metadata": {},
   "outputs": [],
   "source": [
    "data_hour = data.groupby(['hour'])['MWh'].sum().reset_index()"
   ]
  },
  {
   "cell_type": "code",
   "execution_count": 9,
   "id": "b38b55ed",
   "metadata": {},
   "outputs": [
    {
     "data": {
      "text/html": [
       "<div>\n",
       "<style scoped>\n",
       "    .dataframe tbody tr th:only-of-type {\n",
       "        vertical-align: middle;\n",
       "    }\n",
       "\n",
       "    .dataframe tbody tr th {\n",
       "        vertical-align: top;\n",
       "    }\n",
       "\n",
       "    .dataframe thead th {\n",
       "        text-align: right;\n",
       "    }\n",
       "</style>\n",
       "<table border=\"1\" class=\"dataframe\">\n",
       "  <thead>\n",
       "    <tr style=\"text-align: right;\">\n",
       "      <th></th>\n",
       "      <th>hour</th>\n",
       "      <th>MWh</th>\n",
       "    </tr>\n",
       "  </thead>\n",
       "  <tbody>\n",
       "    <tr>\n",
       "      <th>0</th>\n",
       "      <td>2019-01-01 00</td>\n",
       "      <td>139.525004</td>\n",
       "    </tr>\n",
       "    <tr>\n",
       "      <th>1</th>\n",
       "      <td>2019-01-01 01</td>\n",
       "      <td>129.716036</td>\n",
       "    </tr>\n",
       "    <tr>\n",
       "      <th>2</th>\n",
       "      <td>2019-01-01 02</td>\n",
       "      <td>133.398074</td>\n",
       "    </tr>\n",
       "    <tr>\n",
       "      <th>3</th>\n",
       "      <td>2019-01-01 03</td>\n",
       "      <td>135.133852</td>\n",
       "    </tr>\n",
       "    <tr>\n",
       "      <th>4</th>\n",
       "      <td>2019-01-01 04</td>\n",
       "      <td>131.699424</td>\n",
       "    </tr>\n",
       "    <tr>\n",
       "      <th>...</th>\n",
       "      <td>...</td>\n",
       "      <td>...</td>\n",
       "    </tr>\n",
       "    <tr>\n",
       "      <th>26299</th>\n",
       "      <td>2021-12-31 19</td>\n",
       "      <td>171.707318</td>\n",
       "    </tr>\n",
       "    <tr>\n",
       "      <th>26300</th>\n",
       "      <td>2021-12-31 20</td>\n",
       "      <td>159.462903</td>\n",
       "    </tr>\n",
       "    <tr>\n",
       "      <th>26301</th>\n",
       "      <td>2021-12-31 21</td>\n",
       "      <td>155.109520</td>\n",
       "    </tr>\n",
       "    <tr>\n",
       "      <th>26302</th>\n",
       "      <td>2021-12-31 22</td>\n",
       "      <td>171.370277</td>\n",
       "    </tr>\n",
       "    <tr>\n",
       "      <th>26303</th>\n",
       "      <td>2021-12-31 23</td>\n",
       "      <td>146.054791</td>\n",
       "    </tr>\n",
       "  </tbody>\n",
       "</table>\n",
       "<p>26304 rows × 2 columns</p>\n",
       "</div>"
      ],
      "text/plain": [
       "                hour         MWh\n",
       "0      2019-01-01 00  139.525004\n",
       "1      2019-01-01 01  129.716036\n",
       "2      2019-01-01 02  133.398074\n",
       "3      2019-01-01 03  135.133852\n",
       "4      2019-01-01 04  131.699424\n",
       "...              ...         ...\n",
       "26299  2021-12-31 19  171.707318\n",
       "26300  2021-12-31 20  159.462903\n",
       "26301  2021-12-31 21  155.109520\n",
       "26302  2021-12-31 22  171.370277\n",
       "26303  2021-12-31 23  146.054791\n",
       "\n",
       "[26304 rows x 2 columns]"
      ]
     },
     "execution_count": 9,
     "metadata": {},
     "output_type": "execute_result"
    }
   ],
   "source": [
    "data_hour"
   ]
  },
  {
   "cell_type": "code",
   "execution_count": 19,
   "id": "0a3971f7",
   "metadata": {},
   "outputs": [],
   "source": [
    "### Clean 'Forecast-temperature.csv' ###"
   ]
  },
  {
   "cell_type": "code",
   "execution_count": null,
   "id": "4919903d",
   "metadata": {},
   "outputs": [],
   "source": [
    "# Load the data\n",
    "data = pd.read_csv(\"../../data/Forecast-temperature.csv\")\n",
    "\n",
    "# Convert the 'datetime' column to datetime format\n",
    "data['datetime'] = pd.to_datetime(data['datetime'])\n",
    "\n",
    "# Check if the data is already in 6-hour intervals\n",
    "if (data['datetime'].diff().dt.total_seconds() / 3600).median() == 6:\n",
    "    # If the data is in 6-hour intervals, leave the datetime column as it is\n",
    "    hourly_data = data\n",
    "else:\n",
    "    # If the data is not in 6-hour intervals, resample it to hourly intervals\n",
    "    hourly_data = data.resample('H', on='datetime').mean().reset_index()\n",
    "\n",
    "    # Fill missing values in other columns with the values from the initial 6-hourly data\n",
    "    columns_to_fill = hourly_data.columns.difference(['datetime'])\n",
    "    hourly_data[columns_to_fill] = hourly_data[columns_to_fill].fillna(method='ffill', limit=6)\n",
    "    # Replace '6' with the appropriate number if you want to fill more or fewer hours\n",
    "\n",
    "# Print the resulting hourly data\n",
    "display(hourly_data)"
   ]
  },
  {
   "cell_type": "code",
   "execution_count": null,
   "id": "9650a157",
   "metadata": {},
   "outputs": [],
   "source": []
  }
 ],
 "metadata": {
  "kernelspec": {
   "display_name": "Python 3 (ipykernel)",
   "language": "python",
   "name": "python3"
  },
  "language_info": {
   "codemirror_mode": {
    "name": "ipython",
    "version": 3
   },
   "file_extension": ".py",
   "mimetype": "text/x-python",
   "name": "python",
   "nbconvert_exporter": "python",
   "pygments_lexer": "ipython3",
   "version": "3.9.7"
  }
 },
 "nbformat": 4,
 "nbformat_minor": 5
}
