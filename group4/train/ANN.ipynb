{
 "cells": [
  {
   "cell_type": "markdown",
   "id": "081b04b7",
   "metadata": {},
   "source": [
    "## A - Data Import, resampling  and merging"
   ]
  },
  {
   "cell_type": "markdown",
   "id": "2b59786c",
   "metadata": {},
   "source": [
    "(1) Data losses"
   ]
  },
  {
   "cell_type": "code",
   "execution_count": 1,
   "id": "46796911",
   "metadata": {},
   "outputs": [],
   "source": [
    "import pandas as pd\n",
    "import datetime as dt\n",
    "\n",
    "df = pd.read_csv(\"../../data/Avtice-losses.csv\", header = 1, parse_dates = [\"Zeitstempel\"])\n",
    "df[\"Zeitstempel\"] = df[\"Zeitstempel\"] - dt.timedelta(minutes=15)\n",
    "df = df.groupby(\"Zeitstempel\", as_index=False).kWh.mean()\n",
    "df = df.resample(\"H\", on = \"Zeitstempel\").sum().reset_index()\n",
    "data_loss = df"
   ]
  },
  {
   "cell_type": "markdown",
   "id": "486f3684",
   "metadata": {},
   "source": [
    "(2) Renewable Generation"
   ]
  },
  {
   "cell_type": "code",
   "execution_count": 2,
   "id": "e9ae89a9",
   "metadata": {},
   "outputs": [],
   "source": [
    "data_renewable_generation = pd.read_csv(\"../../data/Forecast-renewable-generation.csv\", header = 0, parse_dates = [\"datetime\"])\n",
    "data_renewable_generation = data_renewable_generation.groupby(\"datetime\", as_index=False)[[col for col in data_renewable_generation.columns]].mean()\n",
    "#data_renewable_generation"
   ]
  },
  {
   "cell_type": "markdown",
   "id": "0e30c77b",
   "metadata": {},
   "source": [
    "(3) NTC"
   ]
  },
  {
   "cell_type": "code",
   "execution_count": 3,
   "id": "9ed51188",
   "metadata": {},
   "outputs": [],
   "source": [
    "data_NTC = pd.read_csv(\"../../data/NTC.csv\", header = 0, parse_dates = [\"datetime\"])\n",
    "data_NTC = data_NTC.groupby(\"datetime\", as_index=False)[[col for col in data_NTC.columns]].mean()\n",
    "#data_NTC"
   ]
  },
  {
   "cell_type": "markdown",
   "id": "528bb47b",
   "metadata": {},
   "source": [
    "(4) Temperatures"
   ]
  },
  {
   "cell_type": "code",
   "execution_count": 4,
   "id": "5ac06283",
   "metadata": {},
   "outputs": [],
   "source": [
    "df = pd.read_csv(\"../../data/Forecast-temperature_new.csv\", header = 0)\n",
    "\n",
    "df['datetime'] = pd.to_datetime(df['datetime'])\n",
    "start_time = '2019-01-01 01:00'\n",
    "end_time = '2021-12-31 23:00'\n",
    "hourly_range = pd.date_range(start=start_time, end=end_time, freq='H')\n",
    "df_resampled = pd.DataFrame({'datetime': hourly_range})\n",
    "df_resampled = df_resampled.merge(df, on=\"datetime\", how='left')\n",
    "df_resampled.interpolate(inplace=True, fill_value='extrapolate')\n",
    "data_temperatures = df_resampled\n",
    "#data_temperatures"
   ]
  },
  {
   "cell_type": "markdown",
   "id": "36e078ef",
   "metadata": {},
   "source": [
    "(5) Joins"
   ]
  },
  {
   "cell_type": "code",
   "execution_count": 5,
   "id": "ff3868a4",
   "metadata": {},
   "outputs": [],
   "source": [
    "data = data_temperatures.set_index(\"datetime\")\n",
    "data = data.join(data_renewable_generation.set_index(\"datetime\"))\n",
    "data = data.join(data_NTC.set_index(\"datetime\"))\n",
    "data = data.join(data_loss.set_index(\"Zeitstempel\"))"
   ]
  },
  {
   "cell_type": "code",
   "execution_count": 6,
   "id": "b24d1ed5",
   "metadata": {},
   "outputs": [
    {
     "data": {
      "text/html": [
       "<div>\n",
       "<style scoped>\n",
       "    .dataframe tbody tr th:only-of-type {\n",
       "        vertical-align: middle;\n",
       "    }\n",
       "\n",
       "    .dataframe tbody tr th {\n",
       "        vertical-align: top;\n",
       "    }\n",
       "\n",
       "    .dataframe thead th {\n",
       "        text-align: right;\n",
       "    }\n",
       "</style>\n",
       "<table border=\"1\" class=\"dataframe\">\n",
       "  <thead>\n",
       "    <tr style=\"text-align: right;\">\n",
       "      <th></th>\n",
       "      <th>temperature_fore_ch</th>\n",
       "      <th>temperature_fore_fr</th>\n",
       "      <th>temperature_fore_de</th>\n",
       "      <th>temperature_fore_it</th>\n",
       "      <th>solar_fore_de [MW]</th>\n",
       "      <th>solar_fore_it [MW]</th>\n",
       "      <th>wind_fore_de [MW]</th>\n",
       "      <th>wind_fore_it [MW]</th>\n",
       "      <th>CH_AT</th>\n",
       "      <th>CH_DE</th>\n",
       "      <th>CH_FR</th>\n",
       "      <th>CH_IT</th>\n",
       "      <th>AT_CH</th>\n",
       "      <th>DE_CH</th>\n",
       "      <th>FR_CH</th>\n",
       "      <th>IT_CH</th>\n",
       "      <th>kWh</th>\n",
       "    </tr>\n",
       "  </thead>\n",
       "  <tbody>\n",
       "    <tr>\n",
       "      <th>2019-01-01 01:00:00</th>\n",
       "      <td>4.1067</td>\n",
       "      <td>5.972900</td>\n",
       "      <td>7.426800</td>\n",
       "      <td>4.028100</td>\n",
       "      <td>0.0</td>\n",
       "      <td>0.0</td>\n",
       "      <td>23052.3310</td>\n",
       "      <td>4596.5916</td>\n",
       "      <td>700.0</td>\n",
       "      <td>4000.0</td>\n",
       "      <td>1200.0</td>\n",
       "      <td>2513.0</td>\n",
       "      <td>1200.0</td>\n",
       "      <td>800.0</td>\n",
       "      <td>3000.0</td>\n",
       "      <td>1910.0</td>\n",
       "      <td>129716.036003</td>\n",
       "    </tr>\n",
       "    <tr>\n",
       "      <th>2019-01-01 02:00:00</th>\n",
       "      <td>3.7155</td>\n",
       "      <td>5.900717</td>\n",
       "      <td>7.246083</td>\n",
       "      <td>3.811433</td>\n",
       "      <td>0.0</td>\n",
       "      <td>0.0</td>\n",
       "      <td>24969.9701</td>\n",
       "      <td>4478.5564</td>\n",
       "      <td>700.0</td>\n",
       "      <td>4000.0</td>\n",
       "      <td>1200.0</td>\n",
       "      <td>2513.0</td>\n",
       "      <td>1200.0</td>\n",
       "      <td>800.0</td>\n",
       "      <td>3000.0</td>\n",
       "      <td>1910.0</td>\n",
       "      <td>133398.074458</td>\n",
       "    </tr>\n",
       "    <tr>\n",
       "      <th>2019-01-01 03:00:00</th>\n",
       "      <td>3.3243</td>\n",
       "      <td>5.828533</td>\n",
       "      <td>7.065367</td>\n",
       "      <td>3.594767</td>\n",
       "      <td>0.0</td>\n",
       "      <td>0.0</td>\n",
       "      <td>27082.9626</td>\n",
       "      <td>4323.3712</td>\n",
       "      <td>700.0</td>\n",
       "      <td>4000.0</td>\n",
       "      <td>1200.0</td>\n",
       "      <td>2513.0</td>\n",
       "      <td>1200.0</td>\n",
       "      <td>800.0</td>\n",
       "      <td>3000.0</td>\n",
       "      <td>1910.0</td>\n",
       "      <td>135133.851731</td>\n",
       "    </tr>\n",
       "    <tr>\n",
       "      <th>2019-01-01 04:00:00</th>\n",
       "      <td>2.9331</td>\n",
       "      <td>5.756350</td>\n",
       "      <td>6.884650</td>\n",
       "      <td>3.378100</td>\n",
       "      <td>0.0</td>\n",
       "      <td>0.0</td>\n",
       "      <td>26890.9717</td>\n",
       "      <td>4231.8283</td>\n",
       "      <td>700.0</td>\n",
       "      <td>4000.0</td>\n",
       "      <td>1200.0</td>\n",
       "      <td>2513.0</td>\n",
       "      <td>1200.0</td>\n",
       "      <td>800.0</td>\n",
       "      <td>3000.0</td>\n",
       "      <td>1910.0</td>\n",
       "      <td>131699.424059</td>\n",
       "    </tr>\n",
       "    <tr>\n",
       "      <th>2019-01-01 05:00:00</th>\n",
       "      <td>2.5419</td>\n",
       "      <td>5.684167</td>\n",
       "      <td>6.703933</td>\n",
       "      <td>3.161433</td>\n",
       "      <td>0.0</td>\n",
       "      <td>0.0</td>\n",
       "      <td>27740.1555</td>\n",
       "      <td>4266.3082</td>\n",
       "      <td>700.0</td>\n",
       "      <td>4000.0</td>\n",
       "      <td>1200.0</td>\n",
       "      <td>2513.0</td>\n",
       "      <td>1200.0</td>\n",
       "      <td>800.0</td>\n",
       "      <td>3000.0</td>\n",
       "      <td>1910.0</td>\n",
       "      <td>147391.128153</td>\n",
       "    </tr>\n",
       "    <tr>\n",
       "      <th>...</th>\n",
       "      <td>...</td>\n",
       "      <td>...</td>\n",
       "      <td>...</td>\n",
       "      <td>...</td>\n",
       "      <td>...</td>\n",
       "      <td>...</td>\n",
       "      <td>...</td>\n",
       "      <td>...</td>\n",
       "      <td>...</td>\n",
       "      <td>...</td>\n",
       "      <td>...</td>\n",
       "      <td>...</td>\n",
       "      <td>...</td>\n",
       "      <td>...</td>\n",
       "      <td>...</td>\n",
       "      <td>...</td>\n",
       "      <td>...</td>\n",
       "    </tr>\n",
       "    <tr>\n",
       "      <th>2021-12-31 19:00:00</th>\n",
       "      <td>8.5300</td>\n",
       "      <td>9.960000</td>\n",
       "      <td>10.790000</td>\n",
       "      <td>9.590000</td>\n",
       "      <td>0.0</td>\n",
       "      <td>0.0</td>\n",
       "      <td>36997.7200</td>\n",
       "      <td>1108.4000</td>\n",
       "      <td>1200.0</td>\n",
       "      <td>4000.0</td>\n",
       "      <td>1400.0</td>\n",
       "      <td>4069.0</td>\n",
       "      <td>1200.0</td>\n",
       "      <td>800.0</td>\n",
       "      <td>3200.0</td>\n",
       "      <td>1810.0</td>\n",
       "      <td>171707.317615</td>\n",
       "    </tr>\n",
       "    <tr>\n",
       "      <th>2021-12-31 20:00:00</th>\n",
       "      <td>8.0000</td>\n",
       "      <td>9.400000</td>\n",
       "      <td>10.630000</td>\n",
       "      <td>9.110000</td>\n",
       "      <td>0.0</td>\n",
       "      <td>0.0</td>\n",
       "      <td>35666.9300</td>\n",
       "      <td>1077.9700</td>\n",
       "      <td>1200.0</td>\n",
       "      <td>4000.0</td>\n",
       "      <td>1400.0</td>\n",
       "      <td>4069.0</td>\n",
       "      <td>1200.0</td>\n",
       "      <td>800.0</td>\n",
       "      <td>3200.0</td>\n",
       "      <td>1810.0</td>\n",
       "      <td>159462.903412</td>\n",
       "    </tr>\n",
       "    <tr>\n",
       "      <th>2021-12-31 21:00:00</th>\n",
       "      <td>7.5000</td>\n",
       "      <td>8.880000</td>\n",
       "      <td>10.510000</td>\n",
       "      <td>8.670000</td>\n",
       "      <td>0.0</td>\n",
       "      <td>0.0</td>\n",
       "      <td>34383.8800</td>\n",
       "      <td>1048.2800</td>\n",
       "      <td>1200.0</td>\n",
       "      <td>4000.0</td>\n",
       "      <td>1400.0</td>\n",
       "      <td>3953.0</td>\n",
       "      <td>1200.0</td>\n",
       "      <td>800.0</td>\n",
       "      <td>3200.0</td>\n",
       "      <td>1810.0</td>\n",
       "      <td>155109.519730</td>\n",
       "    </tr>\n",
       "    <tr>\n",
       "      <th>2021-12-31 22:00:00</th>\n",
       "      <td>6.9700</td>\n",
       "      <td>8.510000</td>\n",
       "      <td>10.320000</td>\n",
       "      <td>8.140000</td>\n",
       "      <td>0.0</td>\n",
       "      <td>0.0</td>\n",
       "      <td>33075.2500</td>\n",
       "      <td>1078.7800</td>\n",
       "      <td>1200.0</td>\n",
       "      <td>4000.0</td>\n",
       "      <td>1400.0</td>\n",
       "      <td>3780.0</td>\n",
       "      <td>1200.0</td>\n",
       "      <td>800.0</td>\n",
       "      <td>3200.0</td>\n",
       "      <td>1810.0</td>\n",
       "      <td>171370.276941</td>\n",
       "    </tr>\n",
       "    <tr>\n",
       "      <th>2021-12-31 23:00:00</th>\n",
       "      <td>6.7900</td>\n",
       "      <td>8.220000</td>\n",
       "      <td>10.230000</td>\n",
       "      <td>7.670000</td>\n",
       "      <td>0.0</td>\n",
       "      <td>0.0</td>\n",
       "      <td>32350.7300</td>\n",
       "      <td>1188.4300</td>\n",
       "      <td>1200.0</td>\n",
       "      <td>4000.0</td>\n",
       "      <td>1400.0</td>\n",
       "      <td>2992.0</td>\n",
       "      <td>1200.0</td>\n",
       "      <td>800.0</td>\n",
       "      <td>3200.0</td>\n",
       "      <td>1910.0</td>\n",
       "      <td>146054.790821</td>\n",
       "    </tr>\n",
       "  </tbody>\n",
       "</table>\n",
       "<p>26304 rows × 17 columns</p>\n",
       "</div>"
      ],
      "text/plain": [
       "                     temperature_fore_ch  temperature_fore_fr  \\\n",
       "2019-01-01 01:00:00               4.1067             5.972900   \n",
       "2019-01-01 02:00:00               3.7155             5.900717   \n",
       "2019-01-01 03:00:00               3.3243             5.828533   \n",
       "2019-01-01 04:00:00               2.9331             5.756350   \n",
       "2019-01-01 05:00:00               2.5419             5.684167   \n",
       "...                                  ...                  ...   \n",
       "2021-12-31 19:00:00               8.5300             9.960000   \n",
       "2021-12-31 20:00:00               8.0000             9.400000   \n",
       "2021-12-31 21:00:00               7.5000             8.880000   \n",
       "2021-12-31 22:00:00               6.9700             8.510000   \n",
       "2021-12-31 23:00:00               6.7900             8.220000   \n",
       "\n",
       "                     temperature_fore_de  temperature_fore_it  \\\n",
       "2019-01-01 01:00:00             7.426800             4.028100   \n",
       "2019-01-01 02:00:00             7.246083             3.811433   \n",
       "2019-01-01 03:00:00             7.065367             3.594767   \n",
       "2019-01-01 04:00:00             6.884650             3.378100   \n",
       "2019-01-01 05:00:00             6.703933             3.161433   \n",
       "...                                  ...                  ...   \n",
       "2021-12-31 19:00:00            10.790000             9.590000   \n",
       "2021-12-31 20:00:00            10.630000             9.110000   \n",
       "2021-12-31 21:00:00            10.510000             8.670000   \n",
       "2021-12-31 22:00:00            10.320000             8.140000   \n",
       "2021-12-31 23:00:00            10.230000             7.670000   \n",
       "\n",
       "                     solar_fore_de [MW]  solar_fore_it [MW]  \\\n",
       "2019-01-01 01:00:00                 0.0                 0.0   \n",
       "2019-01-01 02:00:00                 0.0                 0.0   \n",
       "2019-01-01 03:00:00                 0.0                 0.0   \n",
       "2019-01-01 04:00:00                 0.0                 0.0   \n",
       "2019-01-01 05:00:00                 0.0                 0.0   \n",
       "...                                 ...                 ...   \n",
       "2021-12-31 19:00:00                 0.0                 0.0   \n",
       "2021-12-31 20:00:00                 0.0                 0.0   \n",
       "2021-12-31 21:00:00                 0.0                 0.0   \n",
       "2021-12-31 22:00:00                 0.0                 0.0   \n",
       "2021-12-31 23:00:00                 0.0                 0.0   \n",
       "\n",
       "                     wind_fore_de [MW]  wind_fore_it [MW]   CH_AT   CH_DE  \\\n",
       "2019-01-01 01:00:00         23052.3310          4596.5916   700.0  4000.0   \n",
       "2019-01-01 02:00:00         24969.9701          4478.5564   700.0  4000.0   \n",
       "2019-01-01 03:00:00         27082.9626          4323.3712   700.0  4000.0   \n",
       "2019-01-01 04:00:00         26890.9717          4231.8283   700.0  4000.0   \n",
       "2019-01-01 05:00:00         27740.1555          4266.3082   700.0  4000.0   \n",
       "...                                ...                ...     ...     ...   \n",
       "2021-12-31 19:00:00         36997.7200          1108.4000  1200.0  4000.0   \n",
       "2021-12-31 20:00:00         35666.9300          1077.9700  1200.0  4000.0   \n",
       "2021-12-31 21:00:00         34383.8800          1048.2800  1200.0  4000.0   \n",
       "2021-12-31 22:00:00         33075.2500          1078.7800  1200.0  4000.0   \n",
       "2021-12-31 23:00:00         32350.7300          1188.4300  1200.0  4000.0   \n",
       "\n",
       "                      CH_FR   CH_IT   AT_CH  DE_CH   FR_CH   IT_CH  \\\n",
       "2019-01-01 01:00:00  1200.0  2513.0  1200.0  800.0  3000.0  1910.0   \n",
       "2019-01-01 02:00:00  1200.0  2513.0  1200.0  800.0  3000.0  1910.0   \n",
       "2019-01-01 03:00:00  1200.0  2513.0  1200.0  800.0  3000.0  1910.0   \n",
       "2019-01-01 04:00:00  1200.0  2513.0  1200.0  800.0  3000.0  1910.0   \n",
       "2019-01-01 05:00:00  1200.0  2513.0  1200.0  800.0  3000.0  1910.0   \n",
       "...                     ...     ...     ...    ...     ...     ...   \n",
       "2021-12-31 19:00:00  1400.0  4069.0  1200.0  800.0  3200.0  1810.0   \n",
       "2021-12-31 20:00:00  1400.0  4069.0  1200.0  800.0  3200.0  1810.0   \n",
       "2021-12-31 21:00:00  1400.0  3953.0  1200.0  800.0  3200.0  1810.0   \n",
       "2021-12-31 22:00:00  1400.0  3780.0  1200.0  800.0  3200.0  1810.0   \n",
       "2021-12-31 23:00:00  1400.0  2992.0  1200.0  800.0  3200.0  1910.0   \n",
       "\n",
       "                               kWh  \n",
       "2019-01-01 01:00:00  129716.036003  \n",
       "2019-01-01 02:00:00  133398.074458  \n",
       "2019-01-01 03:00:00  135133.851731  \n",
       "2019-01-01 04:00:00  131699.424059  \n",
       "2019-01-01 05:00:00  147391.128153  \n",
       "...                            ...  \n",
       "2021-12-31 19:00:00  171707.317615  \n",
       "2021-12-31 20:00:00  159462.903412  \n",
       "2021-12-31 21:00:00  155109.519730  \n",
       "2021-12-31 22:00:00  171370.276941  \n",
       "2021-12-31 23:00:00  146054.790821  \n",
       "\n",
       "[26304 rows x 17 columns]"
      ]
     },
     "execution_count": 6,
     "metadata": {},
     "output_type": "execute_result"
    }
   ],
   "source": [
    "data"
   ]
  },
  {
   "cell_type": "markdown",
   "id": "e9100085",
   "metadata": {},
   "source": [
    "## B - Fully Connected ANN"
   ]
  },
  {
   "cell_type": "code",
   "execution_count": 7,
   "id": "8c3ef8c2",
   "metadata": {},
   "outputs": [
    {
     "name": "stderr",
     "output_type": "stream",
     "text": [
      "2023-09-16 05:59:37.573917: I tensorflow/tsl/cuda/cudart_stub.cc:28] Could not find cuda drivers on your machine, GPU will not be used.\n",
      "2023-09-16 05:59:37.602961: I tensorflow/tsl/cuda/cudart_stub.cc:28] Could not find cuda drivers on your machine, GPU will not be used.\n",
      "2023-09-16 05:59:37.603877: I tensorflow/core/platform/cpu_feature_guard.cc:182] This TensorFlow binary is optimized to use available CPU instructions in performance-critical operations.\n",
      "To enable the following instructions: AVX2 FMA, in other operations, rebuild TensorFlow with the appropriate compiler flags.\n",
      "2023-09-16 05:59:38.165748: W tensorflow/compiler/tf2tensorrt/utils/py_utils.cc:38] TF-TRT Warning: Could not find TensorRT\n"
     ]
    }
   ],
   "source": [
    "import numpy as np\n",
    "import tensorflow as tf\n",
    "import sklearn"
   ]
  },
  {
   "cell_type": "code",
   "execution_count": 125,
   "id": "fcd73082",
   "metadata": {},
   "outputs": [],
   "source": [
    "#X = data.iloc[:, :-1].values\n",
    "X = data.iloc[:, 1:2].values\n",
    "y = data.iloc[:, 16:17].values"
   ]
  },
  {
   "cell_type": "code",
   "execution_count": 154,
   "id": "a1f3bee6",
   "metadata": {},
   "outputs": [],
   "source": [
    "X = data[[col for col in data.columns if col != \"kWh\"]]\n",
    "\n",
    "    \n",
    "    \n",
    "y = data[\"kWh\"].shift(-1)\n",
    "\n",
    "\n",
    "filter_na = y.notna()\n",
    "X = X[filter_na]\n",
    "y = y[filter_na]\n",
    "\n",
    "X = X.to_numpy()\n",
    "y = np.expand_dims(y.to_numpy(), axis=1)\n",
    "\n",
    "filt = np.array([not any(x) for x in np.isnan(X)])\n",
    "X = X[filt]\n",
    "y = y[filt]"
   ]
  },
  {
   "cell_type": "code",
   "execution_count": 155,
   "id": "c067e549",
   "metadata": {},
   "outputs": [
    {
     "name": "stdout",
     "output_type": "stream",
     "text": [
      "[[   4.1067        5.9729        7.4268     ...  800.\n",
      "  3000.         1910.        ]\n",
      " [   3.7155        5.90071667    7.24608333 ...  800.\n",
      "  3000.         1910.        ]\n",
      " [   3.3243        5.82853333    7.06536667 ...  800.\n",
      "  3000.         1910.        ]\n",
      " ...\n",
      " [   8.            9.4          10.63       ...  800.\n",
      "  3200.         1810.        ]\n",
      " [   7.5           8.88         10.51       ...  800.\n",
      "  3200.         1810.        ]\n",
      " [   6.97          8.51         10.32       ...  800.\n",
      "  3200.         1810.        ]]\n"
     ]
    }
   ],
   "source": [
    "print(X)"
   ]
  },
  {
   "cell_type": "code",
   "execution_count": 156,
   "id": "464d72d2",
   "metadata": {},
   "outputs": [
    {
     "name": "stdout",
     "output_type": "stream",
     "text": [
      "[[133398.074458]\n",
      " [135133.851731]\n",
      " [131699.424059]\n",
      " ...\n",
      " [155109.51973 ]\n",
      " [171370.276941]\n",
      " [146054.790821]]\n"
     ]
    }
   ],
   "source": [
    "print(y)"
   ]
  },
  {
   "cell_type": "markdown",
   "id": "912d70e2",
   "metadata": {},
   "source": [
    "(1) Splitting the dataset into the Training set and Test set"
   ]
  },
  {
   "cell_type": "code",
   "execution_count": 157,
   "id": "9473b945",
   "metadata": {},
   "outputs": [],
   "source": [
    "#from sklearn.model_selection import train_test_splitANN\n",
    "X_train, X_test, y_train, y_test = sklearn.model_selection.train_test_split(X, y, test_size = 0.2, random_state = 0)"
   ]
  },
  {
   "cell_type": "code",
   "execution_count": 158,
   "id": "9794b940",
   "metadata": {},
   "outputs": [
    {
     "data": {
      "text/plain": [
       "array([[  16.32146667,   19.1934    ,   13.8675    , ..., 1200.        ,\n",
       "        3000.        , 1660.        ],\n",
       "       [  13.63483333,   16.93025   ,   15.44523333, ..., 1800.        ,\n",
       "        2500.        , 1440.        ],\n",
       "       [   3.92      ,    6.52      ,    6.15      , ..., 1273.        ,\n",
       "        2385.        , 1910.        ],\n",
       "       ...,\n",
       "       [   8.91      ,   11.64      ,    8.73      , ..., 1800.        ,\n",
       "        3000.        , 1810.        ],\n",
       "       [  14.08716667,   16.9256    ,   12.5264    , ..., 1800.        ,\n",
       "        2294.        , 1660.        ],\n",
       "       [  14.9       ,   14.34      ,   18.1       , ..., 2000.        ,\n",
       "        2900.        , 1440.        ]])"
      ]
     },
     "execution_count": 158,
     "metadata": {},
     "output_type": "execute_result"
    }
   ],
   "source": [
    "X_test"
   ]
  },
  {
   "cell_type": "code",
   "execution_count": 159,
   "id": "695d1502",
   "metadata": {},
   "outputs": [
    {
     "data": {
      "text/plain": [
       "array([[ 87883.549041],\n",
       "       [209884.830109],\n",
       "       [185278.989182],\n",
       "       ...,\n",
       "       [157128.98015 ],\n",
       "       [ 59554.920753],\n",
       "       [ 47244.277699]])"
      ]
     },
     "execution_count": 159,
     "metadata": {},
     "output_type": "execute_result"
    }
   ],
   "source": [
    "y_train"
   ]
  },
  {
   "cell_type": "markdown",
   "id": "170a2632",
   "metadata": {},
   "source": [
    "(2) Feature scaling"
   ]
  },
  {
   "cell_type": "code",
   "execution_count": 176,
   "id": "80fd555e",
   "metadata": {},
   "outputs": [],
   "source": [
    "# Feature Scaling\n",
    "from sklearn.preprocessing import StandardScaler\n",
    "sc_X = StandardScaler()\n",
    "X_train = sc_X.fit_transform(X_train)\n",
    "X_test = sc_X.transform(X_test)\n",
    "\n",
    "sc_y = StandardScaler()\n",
    "y_train = sc_y.fit_transform(y_train)\n",
    "y_test = sc_y.transform(y_test)\n"
   ]
  },
  {
   "cell_type": "code",
   "execution_count": 177,
   "id": "40ed30f6",
   "metadata": {},
   "outputs": [
    {
     "data": {
      "text/plain": [
       "array([[ 0.74892281,  0.8646145 ,  0.44683086, ..., -0.24180169,\n",
       "         0.39959074, -0.35557691],\n",
       "       [ 0.3909607 ,  0.53051136,  0.66523332, ...,  1.00385721,\n",
       "        -0.9308372 , -1.60488953],\n",
       "       [-0.90342591, -1.00632768, -0.62148721, ..., -0.09024653,\n",
       "        -1.23683562,  1.06409652],\n",
       "       ...,\n",
       "       [-0.23856744, -0.25047495, -0.26434298, ...,  1.00385721,\n",
       "         0.39959074,  0.49622714],\n",
       "       [ 0.45122877,  0.52982489,  0.26118507, ...,  1.00385721,\n",
       "        -1.47897351, -0.35557691],\n",
       "       [ 0.55952919,  0.14811926,  1.03272735, ...,  1.41907685,\n",
       "         0.13350516, -1.60488953]])"
      ]
     },
     "execution_count": 177,
     "metadata": {},
     "output_type": "execute_result"
    }
   ],
   "source": [
    "X_test"
   ]
  },
  {
   "cell_type": "markdown",
   "id": "14b0d9e6",
   "metadata": {},
   "source": [
    "(3) Build the model"
   ]
  },
  {
   "cell_type": "code",
   "execution_count": 178,
   "id": "d57b1d8e",
   "metadata": {},
   "outputs": [],
   "source": [
    "# a - Initializing the ANN\n",
    "ann = tf.keras.models.Sequential()\n",
    "# b - Adding the input layer and the first hidden layer\n",
    "ann.add(tf.keras.layers.Dense(units=32, activation='relu'))\n",
    "# c - Adding the second hidden layer\n",
    "ann.add(tf.keras.layers.Dense(units=32, activation='relu'))\n",
    "# d - Adding the output layer\n",
    "ann.add(tf.keras.layers.Dense(units=1))"
   ]
  },
  {
   "cell_type": "markdown",
   "id": "74c1cac4",
   "metadata": {},
   "source": [
    "(4) Training the ANN"
   ]
  },
  {
   "cell_type": "code",
   "execution_count": 179,
   "id": "756d91a1",
   "metadata": {},
   "outputs": [],
   "source": [
    "loss_fn = tf.keras.losses.SparseCategoricalCrossentropy(from_logits=True)"
   ]
  },
  {
   "cell_type": "code",
   "execution_count": 180,
   "id": "9b54af5a",
   "metadata": {},
   "outputs": [
    {
     "name": "stdout",
     "output_type": "stream",
     "text": [
      "Epoch 1/100\n",
      "658/658 [==============================] - 1s 862us/step - loss: 0.5544 - mse: 0.5544\n",
      "Epoch 2/100\n",
      "658/658 [==============================] - 1s 841us/step - loss: 0.4755 - mse: 0.4755\n",
      "Epoch 3/100\n",
      "658/658 [==============================] - 1s 840us/step - loss: 0.4538 - mse: 0.4538\n",
      "Epoch 4/100\n",
      "658/658 [==============================] - 1s 838us/step - loss: 0.4405 - mse: 0.4405\n",
      "Epoch 5/100\n",
      "658/658 [==============================] - 1s 855us/step - loss: 0.4271 - mse: 0.4271\n",
      "Epoch 6/100\n",
      "658/658 [==============================] - 1s 851us/step - loss: 0.4183 - mse: 0.4183\n",
      "Epoch 7/100\n",
      "658/658 [==============================] - 1s 850us/step - loss: 0.4111 - mse: 0.4111\n",
      "Epoch 8/100\n",
      "658/658 [==============================] - 1s 858us/step - loss: 0.4033 - mse: 0.4033\n",
      "Epoch 9/100\n",
      "658/658 [==============================] - 1s 853us/step - loss: 0.3988 - mse: 0.3988\n",
      "Epoch 10/100\n",
      "658/658 [==============================] - 1s 847us/step - loss: 0.3920 - mse: 0.3920\n",
      "Epoch 11/100\n",
      "658/658 [==============================] - 1s 837us/step - loss: 0.3855 - mse: 0.3855\n",
      "Epoch 12/100\n",
      "658/658 [==============================] - 1s 843us/step - loss: 0.3814 - mse: 0.3814\n",
      "Epoch 13/100\n",
      "658/658 [==============================] - 1s 844us/step - loss: 0.3769 - mse: 0.3769\n",
      "Epoch 14/100\n",
      "658/658 [==============================] - 1s 839us/step - loss: 0.3729 - mse: 0.3729\n",
      "Epoch 15/100\n",
      "658/658 [==============================] - 1s 839us/step - loss: 0.3698 - mse: 0.3698\n",
      "Epoch 16/100\n",
      "658/658 [==============================] - 1s 858us/step - loss: 0.3675 - mse: 0.3675\n",
      "Epoch 17/100\n",
      "658/658 [==============================] - 1s 863us/step - loss: 0.3635 - mse: 0.3635\n",
      "Epoch 18/100\n",
      "658/658 [==============================] - 1s 860us/step - loss: 0.3606 - mse: 0.3606\n",
      "Epoch 19/100\n",
      "658/658 [==============================] - 1s 861us/step - loss: 0.3569 - mse: 0.3569\n",
      "Epoch 20/100\n",
      "658/658 [==============================] - 1s 861us/step - loss: 0.3541 - mse: 0.3541\n",
      "Epoch 21/100\n",
      "658/658 [==============================] - 1s 862us/step - loss: 0.3521 - mse: 0.3521\n",
      "Epoch 22/100\n",
      "658/658 [==============================] - 1s 862us/step - loss: 0.3487 - mse: 0.3487\n",
      "Epoch 23/100\n",
      "658/658 [==============================] - 1s 853us/step - loss: 0.3470 - mse: 0.3470\n",
      "Epoch 24/100\n",
      "658/658 [==============================] - 1s 858us/step - loss: 0.3445 - mse: 0.3445\n",
      "Epoch 25/100\n",
      "658/658 [==============================] - 1s 853us/step - loss: 0.3430 - mse: 0.3430\n",
      "Epoch 26/100\n",
      "658/658 [==============================] - 1s 862us/step - loss: 0.3399 - mse: 0.3399\n",
      "Epoch 27/100\n",
      "658/658 [==============================] - 1s 862us/step - loss: 0.3394 - mse: 0.3394\n",
      "Epoch 28/100\n",
      "658/658 [==============================] - 1s 860us/step - loss: 0.3365 - mse: 0.3365\n",
      "Epoch 29/100\n",
      "658/658 [==============================] - 1s 834us/step - loss: 0.3342 - mse: 0.3342\n",
      "Epoch 30/100\n",
      "658/658 [==============================] - 1s 828us/step - loss: 0.3336 - mse: 0.3336\n",
      "Epoch 31/100\n",
      "658/658 [==============================] - 1s 829us/step - loss: 0.3307 - mse: 0.3307\n",
      "Epoch 32/100\n",
      "658/658 [==============================] - 1s 829us/step - loss: 0.3307 - mse: 0.3307\n",
      "Epoch 33/100\n",
      "658/658 [==============================] - 1s 827us/step - loss: 0.3281 - mse: 0.3281\n",
      "Epoch 34/100\n",
      "658/658 [==============================] - 1s 820us/step - loss: 0.3271 - mse: 0.3271\n",
      "Epoch 35/100\n",
      "658/658 [==============================] - 1s 817us/step - loss: 0.3258 - mse: 0.3258\n",
      "Epoch 36/100\n",
      "658/658 [==============================] - 1s 825us/step - loss: 0.3238 - mse: 0.3238\n",
      "Epoch 37/100\n",
      "658/658 [==============================] - 1s 824us/step - loss: 0.3216 - mse: 0.3216\n",
      "Epoch 38/100\n",
      "658/658 [==============================] - 1s 821us/step - loss: 0.3207 - mse: 0.3207\n",
      "Epoch 39/100\n",
      "658/658 [==============================] - 1s 821us/step - loss: 0.3211 - mse: 0.3211\n",
      "Epoch 40/100\n",
      "658/658 [==============================] - 1s 834us/step - loss: 0.3183 - mse: 0.3183\n",
      "Epoch 41/100\n",
      "658/658 [==============================] - 1s 830us/step - loss: 0.3190 - mse: 0.3190\n",
      "Epoch 42/100\n",
      "658/658 [==============================] - 1s 827us/step - loss: 0.3188 - mse: 0.3188\n",
      "Epoch 43/100\n",
      "658/658 [==============================] - 1s 826us/step - loss: 0.3175 - mse: 0.3175\n",
      "Epoch 44/100\n",
      "658/658 [==============================] - 1s 827us/step - loss: 0.3144 - mse: 0.3144\n",
      "Epoch 45/100\n",
      "658/658 [==============================] - 1s 837us/step - loss: 0.3146 - mse: 0.3146\n",
      "Epoch 46/100\n",
      "658/658 [==============================] - 1s 827us/step - loss: 0.3145 - mse: 0.3145\n",
      "Epoch 47/100\n",
      "658/658 [==============================] - 1s 831us/step - loss: 0.3122 - mse: 0.3122\n",
      "Epoch 48/100\n",
      "658/658 [==============================] - 1s 829us/step - loss: 0.3122 - mse: 0.3122\n",
      "Epoch 49/100\n",
      "658/658 [==============================] - 1s 829us/step - loss: 0.3114 - mse: 0.3114\n",
      "Epoch 50/100\n",
      "658/658 [==============================] - 1s 821us/step - loss: 0.3110 - mse: 0.3110\n",
      "Epoch 51/100\n",
      "658/658 [==============================] - 1s 822us/step - loss: 0.3099 - mse: 0.3099\n",
      "Epoch 52/100\n",
      "658/658 [==============================] - 1s 827us/step - loss: 0.3072 - mse: 0.3072\n",
      "Epoch 53/100\n",
      "658/658 [==============================] - 1s 841us/step - loss: 0.3078 - mse: 0.3078\n",
      "Epoch 54/100\n",
      "658/658 [==============================] - 1s 839us/step - loss: 0.3063 - mse: 0.3063\n",
      "Epoch 55/100\n",
      "658/658 [==============================] - 1s 815us/step - loss: 0.3066 - mse: 0.3066\n",
      "Epoch 56/100\n",
      "658/658 [==============================] - 1s 825us/step - loss: 0.3060 - mse: 0.3060\n",
      "Epoch 57/100\n",
      "658/658 [==============================] - 1s 830us/step - loss: 0.3046 - mse: 0.3046\n",
      "Epoch 58/100\n",
      "658/658 [==============================] - 1s 832us/step - loss: 0.3049 - mse: 0.3049\n",
      "Epoch 59/100\n",
      "658/658 [==============================] - 1s 842us/step - loss: 0.3046 - mse: 0.3046\n",
      "Epoch 60/100\n",
      "658/658 [==============================] - 1s 835us/step - loss: 0.3021 - mse: 0.3021\n",
      "Epoch 61/100\n",
      "658/658 [==============================] - 1s 828us/step - loss: 0.3036 - mse: 0.3036\n",
      "Epoch 62/100\n",
      "658/658 [==============================] - 1s 829us/step - loss: 0.3018 - mse: 0.3018\n",
      "Epoch 63/100\n",
      "658/658 [==============================] - 1s 831us/step - loss: 0.3015 - mse: 0.3015\n",
      "Epoch 64/100\n",
      "658/658 [==============================] - 1s 830us/step - loss: 0.2999 - mse: 0.2999\n",
      "Epoch 65/100\n",
      "658/658 [==============================] - 1s 826us/step - loss: 0.2997 - mse: 0.2997\n",
      "Epoch 66/100\n",
      "658/658 [==============================] - 1s 821us/step - loss: 0.2986 - mse: 0.2986\n",
      "Epoch 67/100\n",
      "658/658 [==============================] - 1s 835us/step - loss: 0.2987 - mse: 0.2987\n",
      "Epoch 68/100\n",
      "658/658 [==============================] - 1s 836us/step - loss: 0.2991 - mse: 0.2991\n",
      "Epoch 69/100\n",
      "658/658 [==============================] - 1s 834us/step - loss: 0.2974 - mse: 0.2974\n",
      "Epoch 70/100\n",
      "658/658 [==============================] - 1s 823us/step - loss: 0.2967 - mse: 0.2967\n",
      "Epoch 71/100\n",
      "658/658 [==============================] - 1s 836us/step - loss: 0.2972 - mse: 0.2972\n",
      "Epoch 72/100\n",
      "658/658 [==============================] - 1s 837us/step - loss: 0.2949 - mse: 0.2949\n",
      "Epoch 73/100\n",
      "658/658 [==============================] - 1s 833us/step - loss: 0.2944 - mse: 0.2944\n",
      "Epoch 74/100\n",
      "658/658 [==============================] - 1s 837us/step - loss: 0.2946 - mse: 0.2946\n",
      "Epoch 75/100\n",
      "658/658 [==============================] - 1s 829us/step - loss: 0.2927 - mse: 0.2927\n",
      "Epoch 76/100\n",
      "658/658 [==============================] - 1s 832us/step - loss: 0.2941 - mse: 0.2941\n",
      "Epoch 77/100\n",
      "658/658 [==============================] - 1s 823us/step - loss: 0.2926 - mse: 0.2926\n",
      "Epoch 78/100\n",
      "658/658 [==============================] - 1s 828us/step - loss: 0.2925 - mse: 0.2925\n",
      "Epoch 79/100\n",
      "658/658 [==============================] - 1s 827us/step - loss: 0.2913 - mse: 0.2913\n",
      "Epoch 80/100\n",
      "658/658 [==============================] - 1s 822us/step - loss: 0.2894 - mse: 0.2894\n",
      "Epoch 81/100\n",
      "658/658 [==============================] - 1s 837us/step - loss: 0.2889 - mse: 0.2889\n",
      "Epoch 82/100\n",
      "658/658 [==============================] - 1s 846us/step - loss: 0.2892 - mse: 0.2892\n",
      "Epoch 83/100\n"
     ]
    },
    {
     "name": "stdout",
     "output_type": "stream",
     "text": [
      "658/658 [==============================] - 1s 826us/step - loss: 0.2882 - mse: 0.2882\n",
      "Epoch 84/100\n",
      "658/658 [==============================] - 1s 820us/step - loss: 0.2875 - mse: 0.2875\n",
      "Epoch 85/100\n",
      "658/658 [==============================] - 1s 819us/step - loss: 0.2875 - mse: 0.2875\n",
      "Epoch 86/100\n",
      "658/658 [==============================] - 1s 807us/step - loss: 0.2872 - mse: 0.2872\n",
      "Epoch 87/100\n",
      "658/658 [==============================] - 1s 798us/step - loss: 0.2867 - mse: 0.2867\n",
      "Epoch 88/100\n",
      "658/658 [==============================] - 1s 801us/step - loss: 0.2877 - mse: 0.2877\n",
      "Epoch 89/100\n",
      "658/658 [==============================] - 1s 797us/step - loss: 0.2869 - mse: 0.2869\n",
      "Epoch 90/100\n",
      "658/658 [==============================] - 1s 838us/step - loss: 0.2856 - mse: 0.2856\n",
      "Epoch 91/100\n",
      "658/658 [==============================] - 1s 822us/step - loss: 0.2856 - mse: 0.2856\n",
      "Epoch 92/100\n",
      "658/658 [==============================] - 1s 827us/step - loss: 0.2844 - mse: 0.2844\n",
      "Epoch 93/100\n",
      "658/658 [==============================] - 1s 814us/step - loss: 0.2831 - mse: 0.2831\n",
      "Epoch 94/100\n",
      "658/658 [==============================] - 1s 777us/step - loss: 0.2845 - mse: 0.2845\n",
      "Epoch 95/100\n",
      "658/658 [==============================] - 1s 779us/step - loss: 0.2831 - mse: 0.2831\n",
      "Epoch 96/100\n",
      "658/658 [==============================] - 1s 793us/step - loss: 0.2824 - mse: 0.2824\n",
      "Epoch 97/100\n",
      "658/658 [==============================] - 1s 804us/step - loss: 0.2835 - mse: 0.2835\n",
      "Epoch 98/100\n",
      "658/658 [==============================] - 1s 803us/step - loss: 0.2811 - mse: 0.2811\n",
      "Epoch 99/100\n",
      "658/658 [==============================] - 1s 801us/step - loss: 0.2823 - mse: 0.2823\n",
      "Epoch 100/100\n",
      "658/658 [==============================] - 1s 801us/step - loss: 0.2801 - mse: 0.2801\n"
     ]
    },
    {
     "data": {
      "text/plain": [
       "<keras.src.callbacks.History at 0x7f68e007e8e0>"
      ]
     },
     "execution_count": 180,
     "metadata": {},
     "output_type": "execute_result"
    }
   ],
   "source": [
    "# Compiling the ANN\n",
    "ann.compile(optimizer = 'adam', loss = 'mse', metrics = ['mse'])\n",
    "\n",
    "# Training the ANN on the Training set\n",
    "ann.fit(X_train, y_train, batch_size = 32, epochs = 100)"
   ]
  },
  {
   "cell_type": "code",
   "execution_count": 100,
   "id": "b7d309d9",
   "metadata": {},
   "outputs": [
    {
     "data": {
      "text/plain": [
       "<keras.src.engine.sequential.Sequential at 0x7f6c65ca6f70>"
      ]
     },
     "execution_count": 100,
     "metadata": {},
     "output_type": "execute_result"
    }
   ],
   "source": [
    "ann"
   ]
  },
  {
   "cell_type": "markdown",
   "id": "271cccd1",
   "metadata": {},
   "source": [
    "(5) Single point prediction"
   ]
  },
  {
   "cell_type": "code",
   "execution_count": 181,
   "id": "cfb5e1c7",
   "metadata": {},
   "outputs": [
    {
     "data": {
      "text/plain": [
       "array([[ 2.00738619,  1.46323412,  1.52897788, ...,  0.17341794,\n",
       "        -1.19692278, -0.35557691],\n",
       "       [-0.84097718, -0.9791716 , -1.41255476, ..., -1.36289471,\n",
       "        -0.2310321 ,  1.06409652],\n",
       "       [-0.50770855, -0.25638005, -0.99385852, ..., -1.07224097,\n",
       "         2.26218986,  0.49622714],\n",
       "       ...,\n",
       "       [-1.15944306, -0.90304749, -0.99061931, ..., -1.07224097,\n",
       "         0.39959074,  0.49622714],\n",
       "       [-1.30163483, -1.19021247, -1.18515217, ..., -1.07224097,\n",
       "         0.39959074,  1.06409652],\n",
       "       [ 0.09471896,  0.2177207 ,  0.88420334, ..., -1.07224097,\n",
       "        -1.02928886,  0.49622714]])"
      ]
     },
     "execution_count": 181,
     "metadata": {},
     "output_type": "execute_result"
    }
   ],
   "source": [
    "X_train"
   ]
  },
  {
   "cell_type": "code",
   "execution_count": 182,
   "id": "24feacca",
   "metadata": {},
   "outputs": [
    {
     "name": "stdout",
     "output_type": "stream",
     "text": [
      "165/165 [==============================] - 0s 658us/step\n",
      "[[-0.6574338 ]\n",
      " [-0.35013258]\n",
      " [-0.13403681]\n",
      " ...\n",
      " [-0.43993288]\n",
      " [ 0.50910926]\n",
      " [-1.215594  ]]\n"
     ]
    }
   ],
   "source": [
    "print(ann.predict(X_test))"
   ]
  },
  {
   "cell_type": "code",
   "execution_count": 172,
   "id": "c2aa2fc8",
   "metadata": {},
   "outputs": [
    {
     "name": "stdout",
     "output_type": "stream",
     "text": [
      "[[ 68100.875419]\n",
      " [ 84321.367955]\n",
      " [ 75303.191799]\n",
      " ...\n",
      " [ 90202.164123]\n",
      " [138678.206819]\n",
      " [ 52018.748047]]\n"
     ]
    }
   ],
   "source": [
    "print(y_test)"
   ]
  },
  {
   "cell_type": "code",
   "execution_count": 173,
   "id": "b8ad4f35",
   "metadata": {},
   "outputs": [
    {
     "name": "stdout",
     "output_type": "stream",
     "text": [
      "165/165 [==============================] - 0s 791us/step - loss: 604413120.0000 - mse: 604413120.0000\n"
     ]
    },
    {
     "data": {
      "text/plain": [
       "[604413120.0, 604413120.0]"
      ]
     },
     "execution_count": 173,
     "metadata": {},
     "output_type": "execute_result"
    }
   ],
   "source": [
    "ann_score = ann.evaluate(X_test, y_test, verbose = 1)\n",
    "ann_score"
   ]
  },
  {
   "cell_type": "code",
   "execution_count": 186,
   "id": "876c88f8",
   "metadata": {},
   "outputs": [],
   "source": [
    "import matplotlib.pyplot as plt"
   ]
  },
  {
   "cell_type": "code",
   "execution_count": 187,
   "id": "0a227a4b",
   "metadata": {},
   "outputs": [
    {
     "name": "stdout",
     "output_type": "stream",
     "text": [
      "165/165 [==============================] - 0s 678us/step\n"
     ]
    },
    {
     "data": {
      "text/plain": [
       "[<matplotlib.lines.Line2D at 0x7f6a8bd2c070>]"
      ]
     },
     "execution_count": 187,
     "metadata": {},
     "output_type": "execute_result"
    },
    {
     "data": {
      "image/png": "[encoded data removed]",
      "text/plain": [
       "<Figure size 640x480 with 1 Axes>"
      ]
     },
     "metadata": {},
     "output_type": "display_data"
    }
   ],
   "source": [
    "plt.plot(ann.predict(X_test)[::36])\n",
    "plt.plot(y_test[::36])"
   ]
  },
  {
   "cell_type": "code",
   "execution_count": 188,
   "id": "66bbb0c3",
   "metadata": {},
   "outputs": [
    {
     "data": {
      "text/plain": [
       "array([[ 68100.875419],\n",
       "       [ 84321.367955],\n",
       "       [ 75303.191799],\n",
       "       ...,\n",
       "       [ 90202.164123],\n",
       "       [138678.206819],\n",
       "       [ 52018.748047]])"
      ]
     },
     "execution_count": 188,
     "metadata": {},
     "output_type": "execute_result"
    }
   ],
   "source": [
    "sc_y.inverse_transform(y_test)"
   ]
  },
  {
   "cell_type": "code",
   "execution_count": 190,
   "id": "a4b12d43",
   "metadata": {},
   "outputs": [
    {
     "name": "stdout",
     "output_type": "stream",
     "text": [
      "165/165 [==============================] - 0s 610us/step\n"
     ]
    },
    {
     "data": {
      "text/plain": [
       "[<matplotlib.lines.Line2D at 0x7f6a8bbf4400>]"
      ]
     },
     "execution_count": 190,
     "metadata": {},
     "output_type": "execute_result"
    },
    {
     "data": {
      "image/png": "[encoded data removed]",
      "text/plain": [
       "<Figure size 640x480 with 1 Axes>"
      ]
     },
     "metadata": {},
     "output_type": "display_data"
    }
   ],
   "source": [
    "plt.plot(sc_y.inverse_transform(ann.predict(X_test))[::36])\n",
    "plt.plot(sc_y.inverse_transform(y_test)[::36])"
   ]
  },
  {
   "cell_type": "code",
   "execution_count": null,
   "id": "2e888670",
   "metadata": {},
   "outputs": [],
   "source": []
  }
 ],
 "metadata": {
  "kernelspec": {
   "display_name": "Python 3 (ipykernel)",
   "language": "python",
   "name": "python3"
  },
  "language_info": {
   "codemirror_mode": {
    "name": "ipython",
    "version": 3
   },
   "file_extension": ".py",
   "mimetype": "text/x-python",
   "name": "python",
   "nbconvert_exporter": "python",
   "pygments_lexer": "ipython3",
   "version": "3.9.7"
  }
 },
 "nbformat": 4,
 "nbformat_minor": 5
}
