{
 "cells": [
  {
   "cell_type": "code",
   "execution_count": 10,
   "id": "4066ca50",
   "metadata": {},
   "outputs": [],
   "source": [
    "import pandas as pd\n",
    "activeLosses = pd.read_csv('../../data/Avtice-losses.csv')"
   ]
  },
  {
   "cell_type": "code",
   "execution_count": 11,
   "id": "247dc349",
   "metadata": {},
   "outputs": [
    {
     "name": "stdout",
     "output_type": "stream",
     "text": [
      "                 Unnamed: 0 Wirkverluste/Active Losses\n",
      "0               Zeitstempel                        kWh\n",
      "1       2019-01-01 00:15:00               39143.346123\n",
      "2       2019-01-01 00:30:00               32788.068958\n",
      "3       2019-01-01 00:45:00               33018.915678\n",
      "4       2019-01-01 01:00:00               34574.672936\n",
      "...                     ...                        ...\n",
      "105212  2021-12-31 23:00:00               40720.617362\n",
      "105213  2021-12-31 23:15:00               38156.038776\n",
      "105214  2021-12-31 23:30:00               36290.836689\n",
      "105215  2021-12-31 23:45:00               35947.703622\n",
      "105216  2022-01-01 00:00:00               35660.211734\n",
      "\n",
      "[105217 rows x 2 columns]\n"
     ]
    }
   ],
   "source": [
    "print(activeLosses)"
   ]
  },
  {
   "cell_type": "code",
   "execution_count": 12,
   "id": "3ee96df9",
   "metadata": {},
   "outputs": [],
   "source": [
    "activeLosses.iloc[2:,0] = activeLosses.iloc[1:-1,0]"
   ]
  },
  {
   "cell_type": "code",
   "execution_count": 13,
   "id": "1395ee75",
   "metadata": {},
   "outputs": [],
   "source": [
    "activeLosses.iloc[1,0] = '2019-01-01 00:00:00'"
   ]
  },
  {
   "cell_type": "code",
   "execution_count": 14,
   "id": "bf52d131",
   "metadata": {},
   "outputs": [],
   "source": [
    "activeLosses.to_csv('direnActiveLosses.csv',sep=';',header=False,index=False)"
   ]
  },
  {
   "cell_type": "code",
   "execution_count": 15,
   "id": "704ffedb",
   "metadata": {},
   "outputs": [
    {
     "name": "stdout",
     "output_type": "stream",
     "text": [
      "(105217, 2)\n"
     ]
    }
   ],
   "source": [
    "print(activeLosses.shape)"
   ]
  },
  {
   "cell_type": "code",
   "execution_count": 16,
   "id": "0a7dbf9f",
   "metadata": {},
   "outputs": [
    {
     "name": "stdout",
     "output_type": "stream",
     "text": [
      "26304\n",
      "26304\n"
     ]
    }
   ],
   "source": [
    "activeLossesPerHourValues = []\n",
    "timeStampPerHour = []\n",
    "totalCounter = 0\n",
    "counter = 0\n",
    "hourlySum = 0\n",
    "for k in range(1,activeLosses.shape[0]):\n",
    "    hourlySum += float( activeLosses.iloc[k,1] )\n",
    "    counter += 1\n",
    "    totalCounter += 1\n",
    "    if(counter == 4):\n",
    "        timeStampPerHour.append( activeLosses.iloc[k,0].split(':')[0] )\n",
    "        activeLossesPerHourValues.append(hourlySum)\n",
    "        hourlySum = 0\n",
    "        counter = 0\n",
    "print(len(activeLossesPerHourValues))\n",
    "print(len(timeStampPerHour))"
   ]
  },
  {
   "cell_type": "code",
   "execution_count": 17,
   "id": "5ec63802",
   "metadata": {},
   "outputs": [],
   "source": [
    "#import time\n",
    "#start = time.time()\n",
    "#direnList = [1,1,2]\n",
    "#for k in range(0,1000):\n",
    "#    direnList.append(direnList[-1]+direnList[-2])\n",
    "#end = time.time()\n",
    "#print('Duration [s]: '+str(end-start))"
   ]
  },
  {
   "cell_type": "code",
   "execution_count": 18,
   "id": "5d19ba3d",
   "metadata": {},
   "outputs": [
    {
     "name": "stdout",
     "output_type": "stream",
     "text": [
      "(9780, 5)\n",
      "                 datetime  temperature_fore_ch  temperature_fore_fr  \\\n",
      "0     2019-01-01 01:00:00               4.1067               5.9729   \n",
      "1     2019-01-01 07:00:00               1.7595               5.5398   \n",
      "2     2019-01-01 13:00:00               4.8823               8.6471   \n",
      "3     2019-01-01 19:00:00               3.1899               6.7846   \n",
      "4     2019-01-02 01:00:00               4.0144               6.4055   \n",
      "...                   ...                  ...                  ...   \n",
      "9775  2021-12-31 19:00:00               8.5300               9.9600   \n",
      "9776  2021-12-31 20:00:00               8.0000               9.4000   \n",
      "9777  2021-12-31 21:00:00               7.5000               8.8800   \n",
      "9778  2021-12-31 22:00:00               6.9700               8.5100   \n",
      "9779  2021-12-31 23:00:00               6.7900               8.2200   \n",
      "\n",
      "      temperature_fore_de  temperature_fore_it  \n",
      "0                  7.4268               4.0281  \n",
      "1                  6.3425               2.7281  \n",
      "2                  7.4596               7.7386  \n",
      "3                  5.2598               3.9186  \n",
      "4                  4.1154               3.5786  \n",
      "...                   ...                  ...  \n",
      "9775              10.7900               9.5900  \n",
      "9776              10.6300               9.1100  \n",
      "9777              10.5100               8.6700  \n",
      "9778              10.3200               8.1400  \n",
      "9779              10.2300               7.6700  \n",
      "\n",
      "[9780 rows x 5 columns]\n",
      "                  datetime  solar_fore_de [MW]  solar_fore_it [MW]  \\\n",
      "0      2019-01-01 00:00:00                 0.0                 0.0   \n",
      "1      2019-01-01 01:00:00                 0.0                 0.0   \n",
      "2      2019-01-01 02:00:00                 0.0                 0.0   \n",
      "3      2019-01-01 03:00:00                 0.0                 0.0   \n",
      "4      2019-01-01 04:00:00                 0.0                 0.0   \n",
      "...                    ...                 ...                 ...   \n",
      "26299  2021-12-31 19:00:00                 0.0                 0.0   \n",
      "26300  2021-12-31 20:00:00                 0.0                 0.0   \n",
      "26301  2021-12-31 21:00:00                 0.0                 0.0   \n",
      "26302  2021-12-31 22:00:00                 0.0                 0.0   \n",
      "26303  2021-12-31 23:00:00                 0.0                 0.0   \n",
      "\n",
      "       wind_fore_de [MW]  wind_fore_it [MW]  \n",
      "0             21344.8514          4302.6977  \n",
      "1             23052.3310          4596.5916  \n",
      "2             24969.9701          4478.5564  \n",
      "3             27082.9626          4323.3712  \n",
      "4             26890.9717          4231.8283  \n",
      "...                  ...                ...  \n",
      "26299         36997.7200          1108.4000  \n",
      "26300         35666.9300          1077.9700  \n",
      "26301         34383.8800          1048.2800  \n",
      "26302         33075.2500          1078.7800  \n",
      "26303         32350.7300          1188.4300  \n",
      "\n",
      "[26304 rows x 5 columns]\n"
     ]
    }
   ],
   "source": [
    "forecastRenewableGeneration = pd.read_csv('../../data/Forecast-renewable-generation.csv')\n",
    "#print(renewableGeneration)\n",
    "forecastTemperature = pd.read_csv('../../data/Forecast-temperature.csv')\n",
    "print(forecastTemperature.shape)\n",
    "print(forecastTemperature)\n",
    "print(forecastRenewableGeneration)"
   ]
  },
  {
   "cell_type": "code",
   "execution_count": 20,
   "id": "fca16cf7",
   "metadata": {},
   "outputs": [
    {
     "name": "stdout",
     "output_type": "stream",
     "text": [
      "68453\n",
      "68453\n",
      "68453\n",
      "68453\n"
     ]
    }
   ],
   "source": [
    "\n",
    "\n",
    "forecastTemperatureSwitzerlandHourly = []\n",
    "forecastTemperatureFranceHourly = []\n",
    "forecastTemperatureGermanyHourly = []\n",
    "forecastTemperatureItalyHourly = []\n",
    "def interpolatePerHour(y2,y1,x2,x1):\n",
    "    result = []\n",
    "    m = (y2-y1)/(x2-x1)\n",
    "    for k in range(0,x2-x1+1):\n",
    "        result.append( m*k+y1 )\n",
    "    return result\n",
    "\n",
    "for k in range(0,forecastTemperature.shape[0]-1):\n",
    "    forecastTemperatureSwitzerlandHourly += interpolatePerHour(y2=forecastTemperature.iloc[k+1,1],y1=forecastTemperature.iloc[k,1],x2=7,x1=1)\n",
    "    #print(forecastTemperature.iloc[k,1])\n",
    "    forecastTemperatureFranceHourly += interpolatePerHour(y2=forecastTemperature.iloc[k+1,2],y1=forecastTemperature.iloc[k,2],x2=7,x1=1)\n",
    "    forecastTemperatureGermanyHourly += interpolatePerHour(y2=forecastTemperature.iloc[k+1,3],y1=forecastTemperature.iloc[k,3],x2=7,x1=1)\n",
    "    forecastTemperatureItalyHourly += interpolatePerHour(y2=forecastTemperature.iloc[k+1,4],y1=forecastTemperature.iloc[k,4],x2=7,x1=1)\n",
    "print(len(forecastTemperatureSwitzerlandHourly))\n",
    "print(len(forecastTemperatureFranceHourly))\n",
    "print(len(forecastTemperatureGermanyHourly))\n",
    "print(len(forecastTemperatureItalyHourly))\n",
    "#print(forecastTemperatureSwitzerlandHourly[0:30])"
   ]
  },
  {
   "cell_type": "code",
   "execution_count": 32,
   "id": "9d253772",
   "metadata": {},
   "outputs": [
    {
     "name": "stdout",
     "output_type": "stream",
     "text": [
      "                  datetime   CH_AT   CH_DE   CH_FR   CH_IT   AT_CH  DE_CH  \\\n",
      "0      2019-01-01 00:00:00   700.0  4000.0  1200.0  2513.0  1200.0  800.0   \n",
      "1      2019-01-01 01:00:00   700.0  4000.0  1200.0  2513.0  1200.0  800.0   \n",
      "2      2019-01-01 02:00:00   700.0  4000.0  1200.0  2513.0  1200.0  800.0   \n",
      "3      2019-01-01 03:00:00   700.0  4000.0  1200.0  2513.0  1200.0  800.0   \n",
      "4      2019-01-01 04:00:00   700.0  4000.0  1200.0  2513.0  1200.0  800.0   \n",
      "...                    ...     ...     ...     ...     ...     ...    ...   \n",
      "26299  2021-12-31 19:00:00  1200.0  4000.0  1400.0  4069.0  1200.0  800.0   \n",
      "26300  2021-12-31 20:00:00  1200.0  4000.0  1400.0  4069.0  1200.0  800.0   \n",
      "26301  2021-12-31 21:00:00  1200.0  4000.0  1400.0  3953.0  1200.0  800.0   \n",
      "26302  2021-12-31 22:00:00  1200.0  4000.0  1400.0  3780.0  1200.0  800.0   \n",
      "26303  2021-12-31 23:00:00  1200.0  4000.0  1400.0  2992.0  1200.0  800.0   \n",
      "\n",
      "        FR_CH   IT_CH  \n",
      "0      3000.0  1910.0  \n",
      "1      3000.0  1910.0  \n",
      "2      3000.0  1910.0  \n",
      "3      3000.0  1910.0  \n",
      "4      3000.0  1910.0  \n",
      "...       ...     ...  \n",
      "26299  3200.0  1810.0  \n",
      "26300  3200.0  1810.0  \n",
      "26301  3200.0  1810.0  \n",
      "26302  3200.0  1810.0  \n",
      "26303  3200.0  1910.0  \n",
      "\n",
      "[26304 rows x 9 columns]\n"
     ]
    }
   ],
   "source": [
    "NTC = pd.read_csv('../../data/NTC.csv')\n",
    "print(NTC)"
   ]
  },
  {
   "cell_type": "code",
   "execution_count": 36,
   "id": "83aaed23",
   "metadata": {},
   "outputs": [
    {
     "name": "stdout",
     "output_type": "stream",
     "text": [
      "cuda\n",
      "tensor([[ 1,  2,  3,  4,  5],\n",
      "        [ 6,  7,  8,  9, 10]])\n",
      "cuda:0\n"
     ]
    },
    {
     "data": {
      "text/plain": [
       "True"
      ]
     },
     "execution_count": 36,
     "metadata": {},
     "output_type": "execute_result"
    }
   ],
   "source": [
    "import torch\n",
    "torch.cuda.is_available()\n",
    "torch.cuda.current_device()\n",
    "torch.cuda.device_count()\n",
    "torch.cuda.get_device_name()\n",
    "torch.cuda.memory_allocated()\n",
    "torch.cuda.memory_reserved()\n",
    "var1 = torch.FloatTensor([1.0, 2.0, 3.0]).cuda()\n",
    "var1\n",
    "var1.device\n",
    "var1.is_cuda\n",
    "device = torch.device(\"cuda\" if torch.cuda.is_available() else \"cpu\")\n",
    "print(device)\n",
    "example_data = [[1, 2, 3, 4, 5],[6,7,8,9,10]]\n",
    "V = torch.tensor(example_data)\n",
    "print(V)\n",
    "train = torch.Tensor(V).cuda()\n",
    "print(train.device)\n",
    "#Check if is assigned to gpu\n",
    "train.is_cuda"
   ]
  },
  {
   "cell_type": "code",
   "execution_count": null,
   "id": "1f4dbf75",
   "metadata": {},
   "outputs": [],
   "source": []
  },
  {
   "cell_type": "code",
   "execution_count": null,
   "id": "8702d37e",
   "metadata": {},
   "outputs": [],
   "source": []
  }
 ],
 "metadata": {
  "kernelspec": {
   "display_name": "Python 3 (ipykernel)",
   "language": "python",
   "name": "python3"
  },
  "language_info": {
   "codemirror_mode": {
    "name": "ipython",
    "version": 3
   },
   "file_extension": ".py",
   "mimetype": "text/x-python",
   "name": "python",
   "nbconvert_exporter": "python",
   "pygments_lexer": "ipython3",
   "version": "3.9.7"
  }
 },
 "nbformat": 4,
 "nbformat_minor": 5
}
