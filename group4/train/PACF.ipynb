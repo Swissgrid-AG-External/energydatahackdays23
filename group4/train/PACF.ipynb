{
 "cells": [
  {
   "cell_type": "code",
   "execution_count": 9,
   "id": "8c8226c8",
   "metadata": {},
   "outputs": [
    {
     "data": {
      "text/html": [
       "<div>\n",
       "<style scoped>\n",
       "    .dataframe tbody tr th:only-of-type {\n",
       "        vertical-align: middle;\n",
       "    }\n",
       "\n",
       "    .dataframe tbody tr th {\n",
       "        vertical-align: top;\n",
       "    }\n",
       "\n",
       "    .dataframe thead th {\n",
       "        text-align: right;\n",
       "    }\n",
       "</style>\n",
       "<table border=\"1\" class=\"dataframe\">\n",
       "  <thead>\n",
       "    <tr style=\"text-align: right;\">\n",
       "      <th></th>\n",
       "      <th>Zeitstempel</th>\n",
       "      <th>MWh</th>\n",
       "    </tr>\n",
       "  </thead>\n",
       "  <tbody>\n",
       "    <tr>\n",
       "      <th>0</th>\n",
       "      <td>2019-01-01 00:00:00</td>\n",
       "      <td>139.525004</td>\n",
       "    </tr>\n",
       "    <tr>\n",
       "      <th>1</th>\n",
       "      <td>2019-01-01 01:00:00</td>\n",
       "      <td>129.716036</td>\n",
       "    </tr>\n",
       "    <tr>\n",
       "      <th>2</th>\n",
       "      <td>2019-01-01 02:00:00</td>\n",
       "      <td>133.398074</td>\n",
       "    </tr>\n",
       "    <tr>\n",
       "      <th>3</th>\n",
       "      <td>2019-01-01 03:00:00</td>\n",
       "      <td>135.133852</td>\n",
       "    </tr>\n",
       "    <tr>\n",
       "      <th>4</th>\n",
       "      <td>2019-01-01 04:00:00</td>\n",
       "      <td>131.699424</td>\n",
       "    </tr>\n",
       "    <tr>\n",
       "      <th>...</th>\n",
       "      <td>...</td>\n",
       "      <td>...</td>\n",
       "    </tr>\n",
       "    <tr>\n",
       "      <th>26299</th>\n",
       "      <td>2021-12-31 19:00:00</td>\n",
       "      <td>171.707318</td>\n",
       "    </tr>\n",
       "    <tr>\n",
       "      <th>26300</th>\n",
       "      <td>2021-12-31 20:00:00</td>\n",
       "      <td>159.462903</td>\n",
       "    </tr>\n",
       "    <tr>\n",
       "      <th>26301</th>\n",
       "      <td>2021-12-31 21:00:00</td>\n",
       "      <td>155.109520</td>\n",
       "    </tr>\n",
       "    <tr>\n",
       "      <th>26302</th>\n",
       "      <td>2021-12-31 22:00:00</td>\n",
       "      <td>171.370277</td>\n",
       "    </tr>\n",
       "    <tr>\n",
       "      <th>26303</th>\n",
       "      <td>2021-12-31 23:00:00</td>\n",
       "      <td>146.054791</td>\n",
       "    </tr>\n",
       "  </tbody>\n",
       "</table>\n",
       "<p>26304 rows × 2 columns</p>\n",
       "</div>"
      ],
      "text/plain": [
       "              Zeitstempel         MWh\n",
       "0     2019-01-01 00:00:00  139.525004\n",
       "1     2019-01-01 01:00:00  129.716036\n",
       "2     2019-01-01 02:00:00  133.398074\n",
       "3     2019-01-01 03:00:00  135.133852\n",
       "4     2019-01-01 04:00:00  131.699424\n",
       "...                   ...         ...\n",
       "26299 2021-12-31 19:00:00  171.707318\n",
       "26300 2021-12-31 20:00:00  159.462903\n",
       "26301 2021-12-31 21:00:00  155.109520\n",
       "26302 2021-12-31 22:00:00  171.370277\n",
       "26303 2021-12-31 23:00:00  146.054791\n",
       "\n",
       "[26304 rows x 2 columns]"
      ]
     },
     "execution_count": 9,
     "metadata": {},
     "output_type": "execute_result"
    }
   ],
   "source": [
    "import pandas as pd\n",
    "import datetime as dt\n",
    "\n",
    "# read data Active-Losses\n",
    "df_losses = pd.read_csv('../../data/Avtice-losses.csv', header=1, parse_dates=['Zeitstempel'])\n",
    "\n",
    "# shift Zeitstempel by 15min\n",
    "df_losses['Zeitstempel'] = df_losses['Zeitstempel'] - dt.timedelta(minutes=15)\n",
    "\n",
    "# calculate average for daylight saving time in Octobers\n",
    "df_losses = df_losses.groupby(['Zeitstempel'], as_index=False)['kWh'].mean()\n",
    "\n",
    "# resample PT15M to PT1H\n",
    "df_losses_1H = df_losses.resample('H', on='Zeitstempel').sum().reset_index()\n",
    "\n",
    "# convet kWh to MWh and rename column\n",
    "df_losses_1H['kWh'] = df_losses_1H['kWh']/1000\n",
    "df_losses_1H = df_losses_1H.rename(columns={'kWh':'MWh'})\n",
    "\n",
    "df_losses_1H"
   ]
  },
  {
   "cell_type": "code",
   "execution_count": 20,
   "id": "ac54951d",
   "metadata": {},
   "outputs": [
    {
     "data": {
      "image/png": "[encoded data removed]",
      "text/plain": [
       "<Figure size 640x480 with 1 Axes>"
      ]
     },
     "metadata": {},
     "output_type": "display_data"
    }
   ],
   "source": [
    "# Partial Autocorrection\n",
    "from matplotlib import pyplot\n",
    "from statsmodels.graphics.tsaplots import plot_pacf\n",
    "\n",
    "# set Zeitstempel as index\n",
    "df_losses = df_losses_1H.set_index('Zeitstempel')\n",
    "\n",
    "# plot PACF\n",
    "plot_pacf(df_losses, lags=40, method='ywm')\n",
    "pyplot.show()"
   ]
  },
  {
   "cell_type": "code",
   "execution_count": null,
   "id": "a173b746",
   "metadata": {},
   "outputs": [],
   "source": []
  }
 ],
 "metadata": {
  "kernelspec": {
   "display_name": "Python 3 (ipykernel)",
   "language": "python",
   "name": "python3"
  },
  "language_info": {
   "codemirror_mode": {
    "name": "ipython",
    "version": 3
   },
   "file_extension": ".py",
   "mimetype": "text/x-python",
   "name": "python",
   "nbconvert_exporter": "python",
   "pygments_lexer": "ipython3",
   "version": "3.9.7"
  }
 },
 "nbformat": 4,
 "nbformat_minor": 5
}
