{
 "cells": [
  {
   "cell_type": "code",
   "execution_count": null,
   "id": "e33b6a84",
   "metadata": {},
   "outputs": [],
   "source": []
  },
  {
   "cell_type": "code",
   "execution_count": null,
   "id": "57c8d32d",
   "metadata": {},
   "outputs": [],
   "source": [
    "# split data into train and test set\n",
    "\n",
    "import pandas as pd\n",
    "import numpy as np\n",
    "from math import ceil\n",
    "\n",
    "def train_test_split_sorted(X, y, test_size, dates):\n",
    "\n",
    "    n_test = ceil(test_size * len(X))\n",
    "\n",
    "    sorted_index = [x for _, x in sorted(zip(np.array(dates), np.arange(0, len(dates))), key=lambda pair: pair[0])]\n",
    "    train_idx = sorted_index[:-n_test]\n",
    "    test_idx = sorted_index[-n_test:]\n",
    "\n",
    "    if isinstance(X, (pd.Series, pd.DataFrame)):\n",
    "        X_train = X.iloc[train_idx]\n",
    "        X_test = X.iloc[test_idx]\n",
    "    else:\n",
    "        X_train = X[train_idx]\n",
    "        X_test = X[test_idx]\n",
    "    if isinstance(y, (pd.Series, pd.DataFrame)):\n",
    "        y_train = y.iloc[train_idx]\n",
    "        y_test = y.iloc[test_idx]\n",
    "    else:\n",
    "        y_train = y[train_idx]\n",
    "        y_test = y[test_idx]\n",
    "\n",
    "    return X_train, X_test, y_train, y_test\n",
    "\n",
    "\n",
    "\n",
    "\n",
    "\n",
    "\n",
    "\n",
    "\n",
    "\n",
    "\n",
    "\n"
   ]
  }
 ],
 "metadata": {
  "kernelspec": {
   "display_name": "Python 3 (ipykernel)",
   "language": "python",
   "name": "python3"
  },
  "language_info": {
   "codemirror_mode": {
    "name": "ipython",
    "version": 3
   },
   "file_extension": ".py",
   "mimetype": "text/x-python",
   "name": "python",
   "nbconvert_exporter": "python",
   "pygments_lexer": "ipython3",
   "version": "3.9.7"
  }
 },
 "nbformat": 4,
 "nbformat_minor": 5
}
