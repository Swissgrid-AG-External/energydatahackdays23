{
 "cells": [
  {
   "cell_type": "markdown",
   "id": "081b04b7",
   "metadata": {},
   "source": [
    "## A - Data Import, resampling  and merging"
   ]
  },
  {
   "cell_type": "markdown",
   "id": "2b59786c",
   "metadata": {},
   "source": [
    "(1) Data losses"
   ]
  },
  {
   "cell_type": "code",
   "execution_count": 23,
   "id": "46796911",
   "metadata": {},
   "outputs": [
    {
     "data": {
      "text/plain": [
       "0"
      ]
     },
     "execution_count": 23,
     "metadata": {},
     "output_type": "execute_result"
    }
   ],
   "source": [
    "import pandas as pd\n",
    "import datetime as dt\n",
    "\n",
    "df = pd.read_csv(\"../../data/Avtice-losses.csv\", header = 1, parse_dates = [\"Zeitstempel\"])\n",
    "df[\"Zeitstempel\"] = df[\"Zeitstempel\"] - dt.timedelta(minutes=15)\n",
    "df = df.groupby(\"Zeitstempel\", as_index=False).kWh.mean()\n",
    "df = df.resample(\"H\", on = \"Zeitstempel\").sum().reset_index()\n",
    "data_loss = df\n",
    "data_loss.set_index(\"Zeitstempel\").index.duplicated().sum()"
   ]
  },
  {
   "cell_type": "code",
   "execution_count": 24,
   "id": "0ca671cf",
   "metadata": {},
   "outputs": [
    {
     "data": {
      "text/html": [
       "<div>\n",
       "<style scoped>\n",
       "    .dataframe tbody tr th:only-of-type {\n",
       "        vertical-align: middle;\n",
       "    }\n",
       "\n",
       "    .dataframe tbody tr th {\n",
       "        vertical-align: top;\n",
       "    }\n",
       "\n",
       "    .dataframe thead th {\n",
       "        text-align: right;\n",
       "    }\n",
       "</style>\n",
       "<table border=\"1\" class=\"dataframe\">\n",
       "  <thead>\n",
       "    <tr style=\"text-align: right;\">\n",
       "      <th></th>\n",
       "      <th>Zeitstempel</th>\n",
       "      <th>kWh</th>\n",
       "    </tr>\n",
       "  </thead>\n",
       "  <tbody>\n",
       "    <tr>\n",
       "      <th>0</th>\n",
       "      <td>2019-01-01 00:00:00</td>\n",
       "      <td>139525.003695</td>\n",
       "    </tr>\n",
       "    <tr>\n",
       "      <th>1</th>\n",
       "      <td>2019-01-01 01:00:00</td>\n",
       "      <td>129716.036003</td>\n",
       "    </tr>\n",
       "    <tr>\n",
       "      <th>2</th>\n",
       "      <td>2019-01-01 02:00:00</td>\n",
       "      <td>133398.074458</td>\n",
       "    </tr>\n",
       "    <tr>\n",
       "      <th>3</th>\n",
       "      <td>2019-01-01 03:00:00</td>\n",
       "      <td>135133.851731</td>\n",
       "    </tr>\n",
       "    <tr>\n",
       "      <th>4</th>\n",
       "      <td>2019-01-01 04:00:00</td>\n",
       "      <td>131699.424059</td>\n",
       "    </tr>\n",
       "    <tr>\n",
       "      <th>...</th>\n",
       "      <td>...</td>\n",
       "      <td>...</td>\n",
       "    </tr>\n",
       "    <tr>\n",
       "      <th>26299</th>\n",
       "      <td>2021-12-31 19:00:00</td>\n",
       "      <td>171707.317615</td>\n",
       "    </tr>\n",
       "    <tr>\n",
       "      <th>26300</th>\n",
       "      <td>2021-12-31 20:00:00</td>\n",
       "      <td>159462.903412</td>\n",
       "    </tr>\n",
       "    <tr>\n",
       "      <th>26301</th>\n",
       "      <td>2021-12-31 21:00:00</td>\n",
       "      <td>155109.519730</td>\n",
       "    </tr>\n",
       "    <tr>\n",
       "      <th>26302</th>\n",
       "      <td>2021-12-31 22:00:00</td>\n",
       "      <td>171370.276941</td>\n",
       "    </tr>\n",
       "    <tr>\n",
       "      <th>26303</th>\n",
       "      <td>2021-12-31 23:00:00</td>\n",
       "      <td>146054.790821</td>\n",
       "    </tr>\n",
       "  </tbody>\n",
       "</table>\n",
       "<p>26304 rows × 2 columns</p>\n",
       "</div>"
      ],
      "text/plain": [
       "              Zeitstempel            kWh\n",
       "0     2019-01-01 00:00:00  139525.003695\n",
       "1     2019-01-01 01:00:00  129716.036003\n",
       "2     2019-01-01 02:00:00  133398.074458\n",
       "3     2019-01-01 03:00:00  135133.851731\n",
       "4     2019-01-01 04:00:00  131699.424059\n",
       "...                   ...            ...\n",
       "26299 2021-12-31 19:00:00  171707.317615\n",
       "26300 2021-12-31 20:00:00  159462.903412\n",
       "26301 2021-12-31 21:00:00  155109.519730\n",
       "26302 2021-12-31 22:00:00  171370.276941\n",
       "26303 2021-12-31 23:00:00  146054.790821\n",
       "\n",
       "[26304 rows x 2 columns]"
      ]
     },
     "execution_count": 24,
     "metadata": {},
     "output_type": "execute_result"
    }
   ],
   "source": [
    "data_loss"
   ]
  },
  {
   "cell_type": "markdown",
   "id": "486f3684",
   "metadata": {},
   "source": [
    "(2) Renewable Generation"
   ]
  },
  {
   "cell_type": "code",
   "execution_count": 6,
   "id": "e9ae89a9",
   "metadata": {},
   "outputs": [],
   "source": [
    "data_renewable_generation = pd.read_csv(\"../../data/Forecast-renewable-generation.csv\", header = 0, parse_dates = [\"datetime\"])\n",
    "data_renewable_generation = data_renewable_generation.groupby(\"datetime\", as_index=False)[[col for col in data_renewable_generation.columns]].mean()\n",
    "#data_renewable_generation"
   ]
  },
  {
   "cell_type": "markdown",
   "id": "0e30c77b",
   "metadata": {},
   "source": [
    "(3) NTC"
   ]
  },
  {
   "cell_type": "code",
   "execution_count": 7,
   "id": "9ed51188",
   "metadata": {},
   "outputs": [],
   "source": [
    "data_NTC = pd.read_csv(\"../../data/NTC.csv\", header = 0, parse_dates = [\"datetime\"])\n",
    "data_NTC = data_NTC.groupby(\"datetime\", as_index=False)[[col for col in data_NTC.columns]].mean()\n",
    "#data_NTC"
   ]
  },
  {
   "cell_type": "markdown",
   "id": "528bb47b",
   "metadata": {},
   "source": [
    "(4) Temperatures"
   ]
  },
  {
   "cell_type": "code",
   "execution_count": 8,
   "id": "5ac06283",
   "metadata": {},
   "outputs": [],
   "source": [
    "df = pd.read_csv(\"../../data/Forecast-temperature_new.csv\", header = 0)\n",
    "\n",
    "df['datetime'] = pd.to_datetime(df['datetime'])\n",
    "start_time = '2019-01-01 01:00'\n",
    "end_time = '2021-12-31 23:00'\n",
    "hourly_range = pd.date_range(start=start_time, end=end_time, freq='H')\n",
    "df_resampled = pd.DataFrame({'datetime': hourly_range})\n",
    "df_resampled = df_resampled.merge(df, on=\"datetime\", how='left')\n",
    "df_resampled.interpolate(inplace=True, fill_value='extrapolate')\n",
    "data_temperatures = df_resampled\n",
    "#data_temperatures"
   ]
  },
  {
   "cell_type": "markdown",
   "id": "36e078ef",
   "metadata": {},
   "source": [
    "(5) Joins"
   ]
  },
  {
   "cell_type": "code",
   "execution_count": 36,
   "id": "ff3868a4",
   "metadata": {},
   "outputs": [],
   "source": [
    "data = data_temperatures.set_index(\"datetime\")\n",
    "data = data.join(data_renewable_generation.set_index(\"datetime\"))\n",
    "data = data.join(data_NTC.set_index(\"datetime\"))\n",
    "#data = data.join(data_loss.set_index(\"Zeitstempel\"))"
   ]
  },
  {
   "cell_type": "markdown",
   "id": "6de8f7a9",
   "metadata": {},
   "source": [
    "(6) Add Fourier-based features to describe periodicity "
   ]
  },
  {
   "cell_type": "code",
   "execution_count": 37,
   "id": "b7096d26",
   "metadata": {},
   "outputs": [],
   "source": [
    "from statsmodels.tsa.deterministic import CalendarFourier, TimeTrend\n",
    "from statsmodels.tsa.stattools import pacf"
   ]
  },
  {
   "cell_type": "code",
   "execution_count": 38,
   "id": "80596eed",
   "metadata": {},
   "outputs": [],
   "source": [
    "cal_fourier_gen = CalendarFourier(\"D\", 12)\n",
    "fourier_data_daily = cal_fourier_gen.in_sample(data.index)\n",
    "#fourier_data_daily"
   ]
  },
  {
   "cell_type": "code",
   "execution_count": 39,
   "id": "05a74955",
   "metadata": {},
   "outputs": [],
   "source": [
    "cal_fourier_gen_ = CalendarFourier(\"Y\", 6)\n",
    "fourier_data_yearly = cal_fourier_gen_.in_sample(data.index)\n",
    "#fourier_data_yearly"
   ]
  },
  {
   "cell_type": "code",
   "execution_count": 40,
   "id": "b56c6179",
   "metadata": {},
   "outputs": [],
   "source": [
    "trend_gen = TimeTrend(False, 1)\n",
    "trend = trend_gen.in_sample(data.index)\n",
    "#trend"
   ]
  },
  {
   "cell_type": "code",
   "execution_count": 41,
   "id": "715e6d4a",
   "metadata": {},
   "outputs": [
    {
     "data": {
      "text/html": [
       "<div>\n",
       "<style scoped>\n",
       "    .dataframe tbody tr th:only-of-type {\n",
       "        vertical-align: middle;\n",
       "    }\n",
       "\n",
       "    .dataframe tbody tr th {\n",
       "        vertical-align: top;\n",
       "    }\n",
       "\n",
       "    .dataframe thead th {\n",
       "        text-align: right;\n",
       "    }\n",
       "</style>\n",
       "<table border=\"1\" class=\"dataframe\">\n",
       "  <thead>\n",
       "    <tr style=\"text-align: right;\">\n",
       "      <th></th>\n",
       "      <th>kWh_1</th>\n",
       "      <th>kWh_2</th>\n",
       "      <th>kWh_3</th>\n",
       "      <th>kWh_4</th>\n",
       "      <th>kWh_5</th>\n",
       "    </tr>\n",
       "  </thead>\n",
       "  <tbody>\n",
       "    <tr>\n",
       "      <th>0</th>\n",
       "      <td>NaN</td>\n",
       "      <td>NaN</td>\n",
       "      <td>NaN</td>\n",
       "      <td>NaN</td>\n",
       "      <td>NaN</td>\n",
       "    </tr>\n",
       "    <tr>\n",
       "      <th>1</th>\n",
       "      <td>139525.003695</td>\n",
       "      <td>NaN</td>\n",
       "      <td>NaN</td>\n",
       "      <td>NaN</td>\n",
       "      <td>NaN</td>\n",
       "    </tr>\n",
       "    <tr>\n",
       "      <th>2</th>\n",
       "      <td>129716.036003</td>\n",
       "      <td>139525.003695</td>\n",
       "      <td>NaN</td>\n",
       "      <td>NaN</td>\n",
       "      <td>NaN</td>\n",
       "    </tr>\n",
       "    <tr>\n",
       "      <th>3</th>\n",
       "      <td>133398.074458</td>\n",
       "      <td>129716.036003</td>\n",
       "      <td>139525.003695</td>\n",
       "      <td>NaN</td>\n",
       "      <td>NaN</td>\n",
       "    </tr>\n",
       "    <tr>\n",
       "      <th>4</th>\n",
       "      <td>135133.851731</td>\n",
       "      <td>133398.074458</td>\n",
       "      <td>129716.036003</td>\n",
       "      <td>139525.003695</td>\n",
       "      <td>NaN</td>\n",
       "    </tr>\n",
       "    <tr>\n",
       "      <th>...</th>\n",
       "      <td>...</td>\n",
       "      <td>...</td>\n",
       "      <td>...</td>\n",
       "      <td>...</td>\n",
       "      <td>...</td>\n",
       "    </tr>\n",
       "    <tr>\n",
       "      <th>26299</th>\n",
       "      <td>152159.763051</td>\n",
       "      <td>162995.636188</td>\n",
       "      <td>188541.866015</td>\n",
       "      <td>176617.952629</td>\n",
       "      <td>167343.565308</td>\n",
       "    </tr>\n",
       "    <tr>\n",
       "      <th>26300</th>\n",
       "      <td>171707.317615</td>\n",
       "      <td>152159.763051</td>\n",
       "      <td>162995.636188</td>\n",
       "      <td>188541.866015</td>\n",
       "      <td>176617.952629</td>\n",
       "    </tr>\n",
       "    <tr>\n",
       "      <th>26301</th>\n",
       "      <td>159462.903412</td>\n",
       "      <td>171707.317615</td>\n",
       "      <td>152159.763051</td>\n",
       "      <td>162995.636188</td>\n",
       "      <td>188541.866015</td>\n",
       "    </tr>\n",
       "    <tr>\n",
       "      <th>26302</th>\n",
       "      <td>155109.519730</td>\n",
       "      <td>159462.903412</td>\n",
       "      <td>171707.317615</td>\n",
       "      <td>152159.763051</td>\n",
       "      <td>162995.636188</td>\n",
       "    </tr>\n",
       "    <tr>\n",
       "      <th>26303</th>\n",
       "      <td>171370.276941</td>\n",
       "      <td>155109.519730</td>\n",
       "      <td>159462.903412</td>\n",
       "      <td>171707.317615</td>\n",
       "      <td>152159.763051</td>\n",
       "    </tr>\n",
       "  </tbody>\n",
       "</table>\n",
       "<p>26304 rows × 5 columns</p>\n",
       "</div>"
      ],
      "text/plain": [
       "               kWh_1          kWh_2          kWh_3          kWh_4  \\\n",
       "0                NaN            NaN            NaN            NaN   \n",
       "1      139525.003695            NaN            NaN            NaN   \n",
       "2      129716.036003  139525.003695            NaN            NaN   \n",
       "3      133398.074458  129716.036003  139525.003695            NaN   \n",
       "4      135133.851731  133398.074458  129716.036003  139525.003695   \n",
       "...              ...            ...            ...            ...   \n",
       "26299  152159.763051  162995.636188  188541.866015  176617.952629   \n",
       "26300  171707.317615  152159.763051  162995.636188  188541.866015   \n",
       "26301  159462.903412  171707.317615  152159.763051  162995.636188   \n",
       "26302  155109.519730  159462.903412  171707.317615  152159.763051   \n",
       "26303  171370.276941  155109.519730  159462.903412  171707.317615   \n",
       "\n",
       "               kWh_5  \n",
       "0                NaN  \n",
       "1                NaN  \n",
       "2                NaN  \n",
       "3                NaN  \n",
       "4                NaN  \n",
       "...              ...  \n",
       "26299  167343.565308  \n",
       "26300  176617.952629  \n",
       "26301  188541.866015  \n",
       "26302  162995.636188  \n",
       "26303  152159.763051  \n",
       "\n",
       "[26304 rows x 5 columns]"
      ]
     },
     "execution_count": 41,
     "metadata": {},
     "output_type": "execute_result"
    }
   ],
   "source": [
    "n_shift = [1,2,3,4,5]\n",
    "data_shift = pd.DataFrame()\n",
    "for s in n_shift:\n",
    "    data_shift[f\"kWh_{s}\"] = data_loss[\"kWh\"].shift(s)\n",
    "data_shift"
   ]
  },
  {
   "cell_type": "code",
   "execution_count": 42,
   "id": "7e09f044",
   "metadata": {},
   "outputs": [],
   "source": [
    "data_new = data.join([fourier_data_yearly, fourier_data_daily, trend])\n",
    "#data_new"
   ]
  },
  {
   "cell_type": "code",
   "execution_count": 34,
   "id": "c52d0395",
   "metadata": {},
   "outputs": [
    {
     "data": {
      "text/html": [
       "<div>\n",
       "<style scoped>\n",
       "    .dataframe tbody tr th:only-of-type {\n",
       "        vertical-align: middle;\n",
       "    }\n",
       "\n",
       "    .dataframe tbody tr th {\n",
       "        vertical-align: top;\n",
       "    }\n",
       "\n",
       "    .dataframe thead th {\n",
       "        text-align: right;\n",
       "    }\n",
       "</style>\n",
       "<table border=\"1\" class=\"dataframe\">\n",
       "  <thead>\n",
       "    <tr style=\"text-align: right;\">\n",
       "      <th></th>\n",
       "      <th>temperature_fore_ch</th>\n",
       "      <th>temperature_fore_fr</th>\n",
       "      <th>temperature_fore_de</th>\n",
       "      <th>temperature_fore_it</th>\n",
       "      <th>solar_fore_de [MW]</th>\n",
       "      <th>solar_fore_it [MW]</th>\n",
       "      <th>wind_fore_de [MW]</th>\n",
       "      <th>wind_fore_it [MW]</th>\n",
       "      <th>CH_AT</th>\n",
       "      <th>CH_DE</th>\n",
       "      <th>...</th>\n",
       "      <th>cos(8,freq=D)</th>\n",
       "      <th>sin(9,freq=D)</th>\n",
       "      <th>cos(9,freq=D)</th>\n",
       "      <th>sin(10,freq=D)</th>\n",
       "      <th>cos(10,freq=D)</th>\n",
       "      <th>sin(11,freq=D)</th>\n",
       "      <th>cos(11,freq=D)</th>\n",
       "      <th>sin(12,freq=D)</th>\n",
       "      <th>cos(12,freq=D)</th>\n",
       "      <th>trend</th>\n",
       "    </tr>\n",
       "  </thead>\n",
       "  <tbody>\n",
       "    <tr>\n",
       "      <th>2019-01-01 01:00:00</th>\n",
       "      <td>4.1067</td>\n",
       "      <td>5.972900</td>\n",
       "      <td>7.426800</td>\n",
       "      <td>4.028100</td>\n",
       "      <td>0.0</td>\n",
       "      <td>0.0</td>\n",
       "      <td>23052.3310</td>\n",
       "      <td>4596.5916</td>\n",
       "      <td>700.0</td>\n",
       "      <td>4000.0</td>\n",
       "      <td>...</td>\n",
       "      <td>-0.5</td>\n",
       "      <td>7.071068e-01</td>\n",
       "      <td>-7.071068e-01</td>\n",
       "      <td>0.500000</td>\n",
       "      <td>-8.660254e-01</td>\n",
       "      <td>0.258819</td>\n",
       "      <td>-0.965926</td>\n",
       "      <td>1.224647e-16</td>\n",
       "      <td>-1.0</td>\n",
       "      <td>1.0</td>\n",
       "    </tr>\n",
       "    <tr>\n",
       "      <th>2019-01-01 02:00:00</th>\n",
       "      <td>3.7155</td>\n",
       "      <td>5.900717</td>\n",
       "      <td>7.246083</td>\n",
       "      <td>3.811433</td>\n",
       "      <td>0.0</td>\n",
       "      <td>0.0</td>\n",
       "      <td>24969.9701</td>\n",
       "      <td>4478.5564</td>\n",
       "      <td>700.0</td>\n",
       "      <td>4000.0</td>\n",
       "      <td>...</td>\n",
       "      <td>-0.5</td>\n",
       "      <td>-1.000000e+00</td>\n",
       "      <td>-1.836970e-16</td>\n",
       "      <td>-0.866025</td>\n",
       "      <td>5.000000e-01</td>\n",
       "      <td>-0.500000</td>\n",
       "      <td>0.866025</td>\n",
       "      <td>-2.449294e-16</td>\n",
       "      <td>1.0</td>\n",
       "      <td>2.0</td>\n",
       "    </tr>\n",
       "    <tr>\n",
       "      <th>2019-01-01 03:00:00</th>\n",
       "      <td>3.3243</td>\n",
       "      <td>5.828533</td>\n",
       "      <td>7.065367</td>\n",
       "      <td>3.594767</td>\n",
       "      <td>0.0</td>\n",
       "      <td>0.0</td>\n",
       "      <td>27082.9626</td>\n",
       "      <td>4323.3712</td>\n",
       "      <td>700.0</td>\n",
       "      <td>4000.0</td>\n",
       "      <td>...</td>\n",
       "      <td>1.0</td>\n",
       "      <td>7.071068e-01</td>\n",
       "      <td>7.071068e-01</td>\n",
       "      <td>1.000000</td>\n",
       "      <td>3.061617e-16</td>\n",
       "      <td>0.707107</td>\n",
       "      <td>-0.707107</td>\n",
       "      <td>3.673940e-16</td>\n",
       "      <td>-1.0</td>\n",
       "      <td>3.0</td>\n",
       "    </tr>\n",
       "    <tr>\n",
       "      <th>2019-01-01 04:00:00</th>\n",
       "      <td>2.9331</td>\n",
       "      <td>5.756350</td>\n",
       "      <td>6.884650</td>\n",
       "      <td>3.378100</td>\n",
       "      <td>0.0</td>\n",
       "      <td>0.0</td>\n",
       "      <td>26890.9717</td>\n",
       "      <td>4231.8283</td>\n",
       "      <td>700.0</td>\n",
       "      <td>4000.0</td>\n",
       "      <td>...</td>\n",
       "      <td>-0.5</td>\n",
       "      <td>3.673940e-16</td>\n",
       "      <td>-1.000000e+00</td>\n",
       "      <td>-0.866025</td>\n",
       "      <td>-5.000000e-01</td>\n",
       "      <td>-0.866025</td>\n",
       "      <td>0.500000</td>\n",
       "      <td>-4.898587e-16</td>\n",
       "      <td>1.0</td>\n",
       "      <td>4.0</td>\n",
       "    </tr>\n",
       "    <tr>\n",
       "      <th>2019-01-01 05:00:00</th>\n",
       "      <td>2.5419</td>\n",
       "      <td>5.684167</td>\n",
       "      <td>6.703933</td>\n",
       "      <td>3.161433</td>\n",
       "      <td>0.0</td>\n",
       "      <td>0.0</td>\n",
       "      <td>27740.1555</td>\n",
       "      <td>4266.3082</td>\n",
       "      <td>700.0</td>\n",
       "      <td>4000.0</td>\n",
       "      <td>...</td>\n",
       "      <td>-0.5</td>\n",
       "      <td>-7.071068e-01</td>\n",
       "      <td>7.071068e-01</td>\n",
       "      <td>0.500000</td>\n",
       "      <td>8.660254e-01</td>\n",
       "      <td>0.965926</td>\n",
       "      <td>-0.258819</td>\n",
       "      <td>6.123234e-16</td>\n",
       "      <td>-1.0</td>\n",
       "      <td>5.0</td>\n",
       "    </tr>\n",
       "    <tr>\n",
       "      <th>...</th>\n",
       "      <td>...</td>\n",
       "      <td>...</td>\n",
       "      <td>...</td>\n",
       "      <td>...</td>\n",
       "      <td>...</td>\n",
       "      <td>...</td>\n",
       "      <td>...</td>\n",
       "      <td>...</td>\n",
       "      <td>...</td>\n",
       "      <td>...</td>\n",
       "      <td>...</td>\n",
       "      <td>...</td>\n",
       "      <td>...</td>\n",
       "      <td>...</td>\n",
       "      <td>...</td>\n",
       "      <td>...</td>\n",
       "      <td>...</td>\n",
       "      <td>...</td>\n",
       "      <td>...</td>\n",
       "      <td>...</td>\n",
       "      <td>...</td>\n",
       "    </tr>\n",
       "    <tr>\n",
       "      <th>2021-12-31 19:00:00</th>\n",
       "      <td>8.5300</td>\n",
       "      <td>9.960000</td>\n",
       "      <td>10.790000</td>\n",
       "      <td>9.590000</td>\n",
       "      <td>0.0</td>\n",
       "      <td>0.0</td>\n",
       "      <td>36997.7200</td>\n",
       "      <td>1108.4000</td>\n",
       "      <td>1200.0</td>\n",
       "      <td>4000.0</td>\n",
       "      <td>...</td>\n",
       "      <td>-0.5</td>\n",
       "      <td>7.071068e-01</td>\n",
       "      <td>7.071068e-01</td>\n",
       "      <td>-0.500000</td>\n",
       "      <td>8.660254e-01</td>\n",
       "      <td>-0.965926</td>\n",
       "      <td>-0.258819</td>\n",
       "      <td>5.879543e-15</td>\n",
       "      <td>-1.0</td>\n",
       "      <td>26300.0</td>\n",
       "    </tr>\n",
       "    <tr>\n",
       "      <th>2021-12-31 20:00:00</th>\n",
       "      <td>8.0000</td>\n",
       "      <td>9.400000</td>\n",
       "      <td>10.630000</td>\n",
       "      <td>9.110000</td>\n",
       "      <td>0.0</td>\n",
       "      <td>0.0</td>\n",
       "      <td>35666.9300</td>\n",
       "      <td>1077.9700</td>\n",
       "      <td>1200.0</td>\n",
       "      <td>4000.0</td>\n",
       "      <td>...</td>\n",
       "      <td>-0.5</td>\n",
       "      <td>-1.715743e-15</td>\n",
       "      <td>-1.000000e+00</td>\n",
       "      <td>0.866025</td>\n",
       "      <td>-5.000000e-01</td>\n",
       "      <td>0.866025</td>\n",
       "      <td>0.500000</td>\n",
       "      <td>-2.449294e-15</td>\n",
       "      <td>1.0</td>\n",
       "      <td>26301.0</td>\n",
       "    </tr>\n",
       "    <tr>\n",
       "      <th>2021-12-31 21:00:00</th>\n",
       "      <td>7.5000</td>\n",
       "      <td>8.880000</td>\n",
       "      <td>10.510000</td>\n",
       "      <td>8.670000</td>\n",
       "      <td>0.0</td>\n",
       "      <td>0.0</td>\n",
       "      <td>34383.8800</td>\n",
       "      <td>1048.2800</td>\n",
       "      <td>1200.0</td>\n",
       "      <td>4000.0</td>\n",
       "      <td>...</td>\n",
       "      <td>1.0</td>\n",
       "      <td>-7.071068e-01</td>\n",
       "      <td>7.071068e-01</td>\n",
       "      <td>-1.000000</td>\n",
       "      <td>-3.919489e-15</td>\n",
       "      <td>-0.707107</td>\n",
       "      <td>-0.707107</td>\n",
       "      <td>-9.809554e-16</td>\n",
       "      <td>-1.0</td>\n",
       "      <td>26302.0</td>\n",
       "    </tr>\n",
       "    <tr>\n",
       "      <th>2021-12-31 22:00:00</th>\n",
       "      <td>6.9700</td>\n",
       "      <td>8.510000</td>\n",
       "      <td>10.320000</td>\n",
       "      <td>8.140000</td>\n",
       "      <td>0.0</td>\n",
       "      <td>0.0</td>\n",
       "      <td>33075.2500</td>\n",
       "      <td>1078.7800</td>\n",
       "      <td>1200.0</td>\n",
       "      <td>4000.0</td>\n",
       "      <td>...</td>\n",
       "      <td>-0.5</td>\n",
       "      <td>1.000000e+00</td>\n",
       "      <td>7.349738e-15</td>\n",
       "      <td>0.866025</td>\n",
       "      <td>5.000000e-01</td>\n",
       "      <td>0.500000</td>\n",
       "      <td>0.866025</td>\n",
       "      <td>-9.799650e-15</td>\n",
       "      <td>1.0</td>\n",
       "      <td>26303.0</td>\n",
       "    </tr>\n",
       "    <tr>\n",
       "      <th>2021-12-31 23:00:00</th>\n",
       "      <td>6.7900</td>\n",
       "      <td>8.220000</td>\n",
       "      <td>10.230000</td>\n",
       "      <td>7.670000</td>\n",
       "      <td>0.0</td>\n",
       "      <td>0.0</td>\n",
       "      <td>32350.7300</td>\n",
       "      <td>1188.4300</td>\n",
       "      <td>1200.0</td>\n",
       "      <td>4000.0</td>\n",
       "      <td>...</td>\n",
       "      <td>-0.5</td>\n",
       "      <td>-7.071068e-01</td>\n",
       "      <td>-7.071068e-01</td>\n",
       "      <td>-0.500000</td>\n",
       "      <td>-8.660254e-01</td>\n",
       "      <td>-0.258819</td>\n",
       "      <td>-0.965926</td>\n",
       "      <td>-7.841453e-15</td>\n",
       "      <td>-1.0</td>\n",
       "      <td>26304.0</td>\n",
       "    </tr>\n",
       "  </tbody>\n",
       "</table>\n",
       "<p>26318 rows × 54 columns</p>\n",
       "</div>"
      ],
      "text/plain": [
       "                     temperature_fore_ch  temperature_fore_fr  \\\n",
       "2019-01-01 01:00:00               4.1067             5.972900   \n",
       "2019-01-01 02:00:00               3.7155             5.900717   \n",
       "2019-01-01 03:00:00               3.3243             5.828533   \n",
       "2019-01-01 04:00:00               2.9331             5.756350   \n",
       "2019-01-01 05:00:00               2.5419             5.684167   \n",
       "...                                  ...                  ...   \n",
       "2021-12-31 19:00:00               8.5300             9.960000   \n",
       "2021-12-31 20:00:00               8.0000             9.400000   \n",
       "2021-12-31 21:00:00               7.5000             8.880000   \n",
       "2021-12-31 22:00:00               6.9700             8.510000   \n",
       "2021-12-31 23:00:00               6.7900             8.220000   \n",
       "\n",
       "                     temperature_fore_de  temperature_fore_it  \\\n",
       "2019-01-01 01:00:00             7.426800             4.028100   \n",
       "2019-01-01 02:00:00             7.246083             3.811433   \n",
       "2019-01-01 03:00:00             7.065367             3.594767   \n",
       "2019-01-01 04:00:00             6.884650             3.378100   \n",
       "2019-01-01 05:00:00             6.703933             3.161433   \n",
       "...                                  ...                  ...   \n",
       "2021-12-31 19:00:00            10.790000             9.590000   \n",
       "2021-12-31 20:00:00            10.630000             9.110000   \n",
       "2021-12-31 21:00:00            10.510000             8.670000   \n",
       "2021-12-31 22:00:00            10.320000             8.140000   \n",
       "2021-12-31 23:00:00            10.230000             7.670000   \n",
       "\n",
       "                     solar_fore_de [MW]  solar_fore_it [MW]  \\\n",
       "2019-01-01 01:00:00                 0.0                 0.0   \n",
       "2019-01-01 02:00:00                 0.0                 0.0   \n",
       "2019-01-01 03:00:00                 0.0                 0.0   \n",
       "2019-01-01 04:00:00                 0.0                 0.0   \n",
       "2019-01-01 05:00:00                 0.0                 0.0   \n",
       "...                                 ...                 ...   \n",
       "2021-12-31 19:00:00                 0.0                 0.0   \n",
       "2021-12-31 20:00:00                 0.0                 0.0   \n",
       "2021-12-31 21:00:00                 0.0                 0.0   \n",
       "2021-12-31 22:00:00                 0.0                 0.0   \n",
       "2021-12-31 23:00:00                 0.0                 0.0   \n",
       "\n",
       "                     wind_fore_de [MW]  wind_fore_it [MW]   CH_AT   CH_DE  \\\n",
       "2019-01-01 01:00:00         23052.3310          4596.5916   700.0  4000.0   \n",
       "2019-01-01 02:00:00         24969.9701          4478.5564   700.0  4000.0   \n",
       "2019-01-01 03:00:00         27082.9626          4323.3712   700.0  4000.0   \n",
       "2019-01-01 04:00:00         26890.9717          4231.8283   700.0  4000.0   \n",
       "2019-01-01 05:00:00         27740.1555          4266.3082   700.0  4000.0   \n",
       "...                                ...                ...     ...     ...   \n",
       "2021-12-31 19:00:00         36997.7200          1108.4000  1200.0  4000.0   \n",
       "2021-12-31 20:00:00         35666.9300          1077.9700  1200.0  4000.0   \n",
       "2021-12-31 21:00:00         34383.8800          1048.2800  1200.0  4000.0   \n",
       "2021-12-31 22:00:00         33075.2500          1078.7800  1200.0  4000.0   \n",
       "2021-12-31 23:00:00         32350.7300          1188.4300  1200.0  4000.0   \n",
       "\n",
       "                     ...  cos(8,freq=D)  sin(9,freq=D)  cos(9,freq=D)  \\\n",
       "2019-01-01 01:00:00  ...           -0.5   7.071068e-01  -7.071068e-01   \n",
       "2019-01-01 02:00:00  ...           -0.5  -1.000000e+00  -1.836970e-16   \n",
       "2019-01-01 03:00:00  ...            1.0   7.071068e-01   7.071068e-01   \n",
       "2019-01-01 04:00:00  ...           -0.5   3.673940e-16  -1.000000e+00   \n",
       "2019-01-01 05:00:00  ...           -0.5  -7.071068e-01   7.071068e-01   \n",
       "...                  ...            ...            ...            ...   \n",
       "2021-12-31 19:00:00  ...           -0.5   7.071068e-01   7.071068e-01   \n",
       "2021-12-31 20:00:00  ...           -0.5  -1.715743e-15  -1.000000e+00   \n",
       "2021-12-31 21:00:00  ...            1.0  -7.071068e-01   7.071068e-01   \n",
       "2021-12-31 22:00:00  ...           -0.5   1.000000e+00   7.349738e-15   \n",
       "2021-12-31 23:00:00  ...           -0.5  -7.071068e-01  -7.071068e-01   \n",
       "\n",
       "                     sin(10,freq=D)  cos(10,freq=D)  sin(11,freq=D)  \\\n",
       "2019-01-01 01:00:00        0.500000   -8.660254e-01        0.258819   \n",
       "2019-01-01 02:00:00       -0.866025    5.000000e-01       -0.500000   \n",
       "2019-01-01 03:00:00        1.000000    3.061617e-16        0.707107   \n",
       "2019-01-01 04:00:00       -0.866025   -5.000000e-01       -0.866025   \n",
       "2019-01-01 05:00:00        0.500000    8.660254e-01        0.965926   \n",
       "...                             ...             ...             ...   \n",
       "2021-12-31 19:00:00       -0.500000    8.660254e-01       -0.965926   \n",
       "2021-12-31 20:00:00        0.866025   -5.000000e-01        0.866025   \n",
       "2021-12-31 21:00:00       -1.000000   -3.919489e-15       -0.707107   \n",
       "2021-12-31 22:00:00        0.866025    5.000000e-01        0.500000   \n",
       "2021-12-31 23:00:00       -0.500000   -8.660254e-01       -0.258819   \n",
       "\n",
       "                     cos(11,freq=D)  sin(12,freq=D)  cos(12,freq=D)    trend  \n",
       "2019-01-01 01:00:00       -0.965926    1.224647e-16            -1.0      1.0  \n",
       "2019-01-01 02:00:00        0.866025   -2.449294e-16             1.0      2.0  \n",
       "2019-01-01 03:00:00       -0.707107    3.673940e-16            -1.0      3.0  \n",
       "2019-01-01 04:00:00        0.500000   -4.898587e-16             1.0      4.0  \n",
       "2019-01-01 05:00:00       -0.258819    6.123234e-16            -1.0      5.0  \n",
       "...                             ...             ...             ...      ...  \n",
       "2021-12-31 19:00:00       -0.258819    5.879543e-15            -1.0  26300.0  \n",
       "2021-12-31 20:00:00        0.500000   -2.449294e-15             1.0  26301.0  \n",
       "2021-12-31 21:00:00       -0.707107   -9.809554e-16            -1.0  26302.0  \n",
       "2021-12-31 22:00:00        0.866025   -9.799650e-15             1.0  26303.0  \n",
       "2021-12-31 23:00:00       -0.965926   -7.841453e-15            -1.0  26304.0  \n",
       "\n",
       "[26318 rows x 54 columns]"
      ]
     },
     "execution_count": 34,
     "metadata": {},
     "output_type": "execute_result"
    }
   ],
   "source": [
    "data_new"
   ]
  },
  {
   "cell_type": "markdown",
   "id": "64d695e4",
   "metadata": {},
   "source": [
    "(7) Join with the losses"
   ]
  },
  {
   "cell_type": "code",
   "execution_count": 43,
   "id": "b24d1ed5",
   "metadata": {},
   "outputs": [],
   "source": [
    "data = data_new.join(data_loss.set_index(\"Zeitstempel\"))"
   ]
  },
  {
   "cell_type": "markdown",
   "id": "e9100085",
   "metadata": {},
   "source": [
    "## B - Fully Connected ANN"
   ]
  },
  {
   "cell_type": "code",
   "execution_count": 44,
   "id": "8c3ef8c2",
   "metadata": {
    "scrolled": true
   },
   "outputs": [
    {
     "name": "stderr",
     "output_type": "stream",
     "text": [
      "2023-09-16 08:01:59.715073: I tensorflow/tsl/cuda/cudart_stub.cc:28] Could not find cuda drivers on your machine, GPU will not be used.\n",
      "2023-09-16 08:01:59.739383: I tensorflow/tsl/cuda/cudart_stub.cc:28] Could not find cuda drivers on your machine, GPU will not be used.\n",
      "2023-09-16 08:01:59.740901: I tensorflow/core/platform/cpu_feature_guard.cc:182] This TensorFlow binary is optimized to use available CPU instructions in performance-critical operations.\n",
      "To enable the following instructions: AVX2 FMA, in other operations, rebuild TensorFlow with the appropriate compiler flags.\n",
      "2023-09-16 08:02:00.405592: W tensorflow/compiler/tf2tensorrt/utils/py_utils.cc:38] TF-TRT Warning: Could not find TensorRT\n"
     ]
    }
   ],
   "source": [
    "import numpy as np\n",
    "import tensorflow as tf\n",
    "import sklearn"
   ]
  },
  {
   "cell_type": "code",
   "execution_count": 47,
   "id": "fc7bac6c",
   "metadata": {},
   "outputs": [],
   "source": [
    "X = data[[col for col in data.columns if col != \"kWh\"]]\n",
    "\n",
    "    \n",
    "    \n",
    "y = data[\"kWh\"].shift(-1)\n",
    "\n",
    "\n",
    "filter_na = y.notna()\n",
    "X = X[filter_na]\n",
    "y = y[filter_na]\n",
    "\n",
    "X = X.to_numpy()\n",
    "y = np.expand_dims(y.to_numpy(), axis=1)\n",
    "\n",
    "filt = np.array([not any(x) for x in np.isnan(X)])\n",
    "X = X[filt]\n",
    "y = y[filt]"
   ]
  },
  {
   "cell_type": "code",
   "execution_count": 48,
   "id": "c067e549",
   "metadata": {},
   "outputs": [
    {
     "name": "stdout",
     "output_type": "stream",
     "text": [
      "[[ 4.10670000e+00  5.97290000e+00  7.42680000e+00 ...  1.22464680e-16\n",
      "  -1.00000000e+00  1.00000000e+00]\n",
      " [ 3.71550000e+00  5.90071667e+00  7.24608333e+00 ... -2.44929360e-16\n",
      "   1.00000000e+00  2.00000000e+00]\n",
      " [ 3.32430000e+00  5.82853333e+00  7.06536667e+00 ...  3.67394040e-16\n",
      "  -1.00000000e+00  3.00000000e+00]\n",
      " ...\n",
      " [ 8.00000000e+00  9.40000000e+00  1.06300000e+01 ... -2.44929360e-15\n",
      "   1.00000000e+00  2.63010000e+04]\n",
      " [ 7.50000000e+00  8.88000000e+00  1.05100000e+01 ... -9.80955401e-16\n",
      "  -1.00000000e+00  2.63020000e+04]\n",
      " [ 6.97000000e+00  8.51000000e+00  1.03200000e+01 ... -9.79965032e-15\n",
      "   1.00000000e+00  2.63030000e+04]]\n"
     ]
    }
   ],
   "source": [
    "print(X)"
   ]
  },
  {
   "cell_type": "code",
   "execution_count": 49,
   "id": "72322053",
   "metadata": {},
   "outputs": [
    {
     "name": "stdout",
     "output_type": "stream",
     "text": [
      "[[133398.074458]\n",
      " [135133.851731]\n",
      " [131699.424059]\n",
      " ...\n",
      " [155109.51973 ]\n",
      " [171370.276941]\n",
      " [146054.790821]]\n"
     ]
    }
   ],
   "source": [
    "print(y)"
   ]
  },
  {
   "cell_type": "markdown",
   "id": "912d70e2",
   "metadata": {},
   "source": [
    "(1) Splitting the dataset into the Training set and Test set"
   ]
  },
  {
   "cell_type": "code",
   "execution_count": 52,
   "id": "9473b945",
   "metadata": {},
   "outputs": [],
   "source": [
    "#from sklearn.model_selection import train_test_splitANN\n",
    "X_train, X_test, y_train, y_test = sklearn.model_selection.train_test_split(X, y, test_size = 0.2, random_state = 0)"
   ]
  },
  {
   "cell_type": "code",
   "execution_count": 53,
   "id": "c9b4053f",
   "metadata": {},
   "outputs": [
    {
     "data": {
      "text/plain": [
       "array([[ 1.65610667e+01,  1.78887000e+01,  1.61576667e+01, ...,\n",
       "         3.67394040e-16, -1.00000000e+00,  1.47150000e+04],\n",
       "       [ 1.81100000e+00,  2.93266667e+00, -1.52166667e-01, ...,\n",
       "        -1.47081412e-15, -1.00000000e+00,  1.78250000e+04],\n",
       "       [ 1.42678667e+01,  1.68833000e+01,  1.38056333e+01, ...,\n",
       "        -1.22464680e-15,  1.00000000e+00,  6.08200000e+03],\n",
       "       ...,\n",
       "       [-5.61633333e-01,  6.16033333e-01,  1.61510000e+00, ...,\n",
       "        -7.34788079e-16,  1.00000000e+00,  1.76220000e+04],\n",
       "       [ 2.28600000e+01,  2.27200000e+01,  2.09600000e+01, ...,\n",
       "        -1.22464680e-15,  1.00000000e+00,  2.29780000e+04],\n",
       "       [ 5.37961667e+00,  9.23038333e+00,  6.55101667e+00, ...,\n",
       "        -2.20436424e-15,  1.00000000e+00,  9.93000000e+03]])"
      ]
     },
     "execution_count": 53,
     "metadata": {},
     "output_type": "execute_result"
    }
   ],
   "source": [
    "X_test"
   ]
  },
  {
   "cell_type": "code",
   "execution_count": 54,
   "id": "695d1502",
   "metadata": {},
   "outputs": [
    {
     "data": {
      "text/plain": [
       "array([[105881.914572],\n",
       "       [168219.084846],\n",
       "       [113622.840041],\n",
       "       ...,\n",
       "       [157128.98015 ],\n",
       "       [ 59554.920753],\n",
       "       [ 47244.277699]])"
      ]
     },
     "execution_count": 54,
     "metadata": {},
     "output_type": "execute_result"
    }
   ],
   "source": [
    "y_train"
   ]
  },
  {
   "cell_type": "markdown",
   "id": "170a2632",
   "metadata": {},
   "source": [
    "(2) Feature scaling"
   ]
  },
  {
   "cell_type": "code",
   "execution_count": 55,
   "id": "80fd555e",
   "metadata": {},
   "outputs": [],
   "source": [
    "# Feature Scaling\n",
    "from sklearn.preprocessing import StandardScaler\n",
    "sc_X = StandardScaler()\n",
    "X_train = sc_X.fit_transform(X_train)\n",
    "X_test = sc_X.transform(X_test)\n",
    "\n",
    "sc_y = StandardScaler()\n",
    "y_train = sc_y.fit_transform(y_train)\n",
    "y_test = sc_y.transform(y_test)\n"
   ]
  },
  {
   "cell_type": "code",
   "execution_count": 56,
   "id": "1e48966e",
   "metadata": {},
   "outputs": [
    {
     "data": {
      "text/plain": [
       "array([[ 0.77283313,  0.66425291,  0.75742313, ...,  0.15692658,\n",
       "        -0.99653822,  0.20797267],\n",
       "       [-1.19063449, -1.54284049, -1.50318842, ..., -0.33775373,\n",
       "        -0.99653822,  0.61707643],\n",
       "       [ 0.46757187,  0.51588391,  0.43142141, ..., -0.27150762,\n",
       "         1.0034738 , -0.927652  ],\n",
       "       ...,\n",
       "       [-1.50646959, -1.88471096, -1.25823782, ..., -0.13968171,\n",
       "         1.0034738 ,  0.59037287],\n",
       "       [ 1.61132098,  1.37721805,  1.42304674, ..., -0.27150762,\n",
       "         1.0034738 ,  1.29492584],\n",
       "       [-0.71559506, -0.61347315, -0.57409899, ..., -0.53515944,\n",
       "         1.0034738 , -0.42146832]])"
      ]
     },
     "execution_count": 56,
     "metadata": {},
     "output_type": "execute_result"
    }
   ],
   "source": [
    "X_test"
   ]
  },
  {
   "cell_type": "markdown",
   "id": "14b0d9e6",
   "metadata": {},
   "source": [
    "(3) Build the model"
   ]
  },
  {
   "cell_type": "code",
   "execution_count": 57,
   "id": "d57b1d8e",
   "metadata": {},
   "outputs": [
    {
     "name": "stderr",
     "output_type": "stream",
     "text": [
      "2023-09-16 08:04:33.581881: W tensorflow/core/common_runtime/gpu/gpu_device.cc:1960] Cannot dlopen some GPU libraries. Please make sure the missing libraries mentioned above are installed properly if you would like to use GPU. Follow the guide at https://www.tensorflow.org/install/gpu for how to download and setup the required libraries for your platform.\n",
      "Skipping registering GPU devices...\n"
     ]
    }
   ],
   "source": [
    "# a - Initializing the ANN\n",
    "ann = tf.keras.models.Sequential()\n",
    "# b - Adding the input layer and the first hidden layer\n",
    "ann.add(tf.keras.layers.Dense(units=64, activation='relu'))\n",
    "# c - Adding the second hidden layer\n",
    "ann.add(tf.keras.layers.Dense(units=64, activation='relu'))\n",
    "# d - Adding the output layer\n",
    "ann.add(tf.keras.layers.Dense(units=1))"
   ]
  },
  {
   "cell_type": "markdown",
   "id": "74c1cac4",
   "metadata": {},
   "source": [
    "(4) Training the ANN"
   ]
  },
  {
   "cell_type": "code",
   "execution_count": 58,
   "id": "04a4dbf1",
   "metadata": {},
   "outputs": [],
   "source": [
    "loss_fn = tf.keras.losses.SparseCategoricalCrossentropy(from_logits=True)"
   ]
  },
  {
   "cell_type": "code",
   "execution_count": 59,
   "id": "9b54af5a",
   "metadata": {},
   "outputs": [
    {
     "name": "stdout",
     "output_type": "stream",
     "text": [
      "Epoch 1/100\n",
      "658/658 [==============================] - 1s 830us/step - loss: 0.5014 - mse: 0.5014\n",
      "Epoch 2/100\n",
      "658/658 [==============================] - 1s 814us/step - loss: 0.3960 - mse: 0.3960\n",
      "Epoch 3/100\n",
      "658/658 [==============================] - 1s 801us/step - loss: 0.3657 - mse: 0.3657\n",
      "Epoch 4/100\n",
      "658/658 [==============================] - 1s 781us/step - loss: 0.3445 - mse: 0.3445\n",
      "Epoch 5/100\n",
      "658/658 [==============================] - 1s 791us/step - loss: 0.3292 - mse: 0.3292\n",
      "Epoch 6/100\n",
      "658/658 [==============================] - 1s 803us/step - loss: 0.3154 - mse: 0.3154\n",
      "Epoch 7/100\n",
      "658/658 [==============================] - 1s 800us/step - loss: 0.3038 - mse: 0.3038\n",
      "Epoch 8/100\n",
      "658/658 [==============================] - 1s 794us/step - loss: 0.2917 - mse: 0.2917\n",
      "Epoch 9/100\n",
      "658/658 [==============================] - 1s 795us/step - loss: 0.2801 - mse: 0.2801\n",
      "Epoch 10/100\n",
      "658/658 [==============================] - 1s 793us/step - loss: 0.2734 - mse: 0.2734\n",
      "Epoch 11/100\n",
      "658/658 [==============================] - 1s 788us/step - loss: 0.2630 - mse: 0.2630\n",
      "Epoch 12/100\n",
      "658/658 [==============================] - 1s 778us/step - loss: 0.2541 - mse: 0.2541\n",
      "Epoch 13/100\n",
      "658/658 [==============================] - 1s 784us/step - loss: 0.2487 - mse: 0.2487\n",
      "Epoch 14/100\n",
      "658/658 [==============================] - 1s 782us/step - loss: 0.2416 - mse: 0.2416\n",
      "Epoch 15/100\n",
      "658/658 [==============================] - 1s 797us/step - loss: 0.2329 - mse: 0.2329\n",
      "Epoch 16/100\n",
      "658/658 [==============================] - 1s 826us/step - loss: 0.2282 - mse: 0.2282\n",
      "Epoch 17/100\n",
      "658/658 [==============================] - 1s 828us/step - loss: 0.2251 - mse: 0.2251\n",
      "Epoch 18/100\n",
      "658/658 [==============================] - 1s 822us/step - loss: 0.2174 - mse: 0.2174\n",
      "Epoch 19/100\n",
      "658/658 [==============================] - 1s 784us/step - loss: 0.2122 - mse: 0.2122\n",
      "Epoch 20/100\n",
      "658/658 [==============================] - 1s 793us/step - loss: 0.2081 - mse: 0.2081\n",
      "Epoch 21/100\n",
      "658/658 [==============================] - 1s 790us/step - loss: 0.2042 - mse: 0.2042\n",
      "Epoch 22/100\n",
      "658/658 [==============================] - 1s 794us/step - loss: 0.1992 - mse: 0.1992\n",
      "Epoch 23/100\n",
      "658/658 [==============================] - 1s 799us/step - loss: 0.1949 - mse: 0.1949\n",
      "Epoch 24/100\n",
      "658/658 [==============================] - 1s 798us/step - loss: 0.1905 - mse: 0.1905\n",
      "Epoch 25/100\n",
      "658/658 [==============================] - 1s 802us/step - loss: 0.1885 - mse: 0.1885\n",
      "Epoch 26/100\n",
      "658/658 [==============================] - 1s 800us/step - loss: 0.1851 - mse: 0.1851\n",
      "Epoch 27/100\n",
      "658/658 [==============================] - 1s 800us/step - loss: 0.1803 - mse: 0.1803\n",
      "Epoch 28/100\n",
      "658/658 [==============================] - 1s 803us/step - loss: 0.1795 - mse: 0.1795\n",
      "Epoch 29/100\n",
      "658/658 [==============================] - 1s 828us/step - loss: 0.1769 - mse: 0.1769\n",
      "Epoch 30/100\n",
      "658/658 [==============================] - 1s 829us/step - loss: 0.1733 - mse: 0.1733\n",
      "Epoch 31/100\n",
      "658/658 [==============================] - 1s 831us/step - loss: 0.1681 - mse: 0.1681\n",
      "Epoch 32/100\n",
      "658/658 [==============================] - 1s 831us/step - loss: 0.1683 - mse: 0.1683\n",
      "Epoch 33/100\n",
      "658/658 [==============================] - 1s 817us/step - loss: 0.1655 - mse: 0.1655\n",
      "Epoch 34/100\n",
      "658/658 [==============================] - 1s 807us/step - loss: 0.1624 - mse: 0.1624\n",
      "Epoch 35/100\n",
      "658/658 [==============================] - 1s 786us/step - loss: 0.1618 - mse: 0.1618\n",
      "Epoch 36/100\n",
      "658/658 [==============================] - 1s 798us/step - loss: 0.1587 - mse: 0.1587\n",
      "Epoch 37/100\n",
      "658/658 [==============================] - 1s 798us/step - loss: 0.1588 - mse: 0.1588\n",
      "Epoch 38/100\n",
      "658/658 [==============================] - 1s 806us/step - loss: 0.1554 - mse: 0.1554\n",
      "Epoch 39/100\n",
      "658/658 [==============================] - 1s 797us/step - loss: 0.1529 - mse: 0.1529\n",
      "Epoch 40/100\n",
      "658/658 [==============================] - 1s 794us/step - loss: 0.1517 - mse: 0.1517\n",
      "Epoch 41/100\n",
      "658/658 [==============================] - 1s 842us/step - loss: 0.1510 - mse: 0.1510\n",
      "Epoch 42/100\n",
      "658/658 [==============================] - 1s 802us/step - loss: 0.1484 - mse: 0.1484\n",
      "Epoch 43/100\n",
      "658/658 [==============================] - 1s 790us/step - loss: 0.1470 - mse: 0.1470\n",
      "Epoch 44/100\n",
      "658/658 [==============================] - 1s 827us/step - loss: 0.1452 - mse: 0.1452\n",
      "Epoch 45/100\n",
      "658/658 [==============================] - 1s 795us/step - loss: 0.1452 - mse: 0.1452\n",
      "Epoch 46/100\n",
      "658/658 [==============================] - 1s 794us/step - loss: 0.1421 - mse: 0.1421\n",
      "Epoch 47/100\n",
      "658/658 [==============================] - 1s 794us/step - loss: 0.1407 - mse: 0.1407\n",
      "Epoch 48/100\n",
      "658/658 [==============================] - 1s 797us/step - loss: 0.1409 - mse: 0.1409\n",
      "Epoch 49/100\n",
      "658/658 [==============================] - 1s 795us/step - loss: 0.1391 - mse: 0.1391\n",
      "Epoch 50/100\n",
      "658/658 [==============================] - 1s 792us/step - loss: 0.1382 - mse: 0.1382\n",
      "Epoch 51/100\n",
      "658/658 [==============================] - 1s 793us/step - loss: 0.1356 - mse: 0.1356\n",
      "Epoch 52/100\n",
      "658/658 [==============================] - 1s 797us/step - loss: 0.1359 - mse: 0.1359\n",
      "Epoch 53/100\n",
      "658/658 [==============================] - 1s 794us/step - loss: 0.1328 - mse: 0.1328\n",
      "Epoch 54/100\n",
      "658/658 [==============================] - 1s 800us/step - loss: 0.1332 - mse: 0.1332\n",
      "Epoch 55/100\n",
      "658/658 [==============================] - 1s 823us/step - loss: 0.1322 - mse: 0.1322\n",
      "Epoch 56/100\n",
      "658/658 [==============================] - 1s 813us/step - loss: 0.1310 - mse: 0.1310\n",
      "Epoch 57/100\n",
      "658/658 [==============================] - 1s 895us/step - loss: 0.1298 - mse: 0.1298\n",
      "Epoch 58/100\n",
      "658/658 [==============================] - 1s 821us/step - loss: 0.1293 - mse: 0.1293\n",
      "Epoch 59/100\n",
      "658/658 [==============================] - 1s 808us/step - loss: 0.1275 - mse: 0.1275\n",
      "Epoch 60/100\n",
      "658/658 [==============================] - 1s 813us/step - loss: 0.1267 - mse: 0.1267\n",
      "Epoch 61/100\n",
      "658/658 [==============================] - 1s 805us/step - loss: 0.1270 - mse: 0.1270\n",
      "Epoch 62/100\n",
      "658/658 [==============================] - 1s 806us/step - loss: 0.1246 - mse: 0.1246\n",
      "Epoch 63/100\n",
      "658/658 [==============================] - 1s 812us/step - loss: 0.1243 - mse: 0.1243\n",
      "Epoch 64/100\n",
      "658/658 [==============================] - 1s 817us/step - loss: 0.1237 - mse: 0.1237\n",
      "Epoch 65/100\n",
      "658/658 [==============================] - 1s 811us/step - loss: 0.1223 - mse: 0.1223\n",
      "Epoch 66/100\n",
      "658/658 [==============================] - 1s 809us/step - loss: 0.1209 - mse: 0.1209\n",
      "Epoch 67/100\n",
      "658/658 [==============================] - 1s 799us/step - loss: 0.1208 - mse: 0.1208\n",
      "Epoch 68/100\n",
      "658/658 [==============================] - 1s 799us/step - loss: 0.1205 - mse: 0.1205\n",
      "Epoch 69/100\n",
      "658/658 [==============================] - 1s 798us/step - loss: 0.1197 - mse: 0.1197\n",
      "Epoch 70/100\n",
      "658/658 [==============================] - 1s 799us/step - loss: 0.1191 - mse: 0.1191\n",
      "Epoch 71/100\n",
      "658/658 [==============================] - 1s 807us/step - loss: 0.1166 - mse: 0.1166\n",
      "Epoch 72/100\n",
      "658/658 [==============================] - 1s 793us/step - loss: 0.1170 - mse: 0.1170\n",
      "Epoch 73/100\n",
      "658/658 [==============================] - 1s 787us/step - loss: 0.1175 - mse: 0.1175\n",
      "Epoch 74/100\n",
      "658/658 [==============================] - 1s 797us/step - loss: 0.1160 - mse: 0.1160\n",
      "Epoch 75/100\n",
      "658/658 [==============================] - 1s 806us/step - loss: 0.1159 - mse: 0.1159\n",
      "Epoch 76/100\n",
      "658/658 [==============================] - 1s 794us/step - loss: 0.1137 - mse: 0.1137\n",
      "Epoch 77/100\n",
      "658/658 [==============================] - 1s 794us/step - loss: 0.1138 - mse: 0.1138\n",
      "Epoch 78/100\n",
      "658/658 [==============================] - 1s 784us/step - loss: 0.1134 - mse: 0.1134\n",
      "Epoch 79/100\n",
      "658/658 [==============================] - 1s 786us/step - loss: 0.1136 - mse: 0.1136\n",
      "Epoch 80/100\n",
      "658/658 [==============================] - 1s 791us/step - loss: 0.1116 - mse: 0.1116\n",
      "Epoch 81/100\n",
      "658/658 [==============================] - 1s 785us/step - loss: 0.1104 - mse: 0.1104\n",
      "Epoch 82/100\n",
      "658/658 [==============================] - 1s 791us/step - loss: 0.1109 - mse: 0.1109\n",
      "Epoch 83/100\n"
     ]
    },
    {
     "name": "stdout",
     "output_type": "stream",
     "text": [
      "658/658 [==============================] - 1s 791us/step - loss: 0.1104 - mse: 0.1104\n",
      "Epoch 84/100\n",
      "658/658 [==============================] - 1s 787us/step - loss: 0.1096 - mse: 0.1096\n",
      "Epoch 85/100\n",
      "658/658 [==============================] - 1s 789us/step - loss: 0.1091 - mse: 0.1091\n",
      "Epoch 86/100\n",
      "658/658 [==============================] - 1s 794us/step - loss: 0.1084 - mse: 0.1084\n",
      "Epoch 87/100\n",
      "658/658 [==============================] - 1s 789us/step - loss: 0.1091 - mse: 0.1091\n",
      "Epoch 88/100\n",
      "658/658 [==============================] - 1s 790us/step - loss: 0.1086 - mse: 0.1086\n",
      "Epoch 89/100\n",
      "658/658 [==============================] - 1s 787us/step - loss: 0.1071 - mse: 0.1071\n",
      "Epoch 90/100\n",
      "658/658 [==============================] - 1s 792us/step - loss: 0.1071 - mse: 0.1071\n",
      "Epoch 91/100\n",
      "658/658 [==============================] - 1s 795us/step - loss: 0.1076 - mse: 0.1076\n",
      "Epoch 92/100\n",
      "658/658 [==============================] - 1s 792us/step - loss: 0.1058 - mse: 0.1058\n",
      "Epoch 93/100\n",
      "658/658 [==============================] - 1s 795us/step - loss: 0.1054 - mse: 0.1054\n",
      "Epoch 94/100\n",
      "658/658 [==============================] - 1s 793us/step - loss: 0.1058 - mse: 0.1058\n",
      "Epoch 95/100\n",
      "658/658 [==============================] - 1s 794us/step - loss: 0.1056 - mse: 0.1056\n",
      "Epoch 96/100\n",
      "658/658 [==============================] - 1s 791us/step - loss: 0.1036 - mse: 0.1036\n",
      "Epoch 97/100\n",
      "658/658 [==============================] - 1s 775us/step - loss: 0.1038 - mse: 0.1038\n",
      "Epoch 98/100\n",
      "658/658 [==============================] - 1s 786us/step - loss: 0.1034 - mse: 0.1034\n",
      "Epoch 99/100\n",
      "658/658 [==============================] - 1s 795us/step - loss: 0.1039 - mse: 0.1039\n",
      "Epoch 100/100\n",
      "658/658 [==============================] - 1s 789us/step - loss: 0.1038 - mse: 0.1038\n"
     ]
    },
    {
     "data": {
      "text/plain": [
       "<keras.src.callbacks.History at 0x7fc7f6596640>"
      ]
     },
     "execution_count": 59,
     "metadata": {},
     "output_type": "execute_result"
    }
   ],
   "source": [
    "# Compiling the ANN\n",
    "ann.compile(optimizer = 'adam', loss = 'mse', metrics = ['mse'])\n",
    "\n",
    "# Training the ANN on the Training set\n",
    "ann.fit(X_train, y_train, batch_size = 32, epochs = 100)"
   ]
  },
  {
   "cell_type": "code",
   "execution_count": 100,
   "id": "b7d309d9",
   "metadata": {},
   "outputs": [
    {
     "data": {
      "text/plain": [
       "<keras.src.engine.sequential.Sequential at 0x7f6c65ca6f70>"
      ]
     },
     "execution_count": 100,
     "metadata": {},
     "output_type": "execute_result"
    }
   ],
   "source": [
    "ann"
   ]
  },
  {
   "cell_type": "markdown",
   "id": "14380d96",
   "metadata": {},
   "source": [
    "(5) Single point prediction"
   ]
  },
  {
   "cell_type": "code",
   "execution_count": 181,
   "id": "ba796547",
   "metadata": {},
   "outputs": [
    {
     "data": {
      "text/plain": [
       "array([[ 2.00738619,  1.46323412,  1.52897788, ...,  0.17341794,\n",
       "        -1.19692278, -0.35557691],\n",
       "       [-0.84097718, -0.9791716 , -1.41255476, ..., -1.36289471,\n",
       "        -0.2310321 ,  1.06409652],\n",
       "       [-0.50770855, -0.25638005, -0.99385852, ..., -1.07224097,\n",
       "         2.26218986,  0.49622714],\n",
       "       ...,\n",
       "       [-1.15944306, -0.90304749, -0.99061931, ..., -1.07224097,\n",
       "         0.39959074,  0.49622714],\n",
       "       [-1.30163483, -1.19021247, -1.18515217, ..., -1.07224097,\n",
       "         0.39959074,  1.06409652],\n",
       "       [ 0.09471896,  0.2177207 ,  0.88420334, ..., -1.07224097,\n",
       "        -1.02928886,  0.49622714]])"
      ]
     },
     "execution_count": 181,
     "metadata": {},
     "output_type": "execute_result"
    }
   ],
   "source": [
    "X_train"
   ]
  },
  {
   "cell_type": "code",
   "execution_count": 60,
   "id": "24feacca",
   "metadata": {},
   "outputs": [
    {
     "name": "stdout",
     "output_type": "stream",
     "text": [
      "165/165 [==============================] - 0s 642us/step\n",
      "[[-0.56150746]\n",
      " [ 2.1033058 ]\n",
      " [-0.1715426 ]\n",
      " ...\n",
      " [ 0.21456456]\n",
      " [-1.4038761 ]\n",
      " [-0.05044996]]\n"
     ]
    }
   ],
   "source": [
    "print(ann.predict(X_test))"
   ]
  },
  {
   "cell_type": "code",
   "execution_count": 172,
   "id": "ca8bc565",
   "metadata": {},
   "outputs": [
    {
     "name": "stdout",
     "output_type": "stream",
     "text": [
      "[[ 68100.875419]\n",
      " [ 84321.367955]\n",
      " [ 75303.191799]\n",
      " ...\n",
      " [ 90202.164123]\n",
      " [138678.206819]\n",
      " [ 52018.748047]]\n"
     ]
    }
   ],
   "source": [
    "print(y_test)"
   ]
  },
  {
   "cell_type": "code",
   "execution_count": 173,
   "id": "a3e98f9f",
   "metadata": {},
   "outputs": [
    {
     "name": "stdout",
     "output_type": "stream",
     "text": [
      "165/165 [==============================] - 0s 791us/step - loss: 604413120.0000 - mse: 604413120.0000\n"
     ]
    },
    {
     "data": {
      "text/plain": [
       "[604413120.0, 604413120.0]"
      ]
     },
     "execution_count": 173,
     "metadata": {},
     "output_type": "execute_result"
    }
   ],
   "source": [
    "ann_score = ann.evaluate(X_test, y_test, verbose = 1)\n",
    "ann_score"
   ]
  },
  {
   "cell_type": "code",
   "execution_count": 61,
   "id": "90a94d58",
   "metadata": {},
   "outputs": [],
   "source": [
    "import matplotlib.pyplot as plt"
   ]
  },
  {
   "cell_type": "code",
   "execution_count": 62,
   "id": "52968045",
   "metadata": {},
   "outputs": [
    {
     "name": "stdout",
     "output_type": "stream",
     "text": [
      "165/165 [==============================] - 0s 636us/step\n"
     ]
    },
    {
     "data": {
      "text/plain": [
       "[<matplotlib.lines.Line2D at 0x7fc78c1c0ee0>]"
      ]
     },
     "execution_count": 62,
     "metadata": {},
     "output_type": "execute_result"
    },
    {
     "data": {
      "image/png": "[encoded data removed]",
      "text/plain": [
       "<Figure size 640x480 with 1 Axes>"
      ]
     },
     "metadata": {},
     "output_type": "display_data"
    }
   ],
   "source": [
    "plt.plot(ann.predict(X_test)[::36])\n",
    "plt.plot(y_test[::36])"
   ]
  },
  {
   "cell_type": "code",
   "execution_count": 188,
   "id": "21e4d478",
   "metadata": {},
   "outputs": [
    {
     "data": {
      "text/plain": [
       "array([[ 68100.875419],\n",
       "       [ 84321.367955],\n",
       "       [ 75303.191799],\n",
       "       ...,\n",
       "       [ 90202.164123],\n",
       "       [138678.206819],\n",
       "       [ 52018.748047]])"
      ]
     },
     "execution_count": 188,
     "metadata": {},
     "output_type": "execute_result"
    }
   ],
   "source": [
    "sc_y.inverse_transform(y_test)"
   ]
  },
  {
   "cell_type": "code",
   "execution_count": 63,
   "id": "bd8dc9ed",
   "metadata": {},
   "outputs": [
    {
     "name": "stdout",
     "output_type": "stream",
     "text": [
      "165/165 [==============================] - 0s 645us/step\n"
     ]
    },
    {
     "data": {
      "text/plain": [
       "[<matplotlib.lines.Line2D at 0x7fc78c0b89a0>]"
      ]
     },
     "execution_count": 63,
     "metadata": {},
     "output_type": "execute_result"
    },
    {
     "data": {
      "image/png": "[encoded data removed]",
      "text/plain": [
       "<Figure size 640x480 with 1 Axes>"
      ]
     },
     "metadata": {},
     "output_type": "display_data"
    }
   ],
   "source": [
    "plt.plot(sc_y.inverse_transform(ann.predict(X_test))[::36])\n",
    "plt.plot(sc_y.inverse_transform(y_test)[::36])"
   ]
  },
  {
   "cell_type": "code",
   "execution_count": null,
   "id": "1442cdba",
   "metadata": {},
   "outputs": [],
   "source": []
  }
 ],
 "metadata": {
  "kernelspec": {
   "display_name": "Python 3 (ipykernel)",
   "language": "python",
   "name": "python3"
  },
  "language_info": {
   "codemirror_mode": {
    "name": "ipython",
    "version": 3
   },
   "file_extension": ".py",
   "mimetype": "text/x-python",
   "name": "python",
   "nbconvert_exporter": "python",
   "pygments_lexer": "ipython3",
   "version": "3.9.7"
  }
 },
 "nbformat": 4,
 "nbformat_minor": 5
}
