{
 "cells": [
  {
   "cell_type": "code",
   "execution_count": 1,
   "id": "a7936e01",
   "metadata": {},
   "outputs": [
    {
     "data": {
      "text/plain": [
       "Index(['MWh', 'temperature_fore_ch', 'temperature_fore_fr',\n",
       "       'temperature_fore_de', 'temperature_fore_it', 'solar_fore_de [MW]',\n",
       "       'solar_fore_it [MW]', 'wind_fore_de [MW]', 'wind_fore_it [MW]', 'CH_AT',\n",
       "       'CH_DE', 'CH_FR', 'CH_IT', 'AT_CH', 'DE_CH', 'FR_CH', 'IT_CH'],\n",
       "      dtype='object')"
      ]
     },
     "execution_count": 1,
     "metadata": {},
     "output_type": "execute_result"
    }
   ],
   "source": [
    "import numpy as np\n",
    "import pandas as pd\n",
    "import holidays\n",
    "import datetime\n",
    "\n",
    "from sklearn.linear_model import LinearRegression\n",
    "from sklearn import metrics\n",
    "\n",
    "from load_data import load_data, split_data\n",
    "\n",
    "data = load_data(\"1h\")\n",
    "all_columns = data.keys()\n",
    "all_columns"
   ]
  },
  {
   "cell_type": "code",
   "execution_count": 2,
   "id": "3408b73f",
   "metadata": {},
   "outputs": [],
   "source": [
    "import warnings\n",
    "warnings.simplefilter(action='ignore', category=pd.errors.PerformanceWarning)"
   ]
  },
  {
   "cell_type": "code",
   "execution_count": 3,
   "id": "5452ea7c",
   "metadata": {},
   "outputs": [],
   "source": [
    "columns_to_drop = [\n",
    "    \"CH_AT\",\n",
    "    \"CH_DE\",\n",
    "    \"CH_FR\",\n",
    "    \"CH_IT\",\n",
    "    \"AT_CH\",\n",
    "    \"DE_CH\",\n",
    "    \"FR_CH\",\n",
    "    \"IT_CH\",\n",
    "]"
   ]
  },
  {
   "cell_type": "code",
   "execution_count": 4,
   "id": "5ff0c7f3",
   "metadata": {},
   "outputs": [],
   "source": [
    "data_filtered = data.drop(columns=columns_to_drop)"
   ]
  },
  {
   "cell_type": "code",
   "execution_count": 5,
   "id": "2fa70119",
   "metadata": {},
   "outputs": [],
   "source": [
    "target_col = [\"MWh\"]\n",
    "data_columns = data_filtered.columns"
   ]
  },
  {
   "cell_type": "code",
   "execution_count": 6,
   "id": "4493e8cd",
   "metadata": {},
   "outputs": [],
   "source": [
    "new_df = data_filtered.groupby(data_filtered.index.date)[data_columns].agg(list)"
   ]
  },
  {
   "cell_type": "raw",
   "id": "22d1af45",
   "metadata": {},
   "source": [
    "# Create a new DataFrame with a date index\n",
    "date_index = np.unique(data_filtered.index.date)\n",
    "new_df = pd.DataFrame(index=date_index)\n",
    "\n",
    "# Initialize an empty array for each date with 24 values\n",
    "for column in target_col:\n",
    "    new_df[column] = [np.array([np.nan] * 24) for _ in range(len(date_index))]"
   ]
  },
  {
   "cell_type": "raw",
   "id": "9f5be817",
   "metadata": {},
   "source": [
    "new_df.shape, new_df.iloc[0][0].shape"
   ]
  },
  {
   "cell_type": "raw",
   "id": "049b5420",
   "metadata": {},
   "source": [
    "# Populate the array with the hourly values\n",
    "for column in target_col:\n",
    "    for date in date_index:\n",
    "        hourly_values = data_filtered.loc[date.strftime('%Y-%m-%d')][column].values\n",
    "        new_df.loc[date][column] = hourly_values"
   ]
  },
  {
   "cell_type": "code",
   "execution_count": 7,
   "id": "503d5ab0",
   "metadata": {},
   "outputs": [],
   "source": [
    "feature_cols = []\n",
    "# Create lagged features\n",
    "for col in target_col:\n",
    "    for i in range(1, 8):  # for past 7 days (in hours)\n",
    "        new_df[f'lag_{col}_{i}'] = new_df[col].shift(i)\n",
    "        feature_cols += [f'lag_{col}_{i}']"
   ]
  },
  {
   "cell_type": "code",
   "execution_count": 14,
   "id": "61046dcf",
   "metadata": {},
   "outputs": [
    {
     "data": {
      "text/html": [
       "<div>\n",
       "<style scoped>\n",
       "    .dataframe tbody tr th:only-of-type {\n",
       "        vertical-align: middle;\n",
       "    }\n",
       "\n",
       "    .dataframe tbody tr th {\n",
       "        vertical-align: top;\n",
       "    }\n",
       "\n",
       "    .dataframe thead th {\n",
       "        text-align: right;\n",
       "    }\n",
       "</style>\n",
       "<table border=\"1\" class=\"dataframe\">\n",
       "  <thead>\n",
       "    <tr style=\"text-align: right;\">\n",
       "      <th></th>\n",
       "      <th>lag_MWh_1</th>\n",
       "      <th>lag_MWh_2</th>\n",
       "      <th>lag_MWh_3</th>\n",
       "      <th>lag_MWh_4</th>\n",
       "      <th>lag_MWh_5</th>\n",
       "      <th>lag_MWh_6</th>\n",
       "      <th>lag_MWh_7</th>\n",
       "    </tr>\n",
       "  </thead>\n",
       "  <tbody>\n",
       "    <tr>\n",
       "      <th>2019-01-01</th>\n",
       "      <td>None</td>\n",
       "      <td>None</td>\n",
       "      <td>None</td>\n",
       "      <td>None</td>\n",
       "      <td>None</td>\n",
       "      <td>None</td>\n",
       "      <td>None</td>\n",
       "    </tr>\n",
       "    <tr>\n",
       "      <th>2019-01-02</th>\n",
       "      <td>[129.716036003, 133.398074458, 135.13385173100...</td>\n",
       "      <td>None</td>\n",
       "      <td>None</td>\n",
       "      <td>None</td>\n",
       "      <td>None</td>\n",
       "      <td>None</td>\n",
       "      <td>None</td>\n",
       "    </tr>\n",
       "    <tr>\n",
       "      <th>2019-01-03</th>\n",
       "      <td>[160.254575486, 157.627130612, 162.555837972, ...</td>\n",
       "      <td>[129.716036003, 133.398074458, 135.13385173100...</td>\n",
       "      <td>None</td>\n",
       "      <td>None</td>\n",
       "      <td>None</td>\n",
       "      <td>None</td>\n",
       "      <td>None</td>\n",
       "    </tr>\n",
       "    <tr>\n",
       "      <th>2019-01-04</th>\n",
       "      <td>[161.491635231, 164.567867901, 144.99496507, 1...</td>\n",
       "      <td>[160.254575486, 157.627130612, 162.555837972, ...</td>\n",
       "      <td>[129.716036003, 133.398074458, 135.13385173100...</td>\n",
       "      <td>None</td>\n",
       "      <td>None</td>\n",
       "      <td>None</td>\n",
       "      <td>None</td>\n",
       "    </tr>\n",
       "    <tr>\n",
       "      <th>2019-01-05</th>\n",
       "      <td>[197.708791105, 214.018616727, 226.156810638, ...</td>\n",
       "      <td>[161.491635231, 164.567867901, 144.99496507, 1...</td>\n",
       "      <td>[160.254575486, 157.627130612, 162.555837972, ...</td>\n",
       "      <td>[129.716036003, 133.398074458, 135.13385173100...</td>\n",
       "      <td>None</td>\n",
       "      <td>None</td>\n",
       "      <td>None</td>\n",
       "    </tr>\n",
       "    <tr>\n",
       "      <th>...</th>\n",
       "      <td>...</td>\n",
       "      <td>...</td>\n",
       "      <td>...</td>\n",
       "      <td>...</td>\n",
       "      <td>...</td>\n",
       "      <td>...</td>\n",
       "      <td>...</td>\n",
       "    </tr>\n",
       "    <tr>\n",
       "      <th>2021-12-27</th>\n",
       "      <td>[126.97557193899999, 122.506341252, 117.759608...</td>\n",
       "      <td>[103.814344879, 115.79573829899999, 119.124220...</td>\n",
       "      <td>[96.965601373, 104.161457059, 125.646292993999...</td>\n",
       "      <td>[100.11748447299999, 101.074044227, 112.005609...</td>\n",
       "      <td>[85.25125266, 94.96943925800001, 98.78998129, ...</td>\n",
       "      <td>[104.879053009, 111.447329443, 122.003848153, ...</td>\n",
       "      <td>[118.93402083800001, 122.766563235, 125.508276...</td>\n",
       "    </tr>\n",
       "    <tr>\n",
       "      <th>2021-12-28</th>\n",
       "      <td>[88.593463178, 95.671567192, 94.462406665, 84....</td>\n",
       "      <td>[126.97557193899999, 122.506341252, 117.759608...</td>\n",
       "      <td>[103.814344879, 115.79573829899999, 119.124220...</td>\n",
       "      <td>[96.965601373, 104.161457059, 125.646292993999...</td>\n",
       "      <td>[100.11748447299999, 101.074044227, 112.005609...</td>\n",
       "      <td>[85.25125266, 94.96943925800001, 98.78998129, ...</td>\n",
       "      <td>[104.879053009, 111.447329443, 122.003848153, ...</td>\n",
       "    </tr>\n",
       "    <tr>\n",
       "      <th>2021-12-29</th>\n",
       "      <td>[121.391864488, 120.860130201, 125.649269606, ...</td>\n",
       "      <td>[88.593463178, 95.671567192, 94.462406665, 84....</td>\n",
       "      <td>[126.97557193899999, 122.506341252, 117.759608...</td>\n",
       "      <td>[103.814344879, 115.79573829899999, 119.124220...</td>\n",
       "      <td>[96.965601373, 104.161457059, 125.646292993999...</td>\n",
       "      <td>[100.11748447299999, 101.074044227, 112.005609...</td>\n",
       "      <td>[85.25125266, 94.96943925800001, 98.78998129, ...</td>\n",
       "    </tr>\n",
       "    <tr>\n",
       "      <th>2021-12-30</th>\n",
       "      <td>[115.549291126, 108.695661341, 104.90628235300...</td>\n",
       "      <td>[121.391864488, 120.860130201, 125.649269606, ...</td>\n",
       "      <td>[88.593463178, 95.671567192, 94.462406665, 84....</td>\n",
       "      <td>[126.97557193899999, 122.506341252, 117.759608...</td>\n",
       "      <td>[103.814344879, 115.79573829899999, 119.124220...</td>\n",
       "      <td>[96.965601373, 104.161457059, 125.646292993999...</td>\n",
       "      <td>[100.11748447299999, 101.074044227, 112.005609...</td>\n",
       "    </tr>\n",
       "    <tr>\n",
       "      <th>2021-12-31</th>\n",
       "      <td>[132.49159090400002, 136.875372981, 131.760076...</td>\n",
       "      <td>[115.549291126, 108.695661341, 104.90628235300...</td>\n",
       "      <td>[121.391864488, 120.860130201, 125.649269606, ...</td>\n",
       "      <td>[88.593463178, 95.671567192, 94.462406665, 84....</td>\n",
       "      <td>[126.97557193899999, 122.506341252, 117.759608...</td>\n",
       "      <td>[103.814344879, 115.79573829899999, 119.124220...</td>\n",
       "      <td>[96.965601373, 104.161457059, 125.646292993999...</td>\n",
       "    </tr>\n",
       "  </tbody>\n",
       "</table>\n",
       "<p>1096 rows × 7 columns</p>\n",
       "</div>"
      ],
      "text/plain": [
       "                                                    lag_MWh_1  \\\n",
       "2019-01-01                                               None   \n",
       "2019-01-02  [129.716036003, 133.398074458, 135.13385173100...   \n",
       "2019-01-03  [160.254575486, 157.627130612, 162.555837972, ...   \n",
       "2019-01-04  [161.491635231, 164.567867901, 144.99496507, 1...   \n",
       "2019-01-05  [197.708791105, 214.018616727, 226.156810638, ...   \n",
       "...                                                       ...   \n",
       "2021-12-27  [126.97557193899999, 122.506341252, 117.759608...   \n",
       "2021-12-28  [88.593463178, 95.671567192, 94.462406665, 84....   \n",
       "2021-12-29  [121.391864488, 120.860130201, 125.649269606, ...   \n",
       "2021-12-30  [115.549291126, 108.695661341, 104.90628235300...   \n",
       "2021-12-31  [132.49159090400002, 136.875372981, 131.760076...   \n",
       "\n",
       "                                                    lag_MWh_2  \\\n",
       "2019-01-01                                               None   \n",
       "2019-01-02                                               None   \n",
       "2019-01-03  [129.716036003, 133.398074458, 135.13385173100...   \n",
       "2019-01-04  [160.254575486, 157.627130612, 162.555837972, ...   \n",
       "2019-01-05  [161.491635231, 164.567867901, 144.99496507, 1...   \n",
       "...                                                       ...   \n",
       "2021-12-27  [103.814344879, 115.79573829899999, 119.124220...   \n",
       "2021-12-28  [126.97557193899999, 122.506341252, 117.759608...   \n",
       "2021-12-29  [88.593463178, 95.671567192, 94.462406665, 84....   \n",
       "2021-12-30  [121.391864488, 120.860130201, 125.649269606, ...   \n",
       "2021-12-31  [115.549291126, 108.695661341, 104.90628235300...   \n",
       "\n",
       "                                                    lag_MWh_3  \\\n",
       "2019-01-01                                               None   \n",
       "2019-01-02                                               None   \n",
       "2019-01-03                                               None   \n",
       "2019-01-04  [129.716036003, 133.398074458, 135.13385173100...   \n",
       "2019-01-05  [160.254575486, 157.627130612, 162.555837972, ...   \n",
       "...                                                       ...   \n",
       "2021-12-27  [96.965601373, 104.161457059, 125.646292993999...   \n",
       "2021-12-28  [103.814344879, 115.79573829899999, 119.124220...   \n",
       "2021-12-29  [126.97557193899999, 122.506341252, 117.759608...   \n",
       "2021-12-30  [88.593463178, 95.671567192, 94.462406665, 84....   \n",
       "2021-12-31  [121.391864488, 120.860130201, 125.649269606, ...   \n",
       "\n",
       "                                                    lag_MWh_4  \\\n",
       "2019-01-01                                               None   \n",
       "2019-01-02                                               None   \n",
       "2019-01-03                                               None   \n",
       "2019-01-04                                               None   \n",
       "2019-01-05  [129.716036003, 133.398074458, 135.13385173100...   \n",
       "...                                                       ...   \n",
       "2021-12-27  [100.11748447299999, 101.074044227, 112.005609...   \n",
       "2021-12-28  [96.965601373, 104.161457059, 125.646292993999...   \n",
       "2021-12-29  [103.814344879, 115.79573829899999, 119.124220...   \n",
       "2021-12-30  [126.97557193899999, 122.506341252, 117.759608...   \n",
       "2021-12-31  [88.593463178, 95.671567192, 94.462406665, 84....   \n",
       "\n",
       "                                                    lag_MWh_5  \\\n",
       "2019-01-01                                               None   \n",
       "2019-01-02                                               None   \n",
       "2019-01-03                                               None   \n",
       "2019-01-04                                               None   \n",
       "2019-01-05                                               None   \n",
       "...                                                       ...   \n",
       "2021-12-27  [85.25125266, 94.96943925800001, 98.78998129, ...   \n",
       "2021-12-28  [100.11748447299999, 101.074044227, 112.005609...   \n",
       "2021-12-29  [96.965601373, 104.161457059, 125.646292993999...   \n",
       "2021-12-30  [103.814344879, 115.79573829899999, 119.124220...   \n",
       "2021-12-31  [126.97557193899999, 122.506341252, 117.759608...   \n",
       "\n",
       "                                                    lag_MWh_6  \\\n",
       "2019-01-01                                               None   \n",
       "2019-01-02                                               None   \n",
       "2019-01-03                                               None   \n",
       "2019-01-04                                               None   \n",
       "2019-01-05                                               None   \n",
       "...                                                       ...   \n",
       "2021-12-27  [104.879053009, 111.447329443, 122.003848153, ...   \n",
       "2021-12-28  [85.25125266, 94.96943925800001, 98.78998129, ...   \n",
       "2021-12-29  [100.11748447299999, 101.074044227, 112.005609...   \n",
       "2021-12-30  [96.965601373, 104.161457059, 125.646292993999...   \n",
       "2021-12-31  [103.814344879, 115.79573829899999, 119.124220...   \n",
       "\n",
       "                                                    lag_MWh_7  \n",
       "2019-01-01                                               None  \n",
       "2019-01-02                                               None  \n",
       "2019-01-03                                               None  \n",
       "2019-01-04                                               None  \n",
       "2019-01-05                                               None  \n",
       "...                                                       ...  \n",
       "2021-12-27  [118.93402083800001, 122.766563235, 125.508276...  \n",
       "2021-12-28  [104.879053009, 111.447329443, 122.003848153, ...  \n",
       "2021-12-29  [85.25125266, 94.96943925800001, 98.78998129, ...  \n",
       "2021-12-30  [100.11748447299999, 101.074044227, 112.005609...  \n",
       "2021-12-31  [96.965601373, 104.161457059, 125.646292993999...  \n",
       "\n",
       "[1096 rows x 7 columns]"
      ]
     },
     "execution_count": 14,
     "metadata": {},
     "output_type": "execute_result"
    }
   ],
   "source": [
    "new_df[feature_cols]"
   ]
  },
  {
   "cell_type": "code",
   "execution_count": 15,
   "id": "22cdc437",
   "metadata": {},
   "outputs": [
    {
     "data": {
      "text/plain": [
       "datetime.date(2019, 1, 1)"
      ]
     },
     "execution_count": 15,
     "metadata": {},
     "output_type": "execute_result"
    }
   ],
   "source": [
    "new_df.index[0]"
   ]
  },
  {
   "cell_type": "code",
   "execution_count": 27,
   "id": "1dfac7d4",
   "metadata": {},
   "outputs": [],
   "source": [
    "train = new_df[(new_df.index<datetime.date(2021, 12, 31))&(new_df.index>datetime.date(2021, 1, 1))]\n",
    "test = new_df[(new_df.index<datetime.date(2021, 1, 1))&(new_df.index>datetime.date(2019, 1, 2))]"
   ]
  },
  {
   "cell_type": "code",
   "execution_count": 28,
   "id": "9d5afd6d",
   "metadata": {},
   "outputs": [],
   "source": [
    "#feature_cols = new_df.columns.drop(target_col)\n",
    "X_train = np.vstack(train[feature_cols].apply(np.hstack, axis=1).values)\n",
    "#X_train.reshape(-1, 1)\n",
    "y_train = np.vstack(train[target_col].apply(np.hstack, axis=1).values)"
   ]
  },
  {
   "cell_type": "code",
   "execution_count": 29,
   "id": "95e2dc21",
   "metadata": {},
   "outputs": [
    {
     "data": {
      "text/plain": [
       "((363, 168), (363, 24))"
      ]
     },
     "execution_count": 29,
     "metadata": {},
     "output_type": "execute_result"
    }
   ],
   "source": [
    "X_train.shape, y_train.shape"
   ]
  },
  {
   "cell_type": "code",
   "execution_count": 30,
   "id": "17d22dcb",
   "metadata": {},
   "outputs": [
    {
     "data": {
      "text/html": [
       "<style>#sk-container-id-3 {color: black;}#sk-container-id-3 pre{padding: 0;}#sk-container-id-3 div.sk-toggleable {background-color: white;}#sk-container-id-3 label.sk-toggleable__label {cursor: pointer;display: block;width: 100%;margin-bottom: 0;padding: 0.3em;box-sizing: border-box;text-align: center;}#sk-container-id-3 label.sk-toggleable__label-arrow:before {content: \"▸\";float: left;margin-right: 0.25em;color: #696969;}#sk-container-id-3 label.sk-toggleable__label-arrow:hover:before {color: black;}#sk-container-id-3 div.sk-estimator:hover label.sk-toggleable__label-arrow:before {color: black;}#sk-container-id-3 div.sk-toggleable__content {max-height: 0;max-width: 0;overflow: hidden;text-align: left;background-color: #f0f8ff;}#sk-container-id-3 div.sk-toggleable__content pre {margin: 0.2em;color: black;border-radius: 0.25em;background-color: #f0f8ff;}#sk-container-id-3 input.sk-toggleable__control:checked~div.sk-toggleable__content {max-height: 200px;max-width: 100%;overflow: auto;}#sk-container-id-3 input.sk-toggleable__control:checked~label.sk-toggleable__label-arrow:before {content: \"▾\";}#sk-container-id-3 div.sk-estimator input.sk-toggleable__control:checked~label.sk-toggleable__label {background-color: #d4ebff;}#sk-container-id-3 div.sk-label input.sk-toggleable__control:checked~label.sk-toggleable__label {background-color: #d4ebff;}#sk-container-id-3 input.sk-hidden--visually {border: 0;clip: rect(1px 1px 1px 1px);clip: rect(1px, 1px, 1px, 1px);height: 1px;margin: -1px;overflow: hidden;padding: 0;position: absolute;width: 1px;}#sk-container-id-3 div.sk-estimator {font-family: monospace;background-color: #f0f8ff;border: 1px dotted black;border-radius: 0.25em;box-sizing: border-box;margin-bottom: 0.5em;}#sk-container-id-3 div.sk-estimator:hover {background-color: #d4ebff;}#sk-container-id-3 div.sk-parallel-item::after {content: \"\";width: 100%;border-bottom: 1px solid gray;flex-grow: 1;}#sk-container-id-3 div.sk-label:hover label.sk-toggleable__label {background-color: #d4ebff;}#sk-container-id-3 div.sk-serial::before {content: \"\";position: absolute;border-left: 1px solid gray;box-sizing: border-box;top: 0;bottom: 0;left: 50%;z-index: 0;}#sk-container-id-3 div.sk-serial {display: flex;flex-direction: column;align-items: center;background-color: white;padding-right: 0.2em;padding-left: 0.2em;position: relative;}#sk-container-id-3 div.sk-item {position: relative;z-index: 1;}#sk-container-id-3 div.sk-parallel {display: flex;align-items: stretch;justify-content: center;background-color: white;position: relative;}#sk-container-id-3 div.sk-item::before, #sk-container-id-3 div.sk-parallel-item::before {content: \"\";position: absolute;border-left: 1px solid gray;box-sizing: border-box;top: 0;bottom: 0;left: 50%;z-index: -1;}#sk-container-id-3 div.sk-parallel-item {display: flex;flex-direction: column;z-index: 1;position: relative;background-color: white;}#sk-container-id-3 div.sk-parallel-item:first-child::after {align-self: flex-end;width: 50%;}#sk-container-id-3 div.sk-parallel-item:last-child::after {align-self: flex-start;width: 50%;}#sk-container-id-3 div.sk-parallel-item:only-child::after {width: 0;}#sk-container-id-3 div.sk-dashed-wrapped {border: 1px dashed gray;margin: 0 0.4em 0.5em 0.4em;box-sizing: border-box;padding-bottom: 0.4em;background-color: white;}#sk-container-id-3 div.sk-label label {font-family: monospace;font-weight: bold;display: inline-block;line-height: 1.2em;}#sk-container-id-3 div.sk-label-container {text-align: center;}#sk-container-id-3 div.sk-container {/* jupyter's `normalize.less` sets `[hidden] { display: none; }` but bootstrap.min.css set `[hidden] { display: none !important; }` so we also need the `!important` here to be able to override the default hidden behavior on the sphinx rendered scikit-learn.org. See: https://github.com/scikit-learn/scikit-learn/issues/21755 */display: inline-block !important;position: relative;}#sk-container-id-3 div.sk-text-repr-fallback {display: none;}</style><div id=\"sk-container-id-3\" class=\"sk-top-container\"><div class=\"sk-text-repr-fallback\"><pre>LinearRegression()</pre><b>In a Jupyter environment, please rerun this cell to show the HTML representation or trust the notebook. <br />On GitHub, the HTML representation is unable to render, please try loading this page with nbviewer.org.</b></div><div class=\"sk-container\" hidden><div class=\"sk-item\"><div class=\"sk-estimator sk-toggleable\"><input class=\"sk-toggleable__control sk-hidden--visually\" id=\"sk-estimator-id-3\" type=\"checkbox\" checked><label for=\"sk-estimator-id-3\" class=\"sk-toggleable__label sk-toggleable__label-arrow\">LinearRegression</label><div class=\"sk-toggleable__content\"><pre>LinearRegression()</pre></div></div></div></div></div>"
      ],
      "text/plain": [
       "LinearRegression()"
      ]
     },
     "execution_count": 30,
     "metadata": {},
     "output_type": "execute_result"
    }
   ],
   "source": [
    "lin_reg = LinearRegression()  # create the model\n",
    "lin_reg.fit(X_train, y_train)  # train it"
   ]
  },
  {
   "cell_type": "code",
   "execution_count": 31,
   "id": "8faf95e7",
   "metadata": {},
   "outputs": [
    {
     "ename": "ValueError",
     "evalue": "all the input array dimensions for the concatenation axis must match exactly, but along dimension 1, the array at index 0 has size 53 and the array at index 1 has size 76",
     "output_type": "error",
     "traceback": [
      "\u001b[0;31m---------------------------------------------------------------------------\u001b[0m",
      "\u001b[0;31mValueError\u001b[0m                                Traceback (most recent call last)",
      "Cell \u001b[0;32mIn[31], line 1\u001b[0m\n\u001b[0;32m----> 1\u001b[0m X_test \u001b[38;5;241m=\u001b[39m \u001b[43mnp\u001b[49m\u001b[38;5;241;43m.\u001b[39;49m\u001b[43mvstack\u001b[49m\u001b[43m(\u001b[49m\u001b[43mtest\u001b[49m\u001b[43m[\u001b[49m\u001b[43mfeature_cols\u001b[49m\u001b[43m]\u001b[49m\u001b[38;5;241;43m.\u001b[39;49m\u001b[43mapply\u001b[49m\u001b[43m(\u001b[49m\u001b[43mnp\u001b[49m\u001b[38;5;241;43m.\u001b[39;49m\u001b[43mhstack\u001b[49m\u001b[43m,\u001b[49m\u001b[43m \u001b[49m\u001b[43maxis\u001b[49m\u001b[38;5;241;43m=\u001b[39;49m\u001b[38;5;241;43m1\u001b[39;49m\u001b[43m)\u001b[49m\u001b[38;5;241;43m.\u001b[39;49m\u001b[43mvalues\u001b[49m\u001b[43m)\u001b[49m\n\u001b[1;32m      2\u001b[0m y_test \u001b[38;5;241m=\u001b[39m np\u001b[38;5;241m.\u001b[39mvstack(test[target_col]\u001b[38;5;241m.\u001b[39mapply(np\u001b[38;5;241m.\u001b[39mhstack, axis\u001b[38;5;241m=\u001b[39m\u001b[38;5;241m1\u001b[39m)\u001b[38;5;241m.\u001b[39mvalues)\n",
      "File \u001b[0;32m<__array_function__ internals>:180\u001b[0m, in \u001b[0;36mvstack\u001b[0;34m(*args, **kwargs)\u001b[0m\n",
      "File \u001b[0;32m/opt/tljh/user/lib/python3.9/site-packages/numpy/core/shape_base.py:282\u001b[0m, in \u001b[0;36mvstack\u001b[0;34m(tup)\u001b[0m\n\u001b[1;32m    280\u001b[0m \u001b[38;5;28;01mif\u001b[39;00m \u001b[38;5;129;01mnot\u001b[39;00m \u001b[38;5;28misinstance\u001b[39m(arrs, \u001b[38;5;28mlist\u001b[39m):\n\u001b[1;32m    281\u001b[0m     arrs \u001b[38;5;241m=\u001b[39m [arrs]\n\u001b[0;32m--> 282\u001b[0m \u001b[38;5;28;01mreturn\u001b[39;00m \u001b[43m_nx\u001b[49m\u001b[38;5;241;43m.\u001b[39;49m\u001b[43mconcatenate\u001b[49m\u001b[43m(\u001b[49m\u001b[43marrs\u001b[49m\u001b[43m,\u001b[49m\u001b[43m \u001b[49m\u001b[38;5;241;43m0\u001b[39;49m\u001b[43m)\u001b[49m\n",
      "File \u001b[0;32m<__array_function__ internals>:180\u001b[0m, in \u001b[0;36mconcatenate\u001b[0;34m(*args, **kwargs)\u001b[0m\n",
      "\u001b[0;31mValueError\u001b[0m: all the input array dimensions for the concatenation axis must match exactly, but along dimension 1, the array at index 0 has size 53 and the array at index 1 has size 76"
     ]
    }
   ],
   "source": [
    "X_test = np.vstack(test[feature_cols].apply(np.hstack, axis=1).values)\n",
    "y_test = np.vstack(test[target_col].apply(np.hstack, axis=1).values)"
   ]
  },
  {
   "cell_type": "code",
   "execution_count": 66,
   "id": "b3b2cc7e",
   "metadata": {},
   "outputs": [
    {
     "data": {
      "text/plain": [
       "((358, 168), (358, 24))"
      ]
     },
     "execution_count": 66,
     "metadata": {},
     "output_type": "execute_result"
    }
   ],
   "source": [
    "X_test.shape, y_test.shape"
   ]
  },
  {
   "cell_type": "code",
   "execution_count": 67,
   "id": "bd25d3e0",
   "metadata": {},
   "outputs": [],
   "source": [
    "y_pred = lin_reg.predict(X_test)"
   ]
  },
  {
   "cell_type": "code",
   "execution_count": 68,
   "id": "5e20c00b",
   "metadata": {},
   "outputs": [
    {
     "data": {
      "text/plain": [
       "(8592, 8592)"
      ]
     },
     "execution_count": 68,
     "metadata": {},
     "output_type": "execute_result"
    }
   ],
   "source": [
    "y_pred.size, y_test.size"
   ]
  },
  {
   "cell_type": "code",
   "execution_count": 70,
   "id": "82260cf5",
   "metadata": {},
   "outputs": [
    {
     "data": {
      "text/plain": [
       "14.387767709478458"
      ]
     },
     "execution_count": 70,
     "metadata": {},
     "output_type": "execute_result"
    }
   ],
   "source": [
    "metrics.mean_absolute_error(y_test, y_pred)\n",
    "#Note: here testing set is part of the training !!! BAD PRACTICE"
   ]
  },
  {
   "cell_type": "markdown",
   "id": "f9d429ed",
   "metadata": {},
   "source": [
    "# Testing with 2022 data"
   ]
  },
  {
   "cell_type": "code",
   "execution_count": 76,
   "id": "43c43333",
   "metadata": {},
   "outputs": [],
   "source": [
    "import yaml\n",
    "import os"
   ]
  },
  {
   "cell_type": "code",
   "execution_count": 84,
   "id": "a3474e6e",
   "metadata": {},
   "outputs": [],
   "source": [
    "import sys"
   ]
  },
  {
   "cell_type": "code",
   "execution_count": 87,
   "id": "e0192909",
   "metadata": {},
   "outputs": [
    {
     "data": {
      "text/plain": [
       "'/srv/train_group1'"
      ]
     },
     "execution_count": 87,
     "metadata": {},
     "output_type": "execute_result"
    }
   ],
   "source": [
    "os.getcwd()"
   ]
  },
  {
   "cell_type": "code",
   "execution_count": 88,
   "id": "bbe54b45",
   "metadata": {},
   "outputs": [],
   "source": [
    "os.chdir(\"../results_group1\")"
   ]
  },
  {
   "cell_type": "code",
   "execution_count": 89,
   "id": "2789a3cb",
   "metadata": {},
   "outputs": [
    {
     "data": {
      "text/plain": [
       "'/srv/results_group1'"
      ]
     },
     "execution_count": 89,
     "metadata": {},
     "output_type": "execute_result"
    }
   ],
   "source": [
    "os.getcwd()"
   ]
  },
  {
   "cell_type": "code",
   "execution_count": 90,
   "id": "7c831cc9",
   "metadata": {},
   "outputs": [
    {
     "data": {
      "text/html": [
       "<div>\n",
       "<style scoped>\n",
       "    .dataframe tbody tr th:only-of-type {\n",
       "        vertical-align: middle;\n",
       "    }\n",
       "\n",
       "    .dataframe tbody tr th {\n",
       "        vertical-align: top;\n",
       "    }\n",
       "\n",
       "    .dataframe thead th {\n",
       "        text-align: right;\n",
       "    }\n",
       "</style>\n",
       "<table border=\"1\" class=\"dataframe\">\n",
       "  <thead>\n",
       "    <tr style=\"text-align: right;\">\n",
       "      <th></th>\n",
       "      <th>MWh</th>\n",
       "    </tr>\n",
       "    <tr>\n",
       "      <th>timestamps</th>\n",
       "      <th></th>\n",
       "    </tr>\n",
       "  </thead>\n",
       "  <tbody>\n",
       "    <tr>\n",
       "      <th>2022-01-01 00:00:00</th>\n",
       "      <td>146.054792</td>\n",
       "    </tr>\n",
       "    <tr>\n",
       "      <th>2022-01-01 01:00:00</th>\n",
       "      <td>139.133354</td>\n",
       "    </tr>\n",
       "    <tr>\n",
       "      <th>2022-01-01 02:00:00</th>\n",
       "      <td>147.562500</td>\n",
       "    </tr>\n",
       "    <tr>\n",
       "      <th>2022-01-01 03:00:00</th>\n",
       "      <td>157.636204</td>\n",
       "    </tr>\n",
       "    <tr>\n",
       "      <th>2022-01-01 04:00:00</th>\n",
       "      <td>163.326766</td>\n",
       "    </tr>\n",
       "    <tr>\n",
       "      <th>...</th>\n",
       "      <td>...</td>\n",
       "    </tr>\n",
       "    <tr>\n",
       "      <th>2022-12-31 19:00:00</th>\n",
       "      <td>67.876028</td>\n",
       "    </tr>\n",
       "    <tr>\n",
       "      <th>2022-12-31 20:00:00</th>\n",
       "      <td>72.765318</td>\n",
       "    </tr>\n",
       "    <tr>\n",
       "      <th>2022-12-31 21:00:00</th>\n",
       "      <td>81.277633</td>\n",
       "    </tr>\n",
       "    <tr>\n",
       "      <th>2022-12-31 22:00:00</th>\n",
       "      <td>95.496046</td>\n",
       "    </tr>\n",
       "    <tr>\n",
       "      <th>2022-12-31 23:00:00</th>\n",
       "      <td>74.066704</td>\n",
       "    </tr>\n",
       "  </tbody>\n",
       "</table>\n",
       "<p>8760 rows × 1 columns</p>\n",
       "</div>"
      ],
      "text/plain": [
       "                            MWh\n",
       "timestamps                     \n",
       "2022-01-01 00:00:00  146.054792\n",
       "2022-01-01 01:00:00  139.133354\n",
       "2022-01-01 02:00:00  147.562500\n",
       "2022-01-01 03:00:00  157.636204\n",
       "2022-01-01 04:00:00  163.326766\n",
       "...                         ...\n",
       "2022-12-31 19:00:00   67.876028\n",
       "2022-12-31 20:00:00   72.765318\n",
       "2022-12-31 21:00:00   81.277633\n",
       "2022-12-31 22:00:00   95.496046\n",
       "2022-12-31 23:00:00   74.066704\n",
       "\n",
       "[8760 rows x 1 columns]"
      ]
     },
     "execution_count": 90,
     "metadata": {},
     "output_type": "execute_result"
    }
   ],
   "source": [
    "with open(\"../results_group1/params.yaml\", \"r\") as yaml_file:\n",
    "    file_paths = yaml.safe_load(yaml_file)\n",
    "        \n",
    "data = pd.read_csv(\n",
    "    file_paths[\"active_loss_path\"],\n",
    "    skiprows=1,\n",
    "    names=[\"unnamed0\", \"unnamed1\", \"timestamps\", \"MWh\"],\n",
    "    parse_dates=[\"timestamps\"],\n",
    "    index_col=\"timestamps\",\n",
    ")\n",
    "data = data.drop(columns=[\"unnamed0\", \"unnamed1\"])\n",
    "data[\"MWh\"] = data[\"MWh\"]\n",
    "\n",
    "\n",
    "data"
   ]
  },
  {
   "cell_type": "code",
   "execution_count": 98,
   "id": "f77e6f88",
   "metadata": {},
   "outputs": [
    {
     "data": {
      "text/html": [
       "<div>\n",
       "<style scoped>\n",
       "    .dataframe tbody tr th:only-of-type {\n",
       "        vertical-align: middle;\n",
       "    }\n",
       "\n",
       "    .dataframe tbody tr th {\n",
       "        vertical-align: top;\n",
       "    }\n",
       "\n",
       "    .dataframe thead th {\n",
       "        text-align: right;\n",
       "    }\n",
       "</style>\n",
       "<table border=\"1\" class=\"dataframe\">\n",
       "  <thead>\n",
       "    <tr style=\"text-align: right;\">\n",
       "      <th></th>\n",
       "      <th>MWh</th>\n",
       "    </tr>\n",
       "  </thead>\n",
       "  <tbody>\n",
       "    <tr>\n",
       "      <th>2022-01-01</th>\n",
       "      <td>[146.054792, 139.133354, 147.5625, 157.636204,...</td>\n",
       "    </tr>\n",
       "    <tr>\n",
       "      <th>2022-01-02</th>\n",
       "      <td>[150.981065, 156.355783, 159.302609, 155.96211...</td>\n",
       "    </tr>\n",
       "    <tr>\n",
       "      <th>2022-01-03</th>\n",
       "      <td>[215.603282, 184.89184100000003, 146.135674, 1...</td>\n",
       "    </tr>\n",
       "    <tr>\n",
       "      <th>2022-01-04</th>\n",
       "      <td>[161.05259, 179.75817800000002, 157.233299, 13...</td>\n",
       "    </tr>\n",
       "    <tr>\n",
       "      <th>2022-01-05</th>\n",
       "      <td>[182.146147, 179.16613199999998, 167.550049, 1...</td>\n",
       "    </tr>\n",
       "    <tr>\n",
       "      <th>...</th>\n",
       "      <td>...</td>\n",
       "    </tr>\n",
       "    <tr>\n",
       "      <th>2022-12-27</th>\n",
       "      <td>[111.53740668, 111.046009, 125.318241, 116.811...</td>\n",
       "    </tr>\n",
       "    <tr>\n",
       "      <th>2022-12-28</th>\n",
       "      <td>[139.585493, 135.26405614285716, 130.942619285...</td>\n",
       "    </tr>\n",
       "    <tr>\n",
       "      <th>2022-12-29</th>\n",
       "      <td>[36.27518709523808, 37.1555956190476, 38.03600...</td>\n",
       "    </tr>\n",
       "    <tr>\n",
       "      <th>2022-12-30</th>\n",
       "      <td>[142.91911671428574, 156.773506, 143.824683, 1...</td>\n",
       "    </tr>\n",
       "    <tr>\n",
       "      <th>2022-12-31</th>\n",
       "      <td>[172.091163, 131.139116, 124.038114, 129.60691...</td>\n",
       "    </tr>\n",
       "  </tbody>\n",
       "</table>\n",
       "<p>365 rows × 1 columns</p>\n",
       "</div>"
      ],
      "text/plain": [
       "                                                          MWh\n",
       "2022-01-01  [146.054792, 139.133354, 147.5625, 157.636204,...\n",
       "2022-01-02  [150.981065, 156.355783, 159.302609, 155.96211...\n",
       "2022-01-03  [215.603282, 184.89184100000003, 146.135674, 1...\n",
       "2022-01-04  [161.05259, 179.75817800000002, 157.233299, 13...\n",
       "2022-01-05  [182.146147, 179.16613199999998, 167.550049, 1...\n",
       "...                                                       ...\n",
       "2022-12-27  [111.53740668, 111.046009, 125.318241, 116.811...\n",
       "2022-12-28  [139.585493, 135.26405614285716, 130.942619285...\n",
       "2022-12-29  [36.27518709523808, 37.1555956190476, 38.03600...\n",
       "2022-12-30  [142.91911671428574, 156.773506, 143.824683, 1...\n",
       "2022-12-31  [172.091163, 131.139116, 124.038114, 129.60691...\n",
       "\n",
       "[365 rows x 1 columns]"
      ]
     },
     "execution_count": 98,
     "metadata": {},
     "output_type": "execute_result"
    }
   ],
   "source": [
    "new_df = data.groupby(data.index.date)[\"MWh\"].agg(list)\n",
    "new_df = pd.DataFrame(new_df)\n",
    "new_df"
   ]
  },
  {
   "cell_type": "code",
   "execution_count": 99,
   "id": "f6c506fc",
   "metadata": {},
   "outputs": [],
   "source": [
    "for col in target_col:\n",
    "    for i in range(1, 8):  # for past 7 days (in hours)\n",
    "        new_df[f'lag_{col}_{i}'] = new_df[col].shift(i)\n",
    "        feature_cols += [f'lag_{col}_{i}']"
   ]
  },
  {
   "cell_type": "code",
   "execution_count": 100,
   "id": "12039562",
   "metadata": {},
   "outputs": [
    {
     "data": {
      "text/html": [
       "<div>\n",
       "<style scoped>\n",
       "    .dataframe tbody tr th:only-of-type {\n",
       "        vertical-align: middle;\n",
       "    }\n",
       "\n",
       "    .dataframe tbody tr th {\n",
       "        vertical-align: top;\n",
       "    }\n",
       "\n",
       "    .dataframe thead th {\n",
       "        text-align: right;\n",
       "    }\n",
       "</style>\n",
       "<table border=\"1\" class=\"dataframe\">\n",
       "  <thead>\n",
       "    <tr style=\"text-align: right;\">\n",
       "      <th></th>\n",
       "      <th>MWh</th>\n",
       "      <th>lag_MWh_1</th>\n",
       "      <th>lag_MWh_2</th>\n",
       "      <th>lag_MWh_3</th>\n",
       "      <th>lag_MWh_4</th>\n",
       "      <th>lag_MWh_5</th>\n",
       "      <th>lag_MWh_6</th>\n",
       "      <th>lag_MWh_7</th>\n",
       "    </tr>\n",
       "  </thead>\n",
       "  <tbody>\n",
       "    <tr>\n",
       "      <th>2022-01-01</th>\n",
       "      <td>[146.054792, 139.133354, 147.5625, 157.636204,...</td>\n",
       "      <td>None</td>\n",
       "      <td>None</td>\n",
       "      <td>None</td>\n",
       "      <td>None</td>\n",
       "      <td>None</td>\n",
       "      <td>None</td>\n",
       "      <td>None</td>\n",
       "    </tr>\n",
       "    <tr>\n",
       "      <th>2022-01-02</th>\n",
       "      <td>[150.981065, 156.355783, 159.302609, 155.96211...</td>\n",
       "      <td>[146.054792, 139.133354, 147.5625, 157.636204,...</td>\n",
       "      <td>None</td>\n",
       "      <td>None</td>\n",
       "      <td>None</td>\n",
       "      <td>None</td>\n",
       "      <td>None</td>\n",
       "      <td>None</td>\n",
       "    </tr>\n",
       "    <tr>\n",
       "      <th>2022-01-03</th>\n",
       "      <td>[215.603282, 184.89184100000003, 146.135674, 1...</td>\n",
       "      <td>[150.981065, 156.355783, 159.302609, 155.96211...</td>\n",
       "      <td>[146.054792, 139.133354, 147.5625, 157.636204,...</td>\n",
       "      <td>None</td>\n",
       "      <td>None</td>\n",
       "      <td>None</td>\n",
       "      <td>None</td>\n",
       "      <td>None</td>\n",
       "    </tr>\n",
       "    <tr>\n",
       "      <th>2022-01-04</th>\n",
       "      <td>[161.05259, 179.75817800000002, 157.233299, 13...</td>\n",
       "      <td>[215.603282, 184.89184100000003, 146.135674, 1...</td>\n",
       "      <td>[150.981065, 156.355783, 159.302609, 155.96211...</td>\n",
       "      <td>[146.054792, 139.133354, 147.5625, 157.636204,...</td>\n",
       "      <td>None</td>\n",
       "      <td>None</td>\n",
       "      <td>None</td>\n",
       "      <td>None</td>\n",
       "    </tr>\n",
       "    <tr>\n",
       "      <th>2022-01-05</th>\n",
       "      <td>[182.146147, 179.16613199999998, 167.550049, 1...</td>\n",
       "      <td>[161.05259, 179.75817800000002, 157.233299, 13...</td>\n",
       "      <td>[215.603282, 184.89184100000003, 146.135674, 1...</td>\n",
       "      <td>[150.981065, 156.355783, 159.302609, 155.96211...</td>\n",
       "      <td>[146.054792, 139.133354, 147.5625, 157.636204,...</td>\n",
       "      <td>None</td>\n",
       "      <td>None</td>\n",
       "      <td>None</td>\n",
       "    </tr>\n",
       "    <tr>\n",
       "      <th>...</th>\n",
       "      <td>...</td>\n",
       "      <td>...</td>\n",
       "      <td>...</td>\n",
       "      <td>...</td>\n",
       "      <td>...</td>\n",
       "      <td>...</td>\n",
       "      <td>...</td>\n",
       "      <td>...</td>\n",
       "    </tr>\n",
       "    <tr>\n",
       "      <th>2022-12-27</th>\n",
       "      <td>[111.53740668, 111.046009, 125.318241, 116.811...</td>\n",
       "      <td>[123.330951, 122.83955332, 122.34815564, 121.8...</td>\n",
       "      <td>[130.271508, 104.086217, 77.92486699999999, 76...</td>\n",
       "      <td>[145.03873, 142.614236, 131.0587, 126.593042, ...</td>\n",
       "      <td>[133.77160644000003, 134.252926, 132.223826, 1...</td>\n",
       "      <td>[122.219937, 122.70125656, 123.18257612, 123.6...</td>\n",
       "      <td>[153.126612, 143.11705600000002, 145.626379, 1...</td>\n",
       "      <td>[153.95896599999998, 151.833437, 140.380454, 1...</td>\n",
       "    </tr>\n",
       "    <tr>\n",
       "      <th>2022-12-28</th>\n",
       "      <td>[139.585493, 135.26405614285716, 130.942619285...</td>\n",
       "      <td>[111.53740668, 111.046009, 125.318241, 116.811...</td>\n",
       "      <td>[123.330951, 122.83955332, 122.34815564, 121.8...</td>\n",
       "      <td>[130.271508, 104.086217, 77.92486699999999, 76...</td>\n",
       "      <td>[145.03873, 142.614236, 131.0587, 126.593042, ...</td>\n",
       "      <td>[133.77160644000003, 134.252926, 132.223826, 1...</td>\n",
       "      <td>[122.219937, 122.70125656, 123.18257612, 123.6...</td>\n",
       "      <td>[153.126612, 143.11705600000002, 145.626379, 1...</td>\n",
       "    </tr>\n",
       "    <tr>\n",
       "      <th>2022-12-29</th>\n",
       "      <td>[36.27518709523808, 37.1555956190476, 38.03600...</td>\n",
       "      <td>[139.585493, 135.26405614285716, 130.942619285...</td>\n",
       "      <td>[111.53740668, 111.046009, 125.318241, 116.811...</td>\n",
       "      <td>[123.330951, 122.83955332, 122.34815564, 121.8...</td>\n",
       "      <td>[130.271508, 104.086217, 77.92486699999999, 76...</td>\n",
       "      <td>[145.03873, 142.614236, 131.0587, 126.593042, ...</td>\n",
       "      <td>[133.77160644000003, 134.252926, 132.223826, 1...</td>\n",
       "      <td>[122.219937, 122.70125656, 123.18257612, 123.6...</td>\n",
       "    </tr>\n",
       "    <tr>\n",
       "      <th>2022-12-30</th>\n",
       "      <td>[142.91911671428574, 156.773506, 143.824683, 1...</td>\n",
       "      <td>[36.27518709523808, 37.1555956190476, 38.03600...</td>\n",
       "      <td>[139.585493, 135.26405614285716, 130.942619285...</td>\n",
       "      <td>[111.53740668, 111.046009, 125.318241, 116.811...</td>\n",
       "      <td>[123.330951, 122.83955332, 122.34815564, 121.8...</td>\n",
       "      <td>[130.271508, 104.086217, 77.92486699999999, 76...</td>\n",
       "      <td>[145.03873, 142.614236, 131.0587, 126.593042, ...</td>\n",
       "      <td>[133.77160644000003, 134.252926, 132.223826, 1...</td>\n",
       "    </tr>\n",
       "    <tr>\n",
       "      <th>2022-12-31</th>\n",
       "      <td>[172.091163, 131.139116, 124.038114, 129.60691...</td>\n",
       "      <td>[142.91911671428574, 156.773506, 143.824683, 1...</td>\n",
       "      <td>[36.27518709523808, 37.1555956190476, 38.03600...</td>\n",
       "      <td>[139.585493, 135.26405614285716, 130.942619285...</td>\n",
       "      <td>[111.53740668, 111.046009, 125.318241, 116.811...</td>\n",
       "      <td>[123.330951, 122.83955332, 122.34815564, 121.8...</td>\n",
       "      <td>[130.271508, 104.086217, 77.92486699999999, 76...</td>\n",
       "      <td>[145.03873, 142.614236, 131.0587, 126.593042, ...</td>\n",
       "    </tr>\n",
       "  </tbody>\n",
       "</table>\n",
       "<p>365 rows × 8 columns</p>\n",
       "</div>"
      ],
      "text/plain": [
       "                                                          MWh  \\\n",
       "2022-01-01  [146.054792, 139.133354, 147.5625, 157.636204,...   \n",
       "2022-01-02  [150.981065, 156.355783, 159.302609, 155.96211...   \n",
       "2022-01-03  [215.603282, 184.89184100000003, 146.135674, 1...   \n",
       "2022-01-04  [161.05259, 179.75817800000002, 157.233299, 13...   \n",
       "2022-01-05  [182.146147, 179.16613199999998, 167.550049, 1...   \n",
       "...                                                       ...   \n",
       "2022-12-27  [111.53740668, 111.046009, 125.318241, 116.811...   \n",
       "2022-12-28  [139.585493, 135.26405614285716, 130.942619285...   \n",
       "2022-12-29  [36.27518709523808, 37.1555956190476, 38.03600...   \n",
       "2022-12-30  [142.91911671428574, 156.773506, 143.824683, 1...   \n",
       "2022-12-31  [172.091163, 131.139116, 124.038114, 129.60691...   \n",
       "\n",
       "                                                    lag_MWh_1  \\\n",
       "2022-01-01                                               None   \n",
       "2022-01-02  [146.054792, 139.133354, 147.5625, 157.636204,...   \n",
       "2022-01-03  [150.981065, 156.355783, 159.302609, 155.96211...   \n",
       "2022-01-04  [215.603282, 184.89184100000003, 146.135674, 1...   \n",
       "2022-01-05  [161.05259, 179.75817800000002, 157.233299, 13...   \n",
       "...                                                       ...   \n",
       "2022-12-27  [123.330951, 122.83955332, 122.34815564, 121.8...   \n",
       "2022-12-28  [111.53740668, 111.046009, 125.318241, 116.811...   \n",
       "2022-12-29  [139.585493, 135.26405614285716, 130.942619285...   \n",
       "2022-12-30  [36.27518709523808, 37.1555956190476, 38.03600...   \n",
       "2022-12-31  [142.91911671428574, 156.773506, 143.824683, 1...   \n",
       "\n",
       "                                                    lag_MWh_2  \\\n",
       "2022-01-01                                               None   \n",
       "2022-01-02                                               None   \n",
       "2022-01-03  [146.054792, 139.133354, 147.5625, 157.636204,...   \n",
       "2022-01-04  [150.981065, 156.355783, 159.302609, 155.96211...   \n",
       "2022-01-05  [215.603282, 184.89184100000003, 146.135674, 1...   \n",
       "...                                                       ...   \n",
       "2022-12-27  [130.271508, 104.086217, 77.92486699999999, 76...   \n",
       "2022-12-28  [123.330951, 122.83955332, 122.34815564, 121.8...   \n",
       "2022-12-29  [111.53740668, 111.046009, 125.318241, 116.811...   \n",
       "2022-12-30  [139.585493, 135.26405614285716, 130.942619285...   \n",
       "2022-12-31  [36.27518709523808, 37.1555956190476, 38.03600...   \n",
       "\n",
       "                                                    lag_MWh_3  \\\n",
       "2022-01-01                                               None   \n",
       "2022-01-02                                               None   \n",
       "2022-01-03                                               None   \n",
       "2022-01-04  [146.054792, 139.133354, 147.5625, 157.636204,...   \n",
       "2022-01-05  [150.981065, 156.355783, 159.302609, 155.96211...   \n",
       "...                                                       ...   \n",
       "2022-12-27  [145.03873, 142.614236, 131.0587, 126.593042, ...   \n",
       "2022-12-28  [130.271508, 104.086217, 77.92486699999999, 76...   \n",
       "2022-12-29  [123.330951, 122.83955332, 122.34815564, 121.8...   \n",
       "2022-12-30  [111.53740668, 111.046009, 125.318241, 116.811...   \n",
       "2022-12-31  [139.585493, 135.26405614285716, 130.942619285...   \n",
       "\n",
       "                                                    lag_MWh_4  \\\n",
       "2022-01-01                                               None   \n",
       "2022-01-02                                               None   \n",
       "2022-01-03                                               None   \n",
       "2022-01-04                                               None   \n",
       "2022-01-05  [146.054792, 139.133354, 147.5625, 157.636204,...   \n",
       "...                                                       ...   \n",
       "2022-12-27  [133.77160644000003, 134.252926, 132.223826, 1...   \n",
       "2022-12-28  [145.03873, 142.614236, 131.0587, 126.593042, ...   \n",
       "2022-12-29  [130.271508, 104.086217, 77.92486699999999, 76...   \n",
       "2022-12-30  [123.330951, 122.83955332, 122.34815564, 121.8...   \n",
       "2022-12-31  [111.53740668, 111.046009, 125.318241, 116.811...   \n",
       "\n",
       "                                                    lag_MWh_5  \\\n",
       "2022-01-01                                               None   \n",
       "2022-01-02                                               None   \n",
       "2022-01-03                                               None   \n",
       "2022-01-04                                               None   \n",
       "2022-01-05                                               None   \n",
       "...                                                       ...   \n",
       "2022-12-27  [122.219937, 122.70125656, 123.18257612, 123.6...   \n",
       "2022-12-28  [133.77160644000003, 134.252926, 132.223826, 1...   \n",
       "2022-12-29  [145.03873, 142.614236, 131.0587, 126.593042, ...   \n",
       "2022-12-30  [130.271508, 104.086217, 77.92486699999999, 76...   \n",
       "2022-12-31  [123.330951, 122.83955332, 122.34815564, 121.8...   \n",
       "\n",
       "                                                    lag_MWh_6  \\\n",
       "2022-01-01                                               None   \n",
       "2022-01-02                                               None   \n",
       "2022-01-03                                               None   \n",
       "2022-01-04                                               None   \n",
       "2022-01-05                                               None   \n",
       "...                                                       ...   \n",
       "2022-12-27  [153.126612, 143.11705600000002, 145.626379, 1...   \n",
       "2022-12-28  [122.219937, 122.70125656, 123.18257612, 123.6...   \n",
       "2022-12-29  [133.77160644000003, 134.252926, 132.223826, 1...   \n",
       "2022-12-30  [145.03873, 142.614236, 131.0587, 126.593042, ...   \n",
       "2022-12-31  [130.271508, 104.086217, 77.92486699999999, 76...   \n",
       "\n",
       "                                                    lag_MWh_7  \n",
       "2022-01-01                                               None  \n",
       "2022-01-02                                               None  \n",
       "2022-01-03                                               None  \n",
       "2022-01-04                                               None  \n",
       "2022-01-05                                               None  \n",
       "...                                                       ...  \n",
       "2022-12-27  [153.95896599999998, 151.833437, 140.380454, 1...  \n",
       "2022-12-28  [153.126612, 143.11705600000002, 145.626379, 1...  \n",
       "2022-12-29  [122.219937, 122.70125656, 123.18257612, 123.6...  \n",
       "2022-12-30  [133.77160644000003, 134.252926, 132.223826, 1...  \n",
       "2022-12-31  [145.03873, 142.614236, 131.0587, 126.593042, ...  \n",
       "\n",
       "[365 rows x 8 columns]"
      ]
     },
     "execution_count": 100,
     "metadata": {},
     "output_type": "execute_result"
    }
   ],
   "source": [
    "new_df"
   ]
  },
  {
   "cell_type": "code",
   "execution_count": 107,
   "id": "ef734dbf",
   "metadata": {},
   "outputs": [],
   "source": [
    "X2022 = np.vstack(new_df[7:].drop(columns=[\"MWh\"]).apply(np.hstack, axis=1).values)\n",
    "y2022 = np.vstack(new_df[7:][target_col].apply(np.hstack, axis=1).values)\n"
   ]
  },
  {
   "cell_type": "code",
   "execution_count": 108,
   "id": "1eb206b3",
   "metadata": {},
   "outputs": [],
   "source": [
    "y2022_pred = lin_reg.predict(X2022)"
   ]
  },
  {
   "cell_type": "code",
   "execution_count": 109,
   "id": "a537bb6b",
   "metadata": {},
   "outputs": [
    {
     "data": {
      "text/plain": [
       "22.776128452038787"
      ]
     },
     "execution_count": 109,
     "metadata": {},
     "output_type": "execute_result"
    }
   ],
   "source": [
    "metrics.mean_absolute_error(y2022, y2022_pred)"
   ]
  },
  {
   "cell_type": "code",
   "execution_count": null,
   "id": "abdd5b12",
   "metadata": {},
   "outputs": [],
   "source": []
  }
 ],
 "metadata": {
  "kernelspec": {
   "display_name": "Python 3 (ipykernel)",
   "language": "python",
   "name": "python3"
  },
  "language_info": {
   "codemirror_mode": {
    "name": "ipython",
    "version": 3
   },
   "file_extension": ".py",
   "mimetype": "text/x-python",
   "name": "python",
   "nbconvert_exporter": "python",
   "pygments_lexer": "ipython3",
   "version": "3.9.7"
  }
 },
 "nbformat": 4,
 "nbformat_minor": 5
}
