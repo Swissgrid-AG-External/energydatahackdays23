{
 "cells": [
  {
   "cell_type": "code",
   "execution_count": 1,
   "metadata": {},
   "outputs": [
    {
     "data": {
      "text/plain": [
       "Index(['MWh', 'solar_fore_de [MW]', 'solar_fore_it [MW]', 'wind_fore_de [MW]',\n",
       "       'wind_fore_it [MW]', 'CH_AT', 'CH_DE', 'CH_FR', 'CH_IT', 'AT_CH',\n",
       "       'DE_CH', 'FR_CH', 'IT_CH'],\n",
       "      dtype='object')"
      ]
     },
     "execution_count": 1,
     "metadata": {},
     "output_type": "execute_result"
    }
   ],
   "source": [
    "import numpy as np\n",
    "import pandas as pd\n",
    "import matplotlib.pyplot as plt\n",
    "\n",
    "from load_data import load_data, split_data\n",
    "\n",
    "data = load_data(\"1H\")\n",
    "all_columns = data.keys()\n",
    "all_columns"
   ]
  },
  {
   "cell_type": "code",
   "execution_count": 2,
   "metadata": {},
   "outputs": [],
   "source": [
    "columns_to_drop = [\n",
    "    \"CH_AT\",\n",
    "    \"CH_DE\",\n",
    "    \"CH_FR\",\n",
    "    \"CH_IT\",\n",
    "    \"AT_CH\",\n",
    "    \"DE_CH\",\n",
    "    \"FR_CH\",\n",
    "    \"IT_CH\",\n",
    "]"
   ]
  },
  {
   "cell_type": "code",
   "execution_count": 3,
   "metadata": {},
   "outputs": [
    {
     "data": {
      "text/html": [
       "<div>\n",
       "<style scoped>\n",
       "    .dataframe tbody tr th:only-of-type {\n",
       "        vertical-align: middle;\n",
       "    }\n",
       "\n",
       "    .dataframe tbody tr th {\n",
       "        vertical-align: top;\n",
       "    }\n",
       "\n",
       "    .dataframe thead th {\n",
       "        text-align: right;\n",
       "    }\n",
       "</style>\n",
       "<table border=\"1\" class=\"dataframe\">\n",
       "  <thead>\n",
       "    <tr style=\"text-align: right;\">\n",
       "      <th></th>\n",
       "      <th>MWh</th>\n",
       "      <th>solar_fore_de [MW]</th>\n",
       "      <th>solar_fore_it [MW]</th>\n",
       "      <th>wind_fore_de [MW]</th>\n",
       "      <th>wind_fore_it [MW]</th>\n",
       "    </tr>\n",
       "  </thead>\n",
       "  <tbody>\n",
       "    <tr>\n",
       "      <th>2019-01-01 00:00:00+00:00</th>\n",
       "      <td>129.716036</td>\n",
       "      <td>0.0</td>\n",
       "      <td>0.0</td>\n",
       "      <td>23052.3310</td>\n",
       "      <td>4596.5916</td>\n",
       "    </tr>\n",
       "    <tr>\n",
       "      <th>2019-01-01 01:00:00+00:00</th>\n",
       "      <td>133.398074</td>\n",
       "      <td>0.0</td>\n",
       "      <td>0.0</td>\n",
       "      <td>24969.9701</td>\n",
       "      <td>4478.5564</td>\n",
       "    </tr>\n",
       "    <tr>\n",
       "      <th>2019-01-01 02:00:00+00:00</th>\n",
       "      <td>135.133852</td>\n",
       "      <td>0.0</td>\n",
       "      <td>0.0</td>\n",
       "      <td>27082.9626</td>\n",
       "      <td>4323.3712</td>\n",
       "    </tr>\n",
       "    <tr>\n",
       "      <th>2019-01-01 03:00:00+00:00</th>\n",
       "      <td>131.699424</td>\n",
       "      <td>0.0</td>\n",
       "      <td>0.0</td>\n",
       "      <td>26890.9717</td>\n",
       "      <td>4231.8283</td>\n",
       "    </tr>\n",
       "    <tr>\n",
       "      <th>2019-01-01 04:00:00+00:00</th>\n",
       "      <td>147.391128</td>\n",
       "      <td>0.0</td>\n",
       "      <td>0.0</td>\n",
       "      <td>27740.1555</td>\n",
       "      <td>4266.3082</td>\n",
       "    </tr>\n",
       "    <tr>\n",
       "      <th>...</th>\n",
       "      <td>...</td>\n",
       "      <td>...</td>\n",
       "      <td>...</td>\n",
       "      <td>...</td>\n",
       "      <td>...</td>\n",
       "    </tr>\n",
       "    <tr>\n",
       "      <th>2021-12-31 18:00:00+00:00</th>\n",
       "      <td>171.707318</td>\n",
       "      <td>0.0</td>\n",
       "      <td>0.0</td>\n",
       "      <td>36997.7200</td>\n",
       "      <td>1108.4000</td>\n",
       "    </tr>\n",
       "    <tr>\n",
       "      <th>2021-12-31 19:00:00+00:00</th>\n",
       "      <td>159.462903</td>\n",
       "      <td>0.0</td>\n",
       "      <td>0.0</td>\n",
       "      <td>35666.9300</td>\n",
       "      <td>1077.9700</td>\n",
       "    </tr>\n",
       "    <tr>\n",
       "      <th>2021-12-31 20:00:00+00:00</th>\n",
       "      <td>155.109520</td>\n",
       "      <td>0.0</td>\n",
       "      <td>0.0</td>\n",
       "      <td>34383.8800</td>\n",
       "      <td>1048.2800</td>\n",
       "    </tr>\n",
       "    <tr>\n",
       "      <th>2021-12-31 21:00:00+00:00</th>\n",
       "      <td>171.370277</td>\n",
       "      <td>0.0</td>\n",
       "      <td>0.0</td>\n",
       "      <td>33075.2500</td>\n",
       "      <td>1078.7800</td>\n",
       "    </tr>\n",
       "    <tr>\n",
       "      <th>2021-12-31 22:00:00+00:00</th>\n",
       "      <td>146.054791</td>\n",
       "      <td>0.0</td>\n",
       "      <td>0.0</td>\n",
       "      <td>32350.7300</td>\n",
       "      <td>1188.4300</td>\n",
       "    </tr>\n",
       "  </tbody>\n",
       "</table>\n",
       "<p>26303 rows × 5 columns</p>\n",
       "</div>"
      ],
      "text/plain": [
       "                                  MWh  solar_fore_de [MW]  solar_fore_it [MW]  \\\n",
       "2019-01-01 00:00:00+00:00  129.716036                 0.0                 0.0   \n",
       "2019-01-01 01:00:00+00:00  133.398074                 0.0                 0.0   \n",
       "2019-01-01 02:00:00+00:00  135.133852                 0.0                 0.0   \n",
       "2019-01-01 03:00:00+00:00  131.699424                 0.0                 0.0   \n",
       "2019-01-01 04:00:00+00:00  147.391128                 0.0                 0.0   \n",
       "...                               ...                 ...                 ...   \n",
       "2021-12-31 18:00:00+00:00  171.707318                 0.0                 0.0   \n",
       "2021-12-31 19:00:00+00:00  159.462903                 0.0                 0.0   \n",
       "2021-12-31 20:00:00+00:00  155.109520                 0.0                 0.0   \n",
       "2021-12-31 21:00:00+00:00  171.370277                 0.0                 0.0   \n",
       "2021-12-31 22:00:00+00:00  146.054791                 0.0                 0.0   \n",
       "\n",
       "                           wind_fore_de [MW]  wind_fore_it [MW]  \n",
       "2019-01-01 00:00:00+00:00         23052.3310          4596.5916  \n",
       "2019-01-01 01:00:00+00:00         24969.9701          4478.5564  \n",
       "2019-01-01 02:00:00+00:00         27082.9626          4323.3712  \n",
       "2019-01-01 03:00:00+00:00         26890.9717          4231.8283  \n",
       "2019-01-01 04:00:00+00:00         27740.1555          4266.3082  \n",
       "...                                      ...                ...  \n",
       "2021-12-31 18:00:00+00:00         36997.7200          1108.4000  \n",
       "2021-12-31 19:00:00+00:00         35666.9300          1077.9700  \n",
       "2021-12-31 20:00:00+00:00         34383.8800          1048.2800  \n",
       "2021-12-31 21:00:00+00:00         33075.2500          1078.7800  \n",
       "2021-12-31 22:00:00+00:00         32350.7300          1188.4300  \n",
       "\n",
       "[26303 rows x 5 columns]"
      ]
     },
     "execution_count": 3,
     "metadata": {},
     "output_type": "execute_result"
    }
   ],
   "source": [
    "data_filtered = data.drop(columns=columns_to_drop)\n",
    "data_filtered"
   ]
  },
  {
   "cell_type": "code",
   "execution_count": 4,
   "metadata": {},
   "outputs": [
    {
     "data": {
      "text/plain": [
       "((17343, 168), (17343, 5, 24), (17343, 24), (8578, 168))"
      ]
     },
     "execution_count": 4,
     "metadata": {},
     "output_type": "execute_result"
    }
   ],
   "source": [
    "sep = len(data_filtered) // 3 * 2\n",
    "\n",
    "train_df = data_filtered[: sep]\n",
    "test_df = data_filtered[sep :]\n",
    "\n",
    "X_train, metadata_train, y_train = split_data(train_df, 7 * 24, 24, 1, \"MWh\")\n",
    "X_test, metadata_test, y_test = split_data(test_df, 7 * 24, 24, 1, \"MWh\")\n",
    "\n",
    "X_train.shape, metadata_train.shape, y_train.shape, X_test.shape"
   ]
  },
  {
   "cell_type": "code",
   "execution_count": null,
   "metadata": {},
   "outputs": [
    {
     "name": "stdout",
     "output_type": "stream",
     "text": [
      "[LightGBM] [Info] This is the GPU trainer!!\n",
      "[LightGBM] [Info] Total Bins 42840\n",
      "[LightGBM] [Info] Number of data points in the train set: 17343, number of used features: 168\n",
      "[LightGBM] [Info] Using GPU Device: NVIDIA A100 80GB PCIe, Vendor: NVIDIA Corporation\n",
      "[LightGBM] [Info] Compiling OpenCL Kernel with 256 bins...\n",
      "[LightGBM] [Info] GPU programs have been built\n",
      "[LightGBM] [Info] Size of histogram bin entry: 8\n",
      "[LightGBM] [Info] 168 dense feature groups (2.78 MB) transferred to GPU in 0.037363 secs. 0 sparse feature groups\n",
      "[LightGBM] [Info] Start training from score 106.790242\n",
      "[LightGBM] [Warning] No further splits with positive gain, best gain: -inf\n",
      "[LightGBM] [Warning] No further splits with positive gain, best gain: -inf\n",
      "[LightGBM] [Warning] No further splits with positive gain, best gain: -inf\n",
      "[LightGBM] [Warning] No further splits with positive gain, best gain: -inf\n",
      "[LightGBM] [Warning] No further splits with positive gain, best gain: -inf\n",
      "[LightGBM] [Warning] No further splits with positive gain, best gain: -inf\n",
      "[LightGBM] [Warning] No further splits with positive gain, best gain: -inf\n",
      "[LightGBM] [Warning] No further splits with positive gain, best gain: -inf\n",
      "[LightGBM] [Warning] No further splits with positive gain, best gain: -inf\n",
      "[LightGBM] [Warning] No further splits with positive gain, best gain: -inf\n",
      "[LightGBM] [Warning] No further splits with positive gain, best gain: -inf\n",
      "[LightGBM] [Warning] No further splits with positive gain, best gain: -inf\n",
      "[LightGBM] [Warning] No further splits with positive gain, best gain: -inf\n",
      "[LightGBM] [Warning] No further splits with positive gain, best gain: -inf\n",
      "[LightGBM] [Warning] No further splits with positive gain, best gain: -inf\n",
      "[LightGBM] [Warning] No further splits with positive gain, best gain: -inf\n",
      "[LightGBM] [Warning] No further splits with positive gain, best gain: -inf\n",
      "[LightGBM] [Warning] No further splits with positive gain, best gain: -inf\n"
     ]
    }
   ],
   "source": [
    "import lightgbm as lgb\n",
    "\n",
    "params = {\n",
    "    'n_estimators': 2000,\n",
    "    'max_depth': 4,\n",
    "    'num_leaves': 2**4,\n",
    "    'learning_rate': 0.1,\n",
    "    #'boosting_type': 'dart',\n",
    "    \"boosting_type\": \"gbdt\",\n",
    "    \"objective\": \"regression\",\n",
    "    \"metric\": \"mae\",\n",
    "    \"random_state\": 42,\n",
    "    \"device\": \"gpu\",\n",
    "}\n",
    "\n",
    "model = lgb.LGBMRegressor(first_metric_only = True, **params)\n",
    "\n",
    "model.fit(X_train, y_train[:, 0],\n",
    "          eval_metric = 'l1', \n",
    "          eval_set = [(X_test, y_test[:, 0])])"
   ]
  },
  {
   "cell_type": "code",
   "execution_count": null,
   "metadata": {},
   "outputs": [],
   "source": [
    "import plotly.express as px\n",
    "plot_df = {\"epochs\": epochs, \"Train MAE\": train_mae_list, \"Test MAE\": test_mae_list}\n",
    "px.line(plot_df, x=\"epochs\", y=[\"Train MAE\", \"Test MAE\"])"
   ]
  },
  {
   "cell_type": "code",
   "execution_count": null,
   "metadata": {},
   "outputs": [],
   "source": [
    "train_mae_list[0].item()"
   ]
  },
  {
   "cell_type": "code",
   "execution_count": null,
   "metadata": {},
   "outputs": [],
   "source": []
  }
 ],
 "metadata": {
  "kernelspec": {
   "display_name": "Python 3 (ipykernel)",
   "language": "python",
   "name": "python3"
  },
  "language_info": {
   "codemirror_mode": {
    "name": "ipython",
    "version": 3
   },
   "file_extension": ".py",
   "mimetype": "text/x-python",
   "name": "python",
   "nbconvert_exporter": "python",
   "pygments_lexer": "ipython3",
   "version": "3.9.7"
  }
 },
 "nbformat": 4,
 "nbformat_minor": 2
}
