{
 "cells": [
  {
   "cell_type": "code",
   "execution_count": 1,
   "metadata": {},
   "outputs": [],
   "source": [
    "import holidays\n",
    "import numpy as np\n",
    "import pandas as pd\n",
    "\n",
    "from load_data import load_data, split_data\n",
    "\n",
    "from sklearn.linear_model import RidgeClassifierCV\n",
    "from sklearn.pipeline import make_pipeline\n",
    "from sklearn.preprocessing import StandardScaler\n",
    "\n",
    "sampling = \"1H\"\n",
    "\n",
    "data = load_data(sampling)\n",
    "all_columns = data.keys()\n",
    "columns_to_drop = [\n",
    "    \"CH_AT\",\n",
    "    \"CH_DE\",\n",
    "    \"CH_FR\",\n",
    "    \"CH_IT\",\n",
    "    \"AT_CH\",\n",
    "    \"DE_CH\",\n",
    "    \"FR_CH\",\n",
    "    \"IT_CH\",\n",
    "]\n",
    "data_filtered = data.drop(columns=columns_to_drop)"
   ]
  },
  {
   "cell_type": "code",
   "execution_count": 2,
   "metadata": {},
   "outputs": [
    {
     "data": {
      "text/plain": [
       "((17341, 168), (17341, 17, 192), (17341, 24), (8580, 168), (8580, 24))"
      ]
     },
     "execution_count": 2,
     "metadata": {},
     "output_type": "execute_result"
    }
   ],
   "source": [
    "sep = len(data) // 3 * 2\n",
    "sep = sep // 4 * 4\n",
    "\n",
    "\n",
    "train_df = data[:sep]\n",
    "test_df = data[sep:]\n",
    "\n",
    "if sampling == \"1H\":\n",
    "    X_train, metadata_train, y_train = split_data(train_df, 7 * 24, 24, 1, \"MWh\")\n",
    "    X_test, metadata_test, y_test = split_data(test_df, 7 * 24, 24, 1, \"MWh\")\n",
    "elif sampling == \"25Min\":\n",
    "    X_train, metadata_train, y_train = split_data(\n",
    "        train_df, 7 * 24 * 4, 24 * 4, 1, \"MWh\"\n",
    "    )\n",
    "    # y_train = np.array([y_train[i:i+4].sum(axis=1) for i in range(0, len(y_train), 4)])\n",
    "    X_test, metadata_test, y_test = split_data(test_df, 7 * 24 * 4, 24 * 4, 1, \"MWh\")\n",
    "    # y_test = np.array([y_test[i:i+4].sum(axis=1) for i in range(0, len(y_test), 4)])\n",
    "else:\n",
    "    raise ValueError\n",
    "\n",
    "X_train.shape, metadata_train.shape, y_train.shape, X_test.shape, y_test.shape"
   ]
  },
  {
   "cell_type": "code",
   "execution_count": 3,
   "metadata": {},
   "outputs": [
    {
     "data": {
      "text/plain": [
       "((17341, 18, 192), (8580, 18, 192), (17341, 24), (8580, 24))"
      ]
     },
     "execution_count": 3,
     "metadata": {},
     "output_type": "execute_result"
    }
   ],
   "source": [
    "X_train_rocket = np.append(X_train, np.zeros((len(X_train), 24)), axis=1)\n",
    "X_train_rocket = np.append(X_train_rocket[:, np.newaxis, :], metadata_train, axis=1)\n",
    "\n",
    "X_test_rocket = np.append(X_test, np.zeros((len(X_test), 24)), axis=1)\n",
    "X_test_rocket = np.append(X_test_rocket[:, np.newaxis, :], metadata_test, axis=1)\n",
    "\n",
    "X_train_rocket.shape, X_test_rocket.shape, y_train.shape, y_test.shape"
   ]
  },
  {
   "cell_type": "code",
   "execution_count": 4,
   "metadata": {},
   "outputs": [],
   "source": [
    "import torch\n",
    "import torch.nn as nn\n",
    "import torch.nn.functional as F\n",
    "import numpy as np\n",
    "from collections import OrderedDict\n",
    "\n",
    "class MiniRocketFeatures(nn.Module):\n",
    "    \"\"\"This is a Pytorch implementation of MiniRocket developed by Malcolm McLean and Ignacio Oguiza\n",
    "    \n",
    "    MiniRocket paper citation:\n",
    "    @article{dempster_etal_2020,\n",
    "      author  = {Dempster, Angus and Schmidt, Daniel F and Webb, Geoffrey I},\n",
    "      title   = {{MINIROCKET}: A Very Fast (Almost) Deterministic Transform for Time Series Classification},\n",
    "      year    = {2020},\n",
    "      journal = {arXiv:2012.08791}\n",
    "    }\n",
    "    Original paper: https://arxiv.org/abs/2012.08791\n",
    "    Original code:  https://github.com/angus924/minirocket\"\"\"\n",
    "\n",
    "    kernel_size, num_kernels, fitting = 9, 84, False\n",
    "\n",
    "    def __init__(self, c_in, seq_len, num_features=10_000, max_dilations_per_kernel=32, random_state=None):\n",
    "        super(MiniRocketFeatures, self).__init__()\n",
    "        self.c_in, self.seq_len = c_in, seq_len\n",
    "        self.num_features = num_features // self.num_kernels * self.num_kernels\n",
    "        self.max_dilations_per_kernel  = max_dilations_per_kernel\n",
    "        self.random_state = random_state\n",
    "\n",
    "        # Convolution\n",
    "        indices = torch.combinations(torch.arange(self.kernel_size), 3).unsqueeze(1)\n",
    "        kernels = (-torch.ones(self.num_kernels, 1, self.kernel_size)).scatter_(2, indices, 2)\n",
    "        self.kernels = nn.Parameter(kernels.repeat(c_in, 1, 1), requires_grad=False)\n",
    "\n",
    "        # Dilations & padding\n",
    "        self._set_dilations(seq_len)\n",
    "\n",
    "        # Channel combinations (multivariate)\n",
    "        if c_in > 1:\n",
    "            self._set_channel_combinations(c_in)\n",
    "\n",
    "        # Bias\n",
    "        for i in range(self.num_dilations):\n",
    "            self.register_buffer(f'biases_{i}', torch.empty((self.num_kernels, self.num_features_per_dilation[i])))\n",
    "        self.register_buffer('prefit', torch.BoolTensor([False]))\n",
    "        \n",
    "    def fit(self, X, chunksize=None):\n",
    "        num_samples = X.shape[0]\n",
    "        if chunksize is None:\n",
    "            chunksize = min(num_samples, self.num_dilations * self.num_kernels)\n",
    "        else: \n",
    "            chunksize = min(num_samples, chunksize)\n",
    "        np.random.seed(self.random_state)\n",
    "        idxs = np.random.choice(num_samples, chunksize, False)\n",
    "        self.fitting = True\n",
    "        if isinstance(X, np.ndarray): \n",
    "            self(torch.from_numpy(X[idxs]).to(self.kernels.device))\n",
    "        else:\n",
    "            self(X[idxs].to(self.kernels.device))\n",
    "        self.fitting = False\n",
    "    \n",
    "    def forward(self, x):\n",
    "        _features = []\n",
    "        for i, (dilation, padding) in enumerate(zip(self.dilations, self.padding)):\n",
    "            _padding1 = i%2\n",
    "            \n",
    "            # Convolution\n",
    "            C = F.conv1d(x, self.kernels, padding=padding, dilation=dilation, groups=self.c_in)\n",
    "            if self.c_in > 1: # multivariate\n",
    "                C = C.reshape(x.shape[0], self.c_in, self.num_kernels, -1)\n",
    "                channel_combination = getattr(self, f'channel_combinations_{i}')\n",
    "                C = torch.mul(C, channel_combination)\n",
    "                C = C.sum(1)\n",
    "\n",
    "            # Bias\n",
    "            if not self.prefit or self.fitting:\n",
    "                num_features_this_dilation = self.num_features_per_dilation[i]\n",
    "                bias_this_dilation = self._get_bias(C, num_features_this_dilation)\n",
    "                setattr(self, f'biases_{i}', bias_this_dilation)        \n",
    "                if self.fitting:\n",
    "                    if i < self.num_dilations - 1:\n",
    "                        continue\n",
    "                    else:\n",
    "                        self.prefit = torch.BoolTensor([True])\n",
    "                        return\n",
    "                elif i == self.num_dilations - 1:\n",
    "                    self.prefit = torch.BoolTensor([True])\n",
    "            else:\n",
    "                bias_this_dilation = getattr(self, f'biases_{i}')\n",
    "            \n",
    "            # Features\n",
    "            _features.append(self._get_PPVs(C[:, _padding1::2], bias_this_dilation[_padding1::2]))\n",
    "            _features.append(self._get_PPVs(C[:, 1-_padding1::2, padding:-padding], bias_this_dilation[1-_padding1::2]))\n",
    "        return torch.cat(_features, dim=1)           \n",
    "\n",
    "    def _get_PPVs(self, C, bias):\n",
    "        C = C.unsqueeze(-1)\n",
    "        bias = bias.view(1, bias.shape[0], 1, bias.shape[1])\n",
    "        return (C > bias).float().mean(2).flatten(1)\n",
    "\n",
    "    def _set_dilations(self, input_length):\n",
    "        num_features_per_kernel = self.num_features // self.num_kernels\n",
    "        true_max_dilations_per_kernel = min(num_features_per_kernel, self.max_dilations_per_kernel)\n",
    "        multiplier = num_features_per_kernel / true_max_dilations_per_kernel\n",
    "        max_exponent = np.log2((input_length - 1) / (9 - 1))\n",
    "        dilations, num_features_per_dilation = \\\n",
    "        np.unique(np.logspace(0, max_exponent, true_max_dilations_per_kernel, base = 2).astype(np.int32), return_counts = True)\n",
    "        num_features_per_dilation = (num_features_per_dilation * multiplier).astype(np.int32)\n",
    "        remainder = num_features_per_kernel - num_features_per_dilation.sum()\n",
    "        i = 0\n",
    "        while remainder > 0:\n",
    "            num_features_per_dilation[i] += 1\n",
    "            remainder -= 1\n",
    "            i = (i + 1) % len(num_features_per_dilation)\n",
    "        self.num_features_per_dilation = num_features_per_dilation\n",
    "        self.num_dilations = len(dilations)\n",
    "        self.dilations = dilations\n",
    "        self.padding = []\n",
    "        for i, dilation in enumerate(dilations): \n",
    "            self.padding.append((((self.kernel_size - 1) * dilation) // 2))\n",
    "\n",
    "    def _set_channel_combinations(self, num_channels):\n",
    "        num_combinations = self.num_kernels * self.num_dilations\n",
    "        max_num_channels = min(num_channels, 9)\n",
    "        max_exponent_channels = np.log2(max_num_channels + 1)\n",
    "        np.random.seed(self.random_state)\n",
    "        num_channels_per_combination = (2 ** np.random.uniform(0, max_exponent_channels, num_combinations)).astype(np.int32)\n",
    "        channel_combinations = torch.zeros((1, num_channels, num_combinations, 1))\n",
    "        for i in range(num_combinations):\n",
    "            channel_combinations[:, np.random.choice(num_channels, num_channels_per_combination[i], False), i] = 1\n",
    "        channel_combinations = torch.split(channel_combinations, self.num_kernels, 2) # split by dilation\n",
    "        for i, channel_combination in enumerate(channel_combinations): \n",
    "            self.register_buffer(f'channel_combinations_{i}', channel_combination) # per dilation\n",
    "\n",
    "    def _get_quantiles(self, n):\n",
    "        return torch.tensor([(_ * ((np.sqrt(5) + 1) / 2)) % 1 for _ in range(1, n + 1)]).float()\n",
    "\n",
    "    def _get_bias(self, C, num_features_this_dilation):\n",
    "        np.random.seed(self.random_state)\n",
    "        idxs = np.random.choice(C.shape[0], self.num_kernels)\n",
    "        samples = C[idxs].diagonal().T \n",
    "        biases = torch.quantile(samples, self._get_quantiles(num_features_this_dilation).to(C.device), dim=1).T\n",
    "        return biases\n",
    "    \n",
    "def get_minirocket_features(o, model, chunksize=1024, use_cuda=None, to_np=True):\n",
    "    \"\"\"Function used to split a large dataset into chunks, avoiding OOM error.\"\"\"\n",
    "    use = torch.cuda.is_available() if use_cuda is None else use_cuda\n",
    "    device = torch.device(torch.cuda.current_device()) if use else torch.device('cpu')\n",
    "    model = model.to(device)\n",
    "    if isinstance(o, np.ndarray): o = torch.from_numpy(o).to(device)\n",
    "    _features = []\n",
    "    for oi in torch.split(o, chunksize): \n",
    "        _features.append(model(oi))\n",
    "    features = torch.cat(_features).unsqueeze(-1)\n",
    "    if to_np: return features.cpu().numpy()\n",
    "    else: return features\n"
   ]
  },
  {
   "cell_type": "code",
   "execution_count": 5,
   "metadata": {},
   "outputs": [],
   "source": [
    "X_train_rocket = torch.Tensor(X_train_rocket).to(device=\"cuda\")\n",
    "X_test_rocket = torch.Tensor(X_test_rocket).to(device=\"cuda\")\n",
    "#y_train = torch.Tensor(y_train).to(device=\"cuda\")\n",
    "#y_test = torch.Tensor(y_test).to(device=\"cuda\")"
   ]
  },
  {
   "cell_type": "code",
   "execution_count": 6,
   "metadata": {},
   "outputs": [
    {
     "data": {
      "text/plain": [
       "((17341, 9996, 1), (8580, 9996, 1))"
      ]
     },
     "execution_count": 6,
     "metadata": {},
     "output_type": "execute_result"
    }
   ],
   "source": [
    "mrf = MiniRocketFeatures(X_train_rocket.shape[1], X_train_rocket.shape[2]).to(device=\"cuda\")\n",
    "mrf.fit(X_train_rocket)\n",
    "features_train = get_minirocket_features(X_train_rocket, mrf, chunksize=1024, to_np=True)\n",
    "features_test = get_minirocket_features(X_test_rocket, mrf, chunksize=1024, to_np=True)\n",
    "\n",
    "features_train.shape, features_test.shape\n",
    "     "
   ]
  },
  {
   "cell_type": "code",
   "execution_count": 7,
   "metadata": {},
   "outputs": [],
   "source": [
    "features_train = features_train.squeeze()\n",
    "features_test = features_test.squeeze()\n"
   ]
  },
  {
   "cell_type": "code",
   "execution_count": 15,
   "metadata": {},
   "outputs": [
    {
     "data": {
      "text/plain": [
       "(array([156.7281919 , 166.50369557, 185.93545488, ..., 167.49404698,\n",
       "        172.16539035, 168.05696197]),\n",
       " (17341,),\n",
       " (17341, 9996))"
      ]
     },
     "execution_count": 15,
     "metadata": {},
     "output_type": "execute_result"
    }
   ],
   "source": [
    "y_train[:, 0], y_train[:, 0].shape, features_train.shape"
   ]
  },
  {
   "cell_type": "code",
   "execution_count": 14,
   "metadata": {
    "scrolled": true
   },
   "outputs": [
    {
     "ename": "ValueError",
     "evalue": "Unknown label type: (array([156.7281919 , 166.50369557, 185.93545488, ..., 167.49404698,\n       172.16539035, 168.05696197]),)",
     "output_type": "error",
     "traceback": [
      "\u001b[0;31m---------------------------------------------------------------------------\u001b[0m",
      "\u001b[0;31mValueError\u001b[0m                                Traceback (most recent call last)",
      "Cell \u001b[0;32mIn[14], line 10\u001b[0m\n\u001b[1;32m      3\u001b[0m \u001b[38;5;28;01mfrom\u001b[39;00m \u001b[38;5;21;01msklearn\u001b[39;00m\u001b[38;5;21;01m.\u001b[39;00m\u001b[38;5;21;01mpreprocessing\u001b[39;00m \u001b[38;5;28;01mimport\u001b[39;00m StandardScaler\n\u001b[1;32m      5\u001b[0m model \u001b[38;5;241m=\u001b[39m make_pipeline(\n\u001b[1;32m      6\u001b[0m     StandardScaler(with_mean\u001b[38;5;241m=\u001b[39m\u001b[38;5;28;01mFalse\u001b[39;00m),\n\u001b[1;32m      7\u001b[0m     RidgeClassifierCV(alphas\u001b[38;5;241m=\u001b[39mnp\u001b[38;5;241m.\u001b[39mlogspace(\u001b[38;5;241m-\u001b[39m\u001b[38;5;241m3\u001b[39m, \u001b[38;5;241m3\u001b[39m, \u001b[38;5;241m10\u001b[39m))\n\u001b[1;32m      8\u001b[0m )\n\u001b[0;32m---> 10\u001b[0m \u001b[43mmodel\u001b[49m\u001b[38;5;241;43m.\u001b[39;49m\u001b[43mfit\u001b[49m\u001b[43m(\u001b[49m\u001b[43mfeatures_train\u001b[49m\u001b[43m,\u001b[49m\u001b[43m \u001b[49m\u001b[43my_train\u001b[49m\u001b[43m[\u001b[49m\u001b[43m:\u001b[49m\u001b[43m,\u001b[49m\u001b[43m \u001b[49m\u001b[38;5;241;43m0\u001b[39;49m\u001b[43m]\u001b[49m\u001b[43m)\u001b[49m\n",
      "File \u001b[0;32m~/.local/lib/python3.9/site-packages/sklearn/pipeline.py:405\u001b[0m, in \u001b[0;36mPipeline.fit\u001b[0;34m(self, X, y, **fit_params)\u001b[0m\n\u001b[1;32m    403\u001b[0m     \u001b[38;5;28;01mif\u001b[39;00m \u001b[38;5;28mself\u001b[39m\u001b[38;5;241m.\u001b[39m_final_estimator \u001b[38;5;241m!=\u001b[39m \u001b[38;5;124m\"\u001b[39m\u001b[38;5;124mpassthrough\u001b[39m\u001b[38;5;124m\"\u001b[39m:\n\u001b[1;32m    404\u001b[0m         fit_params_last_step \u001b[38;5;241m=\u001b[39m fit_params_steps[\u001b[38;5;28mself\u001b[39m\u001b[38;5;241m.\u001b[39msteps[\u001b[38;5;241m-\u001b[39m\u001b[38;5;241m1\u001b[39m][\u001b[38;5;241m0\u001b[39m]]\n\u001b[0;32m--> 405\u001b[0m         \u001b[38;5;28;43mself\u001b[39;49m\u001b[38;5;241;43m.\u001b[39;49m\u001b[43m_final_estimator\u001b[49m\u001b[38;5;241;43m.\u001b[39;49m\u001b[43mfit\u001b[49m\u001b[43m(\u001b[49m\u001b[43mXt\u001b[49m\u001b[43m,\u001b[49m\u001b[43m \u001b[49m\u001b[43my\u001b[49m\u001b[43m,\u001b[49m\u001b[43m \u001b[49m\u001b[38;5;241;43m*\u001b[39;49m\u001b[38;5;241;43m*\u001b[39;49m\u001b[43mfit_params_last_step\u001b[49m\u001b[43m)\u001b[49m\n\u001b[1;32m    407\u001b[0m \u001b[38;5;28;01mreturn\u001b[39;00m \u001b[38;5;28mself\u001b[39m\n",
      "File \u001b[0;32m~/.local/lib/python3.9/site-packages/sklearn/linear_model/_ridge.py:2535\u001b[0m, in \u001b[0;36mRidgeClassifierCV.fit\u001b[0;34m(self, X, y, sample_weight)\u001b[0m\n\u001b[1;32m   2530\u001b[0m \u001b[38;5;28mself\u001b[39m\u001b[38;5;241m.\u001b[39m_validate_params()\n\u001b[1;32m   2532\u001b[0m \u001b[38;5;66;03m# `RidgeClassifier` does not accept \"sag\" or \"saga\" solver and thus support\u001b[39;00m\n\u001b[1;32m   2533\u001b[0m \u001b[38;5;66;03m# csr, csc, and coo sparse matrices. By using solver=\"eigen\" we force to accept\u001b[39;00m\n\u001b[1;32m   2534\u001b[0m \u001b[38;5;66;03m# all sparse format.\u001b[39;00m\n\u001b[0;32m-> 2535\u001b[0m X, y, sample_weight, Y \u001b[38;5;241m=\u001b[39m \u001b[38;5;28;43mself\u001b[39;49m\u001b[38;5;241;43m.\u001b[39;49m\u001b[43m_prepare_data\u001b[49m\u001b[43m(\u001b[49m\u001b[43mX\u001b[49m\u001b[43m,\u001b[49m\u001b[43m \u001b[49m\u001b[43my\u001b[49m\u001b[43m,\u001b[49m\u001b[43m \u001b[49m\u001b[43msample_weight\u001b[49m\u001b[43m,\u001b[49m\u001b[43m \u001b[49m\u001b[43msolver\u001b[49m\u001b[38;5;241;43m=\u001b[39;49m\u001b[38;5;124;43m\"\u001b[39;49m\u001b[38;5;124;43meigen\u001b[39;49m\u001b[38;5;124;43m\"\u001b[39;49m\u001b[43m)\u001b[49m\n\u001b[1;32m   2537\u001b[0m \u001b[38;5;66;03m# If cv is None, gcv mode will be used and we used the binarized Y\u001b[39;00m\n\u001b[1;32m   2538\u001b[0m \u001b[38;5;66;03m# since y will not be binarized in _RidgeGCV estimator.\u001b[39;00m\n\u001b[1;32m   2539\u001b[0m \u001b[38;5;66;03m# If cv is not None, a GridSearchCV with some RidgeClassifier\u001b[39;00m\n\u001b[1;32m   2540\u001b[0m \u001b[38;5;66;03m# estimators are used where y will be binarized. Thus, we pass y\u001b[39;00m\n\u001b[1;32m   2541\u001b[0m \u001b[38;5;66;03m# instead of the binarized Y.\u001b[39;00m\n\u001b[1;32m   2542\u001b[0m target \u001b[38;5;241m=\u001b[39m Y \u001b[38;5;28;01mif\u001b[39;00m \u001b[38;5;28mself\u001b[39m\u001b[38;5;241m.\u001b[39mcv \u001b[38;5;129;01mis\u001b[39;00m \u001b[38;5;28;01mNone\u001b[39;00m \u001b[38;5;28;01melse\u001b[39;00m y\n",
      "File \u001b[0;32m~/.local/lib/python3.9/site-packages/sklearn/linear_model/_ridge.py:1180\u001b[0m, in \u001b[0;36m_RidgeClassifierMixin._prepare_data\u001b[0;34m(self, X, y, sample_weight, solver)\u001b[0m\n\u001b[1;32m   1171\u001b[0m X, y \u001b[38;5;241m=\u001b[39m \u001b[38;5;28mself\u001b[39m\u001b[38;5;241m.\u001b[39m_validate_data(\n\u001b[1;32m   1172\u001b[0m     X,\n\u001b[1;32m   1173\u001b[0m     y,\n\u001b[0;32m   (...)\u001b[0m\n\u001b[1;32m   1176\u001b[0m     y_numeric\u001b[38;5;241m=\u001b[39m\u001b[38;5;28;01mFalse\u001b[39;00m,\n\u001b[1;32m   1177\u001b[0m )\n\u001b[1;32m   1179\u001b[0m \u001b[38;5;28mself\u001b[39m\u001b[38;5;241m.\u001b[39m_label_binarizer \u001b[38;5;241m=\u001b[39m LabelBinarizer(pos_label\u001b[38;5;241m=\u001b[39m\u001b[38;5;241m1\u001b[39m, neg_label\u001b[38;5;241m=\u001b[39m\u001b[38;5;241m-\u001b[39m\u001b[38;5;241m1\u001b[39m)\n\u001b[0;32m-> 1180\u001b[0m Y \u001b[38;5;241m=\u001b[39m \u001b[38;5;28;43mself\u001b[39;49m\u001b[38;5;241;43m.\u001b[39;49m\u001b[43m_label_binarizer\u001b[49m\u001b[38;5;241;43m.\u001b[39;49m\u001b[43mfit_transform\u001b[49m\u001b[43m(\u001b[49m\u001b[43my\u001b[49m\u001b[43m)\u001b[49m\n\u001b[1;32m   1181\u001b[0m \u001b[38;5;28;01mif\u001b[39;00m \u001b[38;5;129;01mnot\u001b[39;00m \u001b[38;5;28mself\u001b[39m\u001b[38;5;241m.\u001b[39m_label_binarizer\u001b[38;5;241m.\u001b[39my_type_\u001b[38;5;241m.\u001b[39mstartswith(\u001b[38;5;124m\"\u001b[39m\u001b[38;5;124mmultilabel\u001b[39m\u001b[38;5;124m\"\u001b[39m):\n\u001b[1;32m   1182\u001b[0m     y \u001b[38;5;241m=\u001b[39m column_or_1d(y, warn\u001b[38;5;241m=\u001b[39m\u001b[38;5;28;01mTrue\u001b[39;00m)\n",
      "File \u001b[0;32m~/.local/lib/python3.9/site-packages/sklearn/utils/_set_output.py:140\u001b[0m, in \u001b[0;36m_wrap_method_output.<locals>.wrapped\u001b[0;34m(self, X, *args, **kwargs)\u001b[0m\n\u001b[1;32m    138\u001b[0m \u001b[38;5;129m@wraps\u001b[39m(f)\n\u001b[1;32m    139\u001b[0m \u001b[38;5;28;01mdef\u001b[39;00m \u001b[38;5;21mwrapped\u001b[39m(\u001b[38;5;28mself\u001b[39m, X, \u001b[38;5;241m*\u001b[39margs, \u001b[38;5;241m*\u001b[39m\u001b[38;5;241m*\u001b[39mkwargs):\n\u001b[0;32m--> 140\u001b[0m     data_to_wrap \u001b[38;5;241m=\u001b[39m \u001b[43mf\u001b[49m\u001b[43m(\u001b[49m\u001b[38;5;28;43mself\u001b[39;49m\u001b[43m,\u001b[49m\u001b[43m \u001b[49m\u001b[43mX\u001b[49m\u001b[43m,\u001b[49m\u001b[43m \u001b[49m\u001b[38;5;241;43m*\u001b[39;49m\u001b[43margs\u001b[49m\u001b[43m,\u001b[49m\u001b[43m \u001b[49m\u001b[38;5;241;43m*\u001b[39;49m\u001b[38;5;241;43m*\u001b[39;49m\u001b[43mkwargs\u001b[49m\u001b[43m)\u001b[49m\n\u001b[1;32m    141\u001b[0m     \u001b[38;5;28;01mif\u001b[39;00m \u001b[38;5;28misinstance\u001b[39m(data_to_wrap, \u001b[38;5;28mtuple\u001b[39m):\n\u001b[1;32m    142\u001b[0m         \u001b[38;5;66;03m# only wrap the first output for cross decomposition\u001b[39;00m\n\u001b[1;32m    143\u001b[0m         \u001b[38;5;28;01mreturn\u001b[39;00m (\n\u001b[1;32m    144\u001b[0m             _wrap_data_with_container(method, data_to_wrap[\u001b[38;5;241m0\u001b[39m], X, \u001b[38;5;28mself\u001b[39m),\n\u001b[1;32m    145\u001b[0m             \u001b[38;5;241m*\u001b[39mdata_to_wrap[\u001b[38;5;241m1\u001b[39m:],\n\u001b[1;32m    146\u001b[0m         )\n",
      "File \u001b[0;32m~/.local/lib/python3.9/site-packages/sklearn/preprocessing/_label.py:334\u001b[0m, in \u001b[0;36mLabelBinarizer.fit_transform\u001b[0;34m(self, y)\u001b[0m\n\u001b[1;32m    314\u001b[0m \u001b[38;5;28;01mdef\u001b[39;00m \u001b[38;5;21mfit_transform\u001b[39m(\u001b[38;5;28mself\u001b[39m, y):\n\u001b[1;32m    315\u001b[0m \u001b[38;5;250m    \u001b[39m\u001b[38;5;124;03m\"\"\"Fit label binarizer/transform multi-class labels to binary labels.\u001b[39;00m\n\u001b[1;32m    316\u001b[0m \n\u001b[1;32m    317\u001b[0m \u001b[38;5;124;03m    The output of transform is sometimes referred to as\u001b[39;00m\n\u001b[0;32m   (...)\u001b[0m\n\u001b[1;32m    332\u001b[0m \u001b[38;5;124;03m        will be of CSR format.\u001b[39;00m\n\u001b[1;32m    333\u001b[0m \u001b[38;5;124;03m    \"\"\"\u001b[39;00m\n\u001b[0;32m--> 334\u001b[0m     \u001b[38;5;28;01mreturn\u001b[39;00m \u001b[38;5;28;43mself\u001b[39;49m\u001b[38;5;241;43m.\u001b[39;49m\u001b[43mfit\u001b[49m\u001b[43m(\u001b[49m\u001b[43my\u001b[49m\u001b[43m)\u001b[49m\u001b[38;5;241m.\u001b[39mtransform(y)\n",
      "File \u001b[0;32m~/.local/lib/python3.9/site-packages/sklearn/preprocessing/_label.py:311\u001b[0m, in \u001b[0;36mLabelBinarizer.fit\u001b[0;34m(self, y)\u001b[0m\n\u001b[1;32m    308\u001b[0m     \u001b[38;5;28;01mraise\u001b[39;00m \u001b[38;5;167;01mValueError\u001b[39;00m(\u001b[38;5;124m\"\u001b[39m\u001b[38;5;124my has 0 samples: \u001b[39m\u001b[38;5;132;01m%r\u001b[39;00m\u001b[38;5;124m\"\u001b[39m \u001b[38;5;241m%\u001b[39m y)\n\u001b[1;32m    310\u001b[0m \u001b[38;5;28mself\u001b[39m\u001b[38;5;241m.\u001b[39msparse_input_ \u001b[38;5;241m=\u001b[39m sp\u001b[38;5;241m.\u001b[39missparse(y)\n\u001b[0;32m--> 311\u001b[0m \u001b[38;5;28mself\u001b[39m\u001b[38;5;241m.\u001b[39mclasses_ \u001b[38;5;241m=\u001b[39m \u001b[43munique_labels\u001b[49m\u001b[43m(\u001b[49m\u001b[43my\u001b[49m\u001b[43m)\u001b[49m\n\u001b[1;32m    312\u001b[0m \u001b[38;5;28;01mreturn\u001b[39;00m \u001b[38;5;28mself\u001b[39m\n",
      "File \u001b[0;32m~/.local/lib/python3.9/site-packages/sklearn/utils/multiclass.py:107\u001b[0m, in \u001b[0;36munique_labels\u001b[0;34m(*ys)\u001b[0m\n\u001b[1;32m    105\u001b[0m _unique_labels \u001b[38;5;241m=\u001b[39m _FN_UNIQUE_LABELS\u001b[38;5;241m.\u001b[39mget(label_type, \u001b[38;5;28;01mNone\u001b[39;00m)\n\u001b[1;32m    106\u001b[0m \u001b[38;5;28;01mif\u001b[39;00m \u001b[38;5;129;01mnot\u001b[39;00m _unique_labels:\n\u001b[0;32m--> 107\u001b[0m     \u001b[38;5;28;01mraise\u001b[39;00m \u001b[38;5;167;01mValueError\u001b[39;00m(\u001b[38;5;124m\"\u001b[39m\u001b[38;5;124mUnknown label type: \u001b[39m\u001b[38;5;132;01m%s\u001b[39;00m\u001b[38;5;124m\"\u001b[39m \u001b[38;5;241m%\u001b[39m \u001b[38;5;28mrepr\u001b[39m(ys))\n\u001b[1;32m    109\u001b[0m \u001b[38;5;28;01mif\u001b[39;00m is_array_api:\n\u001b[1;32m    110\u001b[0m     \u001b[38;5;66;03m# array_api does not allow for mixed dtypes\u001b[39;00m\n\u001b[1;32m    111\u001b[0m     unique_ys \u001b[38;5;241m=\u001b[39m xp\u001b[38;5;241m.\u001b[39mconcat([_unique_labels(y) \u001b[38;5;28;01mfor\u001b[39;00m y \u001b[38;5;129;01min\u001b[39;00m ys])\n",
      "\u001b[0;31mValueError\u001b[0m: Unknown label type: (array([156.7281919 , 166.50369557, 185.93545488, ..., 167.49404698,\n       172.16539035, 168.05696197]),)"
     ]
    }
   ],
   "source": [
    "from sklearn.pipeline import make_pipeline\n",
    "from sklearn.linear_model import LogisticRegressionCV, RidgeCV\n",
    "from sklearn.preprocessing import StandardScaler\n",
    "\n",
    "model = make_pipeline(\n",
    "    StandardScaler(with_mean=False),\n",
    "    RidgeClassifierCV(alphas=np.logspace(-3, 3, 10))\n",
    ")\n",
    "\n",
    "model.fit(features_train, y_train[:, 0])"
   ]
  },
  {
   "cell_type": "code",
   "execution_count": null,
   "metadata": {},
   "outputs": [],
   "source": [
    "from sklearn import metrics\n",
    "y_train_pred = model.predict(features_train)\n",
    "y_test_pred = model.predict(features_test)\n",
    "\n",
    "metrics.L1Loss(Y_test, y_test_pred)"
   ]
  },
  {
   "cell_type": "code",
   "execution_count": null,
   "metadata": {},
   "outputs": [],
   "source": [
    "class BestModel(nn.Module):\n",
    "    def __init__(self):\n",
    "        super().__init__()\n",
    "        self.flatten = nn.Flatten()\n",
    "        self.bn1d = nn.BatchNorm1d(9996)\n",
    "        self.linear = nn.Linear(9996, 24)\n",
    "\n",
    "    def forward(self, x):\n",
    "        x = self.flatten(x)\n",
    "        x = self.bn1d(x)\n",
    "        x = self.linear(x)\n",
    "        return x\n",
    "    "
   ]
  },
  {
   "cell_type": "code",
   "execution_count": null,
   "metadata": {},
   "outputs": [],
   "source": [
    "features_train.shape, y_train.shape"
   ]
  },
  {
   "cell_type": "code",
   "execution_count": null,
   "metadata": {},
   "outputs": [],
   "source": [
    "import torch.optim as optim\n",
    "from torch import utils\n",
    "\n",
    "train_mae_list = []\n",
    "test_mae_list = []\n",
    "epochs = []\n",
    "\n",
    "model = BestModel().to(device='cuda')\n",
    "optimizer = optim.Adam(model.parameters())\n",
    "loss_fn = nn.L1Loss()\n",
    "loader = utils.data.DataLoader(\n",
    "    utils.data.TensorDataset(features_train, y_train),\n",
    "    shuffle=True,\n",
    "    batch_size=1024,\n",
    ")\n",
    "\n",
    "n_epochs = 100\n",
    "for epoch in range(n_epochs):\n",
    "    model.train()\n",
    "    for X_batch, y_batch in loader:\n",
    "        y_pred = model(X_batch)\n",
    "        loss = loss_fn(y_pred, y_batch)\n",
    "        optimizer.zero_grad()\n",
    "        loss.backward()\n",
    "        optimizer.step()\n",
    "    # Validation\n",
    "    if epoch % 5 != 0:\n",
    "        continue\n",
    "    model.eval()\n",
    "    with torch.no_grad():\n",
    "        y_pred = model(features_train)\n",
    "        train_mae = nn.L1Loss()(y_pred, y_train).item()\n",
    "        y_pred = model(features_test)\n",
    "        test_mae = nn.L1Loss()(y_pred, y_test).item()\n",
    "        train_mae_list.append(train_mae)\n",
    "        test_mae_list.append(test_mae)\n",
    "        epochs.append(epoch)\n",
    "    print(\"Epoch %d: train MAE %.4f, test MAE %.4f\" % (epoch, train_mae, test_mae))"
   ]
  },
  {
   "cell_type": "code",
   "execution_count": null,
   "metadata": {},
   "outputs": [],
   "source": [
    "import plotly.express as px\n",
    "plot_df = {\"epochs\": epochs, \"Train MAE\": train_mae_list, \"Test MAE\": test_mae_list}\n",
    "px.line(plot_df, x=\"epochs\", y=[\"Train MAE\", \"Test MAE\"])"
   ]
  },
  {
   "cell_type": "code",
   "execution_count": null,
   "metadata": {},
   "outputs": [],
   "source": [
    "train_mae_list[0].item()"
   ]
  },
  {
   "cell_type": "code",
   "execution_count": null,
   "metadata": {},
   "outputs": [],
   "source": []
  }
 ],
 "metadata": {
  "kernelspec": {
   "display_name": "Python 3 (ipykernel)",
   "language": "python",
   "name": "python3"
  },
  "language_info": {
   "codemirror_mode": {
    "name": "ipython",
    "version": 3
   },
   "file_extension": ".py",
   "mimetype": "text/x-python",
   "name": "python",
   "nbconvert_exporter": "python",
   "pygments_lexer": "ipython3",
   "version": "3.9.7"
  }
 },
 "nbformat": 4,
 "nbformat_minor": 2
}
