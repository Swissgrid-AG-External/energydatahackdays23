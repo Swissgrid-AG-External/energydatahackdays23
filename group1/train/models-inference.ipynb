{
 "cells": [
  {
   "cell_type": "code",
   "execution_count": 8,
   "metadata": {},
   "outputs": [],
   "source": [
    "import joblib\n",
    "import numpy as np\n",
    "import pandas as pd\n",
    "from sklearn.preprocessing import StandardScaler\n",
    "\n",
    "import torch\n",
    "import torch.nn as nn\n",
    "\n",
    "class BestModel(nn.Module):\n",
    "    def __init__(self, input_size, hidden_size, num_layers):\n",
    "        super().__init__()\n",
    "        self.gru_X = nn.GRU(\n",
    "            input_size=7 * 24,\n",
    "            hidden_size=hidden_size,\n",
    "            num_layers=num_layers,\n",
    "        )\n",
    "        self.linear = nn.Linear(hidden_size, 24)\n",
    "\n",
    "    def forward(self, x, meta):\n",
    "        x, _ = self.gru_X(x)\n",
    "        x = self.linear(x)\n",
    "        return x\n",
    "\n",
    "X_scaler = joblib.load(\"X_scaler.joblib\")\n",
    "model = torch.load(\"torch_LSTM.pickle\")\n",
    "\n",
    "from load_data import load_data, split_data\n",
    "\n",
    "sampling = \"1H\"\n",
    "\n",
    "data = load_data(sampling)"
   ]
  },
  {
   "cell_type": "code",
   "execution_count": 9,
   "metadata": {},
   "outputs": [],
   "source": [
    "columns_to_drop = [\n",
    "    \"CH_AT\",\n",
    "    \"CH_DE\",\n",
    "    \"CH_FR\",\n",
    "    \"CH_IT\",\n",
    "    \"AT_CH\",\n",
    "    \"DE_CH\",\n",
    "    \"FR_CH\",\n",
    "    \"IT_CH\",\n",
    "]"
   ]
  },
  {
   "cell_type": "code",
   "execution_count": 10,
   "metadata": {},
   "outputs": [],
   "source": [
    "data = data.drop(columns=columns_to_drop)"
   ]
  },
  {
   "cell_type": "code",
   "execution_count": 11,
   "metadata": {
    "scrolled": true
   },
   "outputs": [
    {
     "data": {
      "text/plain": [
       "((26112, 168), (26112, 24))"
      ]
     },
     "execution_count": 11,
     "metadata": {},
     "output_type": "execute_result"
    }
   ],
   "source": [
    "X, metadata, y = split_data(data, 7 * 24, 24, 1, \"MWh\")\n",
    "\n",
    "X.shape, y.shape"
   ]
  },
  {
   "cell_type": "code",
   "execution_count": 12,
   "metadata": {},
   "outputs": [],
   "source": [
    "X = X_scaler.transform(X)"
   ]
  },
  {
   "cell_type": "code",
   "execution_count": 13,
   "metadata": {},
   "outputs": [],
   "source": [
    "X = torch.Tensor(X)[:, :].to(device='cuda')\n",
    "y = torch.Tensor(y)[:, :].to(device='cuda')\n",
    "metadata = torch.Tensor(metadata).to(device='cuda')"
   ]
  },
  {
   "cell_type": "code",
   "execution_count": 15,
   "metadata": {},
   "outputs": [
    {
     "name": "stdout",
     "output_type": "stream",
     "text": [
      "MAE 16.4330\n"
     ]
    }
   ],
   "source": [
    "## import torch.optim as optim\n",
    "from torch import utils\n",
    "\n",
    "loader = utils.data.DataLoader(\n",
    "    utils.data.TensorDataset(X, metadata, y),\n",
    "    shuffle=False,\n",
    "    batch_size=1024,\n",
    ")\n",
    "    \n",
    "model.eval()\n",
    "with torch.no_grad():\n",
    "    y_pred = model(X, metadata)\n",
    "    mae = nn.L1Loss()(y_pred, y).item()\n",
    "print(\"MAE %.4f\" % (mae))"
   ]
  },
  {
   "cell_type": "code",
   "execution_count": null,
   "metadata": {},
   "outputs": [],
   "source": [
    "torch.save(model, \"tor\")"
   ]
  }
 ],
 "metadata": {
  "kernelspec": {
   "display_name": "Python 3 (ipykernel)",
   "language": "python",
   "name": "python3"
  },
  "language_info": {
   "codemirror_mode": {
    "name": "ipython",
    "version": 3
   },
   "file_extension": ".py",
   "mimetype": "text/x-python",
   "name": "python",
   "nbconvert_exporter": "python",
   "pygments_lexer": "ipython3",
   "version": "3.9.7"
  }
 },
 "nbformat": 4,
 "nbformat_minor": 2
}
