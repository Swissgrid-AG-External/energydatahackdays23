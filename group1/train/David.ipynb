{
 "cells": [
  {
   "cell_type": "code",
   "execution_count": 28,
   "id": "f90f72c8",
   "metadata": {
    "scrolled": true
   },
   "outputs": [
    {
     "data": {
      "text/html": [
       "<div>\n",
       "<style scoped>\n",
       "    .dataframe tbody tr th:only-of-type {\n",
       "        vertical-align: middle;\n",
       "    }\n",
       "\n",
       "    .dataframe tbody tr th {\n",
       "        vertical-align: top;\n",
       "    }\n",
       "\n",
       "    .dataframe thead th {\n",
       "        text-align: right;\n",
       "    }\n",
       "</style>\n",
       "<table border=\"1\" class=\"dataframe\">\n",
       "  <thead>\n",
       "    <tr style=\"text-align: right;\">\n",
       "      <th></th>\n",
       "      <th>timestp</th>\n",
       "      <th>loss</th>\n",
       "    </tr>\n",
       "  </thead>\n",
       "  <tbody>\n",
       "    <tr>\n",
       "      <th>1</th>\n",
       "      <td>2019-01-01 00:15:00</td>\n",
       "      <td>39143.346123</td>\n",
       "    </tr>\n",
       "    <tr>\n",
       "      <th>2</th>\n",
       "      <td>2019-01-01 00:30:00</td>\n",
       "      <td>32788.068958</td>\n",
       "    </tr>\n",
       "    <tr>\n",
       "      <th>3</th>\n",
       "      <td>2019-01-01 00:45:00</td>\n",
       "      <td>33018.915678</td>\n",
       "    </tr>\n",
       "    <tr>\n",
       "      <th>4</th>\n",
       "      <td>2019-01-01 01:00:00</td>\n",
       "      <td>34574.672936</td>\n",
       "    </tr>\n",
       "    <tr>\n",
       "      <th>5</th>\n",
       "      <td>2019-01-01 01:15:00</td>\n",
       "      <td>33417.09555</td>\n",
       "    </tr>\n",
       "    <tr>\n",
       "      <th>...</th>\n",
       "      <td>...</td>\n",
       "      <td>...</td>\n",
       "    </tr>\n",
       "    <tr>\n",
       "      <th>105212</th>\n",
       "      <td>2021-12-31 23:00:00</td>\n",
       "      <td>40720.617362</td>\n",
       "    </tr>\n",
       "    <tr>\n",
       "      <th>105213</th>\n",
       "      <td>2021-12-31 23:15:00</td>\n",
       "      <td>38156.038776</td>\n",
       "    </tr>\n",
       "    <tr>\n",
       "      <th>105214</th>\n",
       "      <td>2021-12-31 23:30:00</td>\n",
       "      <td>36290.836689</td>\n",
       "    </tr>\n",
       "    <tr>\n",
       "      <th>105215</th>\n",
       "      <td>2021-12-31 23:45:00</td>\n",
       "      <td>35947.703622</td>\n",
       "    </tr>\n",
       "    <tr>\n",
       "      <th>105216</th>\n",
       "      <td>2022-01-01 00:00:00</td>\n",
       "      <td>35660.211734</td>\n",
       "    </tr>\n",
       "  </tbody>\n",
       "</table>\n",
       "<p>105216 rows × 2 columns</p>\n",
       "</div>"
      ],
      "text/plain": [
       "                    timestp          loss\n",
       "1       2019-01-01 00:15:00  39143.346123\n",
       "2       2019-01-01 00:30:00  32788.068958\n",
       "3       2019-01-01 00:45:00  33018.915678\n",
       "4       2019-01-01 01:00:00  34574.672936\n",
       "5       2019-01-01 01:15:00   33417.09555\n",
       "...                     ...           ...\n",
       "105212  2021-12-31 23:00:00  40720.617362\n",
       "105213  2021-12-31 23:15:00  38156.038776\n",
       "105214  2021-12-31 23:30:00  36290.836689\n",
       "105215  2021-12-31 23:45:00  35947.703622\n",
       "105216  2022-01-01 00:00:00  35660.211734\n",
       "\n",
       "[105216 rows x 2 columns]"
      ]
     },
     "metadata": {},
     "output_type": "display_data"
    }
   ],
   "source": [
    "from sklearn.model_selection import train_test_split\n",
    "import pandas as pd\n",
    "import lightgbm as lgb\n",
    "import datetime\n",
    "\n",
    "activeL_df = pd.read_csv(\"../data/Avtice-losses.csv\")\n",
    "activeL_df = activeL_df.rename(columns={\"Wirkverluste/Active Losses\": \"loss\", \"Unnamed: 0\": \"timestp\"})\n",
    "activeL_df = activeL_df.iloc[1:]\n",
    "display(activeL)"
   ]
  },
  {
   "cell_type": "code",
   "execution_count": 13,
   "id": "603086bf",
   "metadata": {
    "scrolled": true
   },
   "outputs": [],
   "source": [
    "activeL['timestp'] = pd.to_datetime(activeL['timestp'])\n",
    "activeL['timestp'] = activeL['timestp'] - datetime.timedelta(minutes=15)"
   ]
  },
  {
   "cell_type": "code",
   "execution_count": 16,
   "id": "779cd210",
   "metadata": {},
   "outputs": [
    {
     "name": "stdout",
     "output_type": "stream",
     "text": [
      "                   timestp          loss\n",
      "1      2019-01-01 00:00:00  39143.346123\n",
      "2      2019-01-01 00:15:00  32788.068958\n",
      "3      2019-01-01 00:30:00  33018.915678\n",
      "4      2019-01-01 00:45:00  34574.672936\n",
      "5      2019-01-01 01:00:00   33417.09555\n",
      "...                    ...           ...\n",
      "105212 2021-12-31 22:45:00  40720.617362\n",
      "105213 2021-12-31 23:00:00  38156.038776\n",
      "105214 2021-12-31 23:15:00  36290.836689\n",
      "105215 2021-12-31 23:30:00  35947.703622\n",
      "105216 2021-12-31 23:45:00  35660.211734\n",
      "\n",
      "[105216 rows x 2 columns]\n"
     ]
    }
   ],
   "source": [
    "print(activeL)"
   ]
  },
  {
   "cell_type": "code",
   "execution_count": 25,
   "id": "240f3bcc",
   "metadata": {},
   "outputs": [
    {
     "name": "stdout",
     "output_type": "stream",
     "text": [
      "                   timestp      loss\n",
      "1      2019-01-01 00:00:00  0.039143\n",
      "2      2019-01-01 00:15:00  0.032788\n",
      "3      2019-01-01 00:30:00  0.033019\n",
      "4      2019-01-01 00:45:00  0.034575\n",
      "5      2019-01-01 01:00:00  0.033417\n",
      "...                    ...       ...\n",
      "105212 2021-12-31 22:45:00  0.040721\n",
      "105213 2021-12-31 23:00:00  0.038156\n",
      "105214 2021-12-31 23:15:00  0.036291\n",
      "105215 2021-12-31 23:30:00  0.035948\n",
      "105216 2021-12-31 23:45:00  0.035660\n",
      "\n",
      "[105216 rows x 2 columns]\n",
      "                         loss\n",
      "timestp                      \n",
      "2019-01-01 00:00:00  0.139525\n",
      "2019-01-01 01:00:00  0.129716\n",
      "2019-01-01 02:00:00  0.133398\n",
      "2019-01-01 03:00:00  0.135134\n",
      "2019-01-01 04:00:00  0.131699\n",
      "...                       ...\n",
      "2021-12-31 19:00:00  0.171707\n",
      "2021-12-31 20:00:00  0.159463\n",
      "2021-12-31 21:00:00  0.155110\n",
      "2021-12-31 22:00:00  0.171370\n",
      "2021-12-31 23:00:00  0.146055\n",
      "\n",
      "[26304 rows x 1 columns]\n"
     ]
    }
   ],
   "source": [
    "activeL['loss'] = pd.to_numeric(activeL['loss'], errors='coerce')/1000\n",
    "activeL_dfsample = activeL.resample('H', on='timestp')\n",
    "print(activeL)\n",
    "print(activeL_dfsample.sum())"
   ]
  },
  {
   "cell_type": "code",
   "execution_count": null,
   "id": "c6a84c1e",
   "metadata": {},
   "outputs": [],
   "source": []
  }
 ],
 "metadata": {
  "kernelspec": {
   "display_name": "Python 3 (ipykernel)",
   "language": "python",
   "name": "python3"
  },
  "language_info": {
   "codemirror_mode": {
    "name": "ipython",
    "version": 3
   },
   "file_extension": ".py",
   "mimetype": "text/x-python",
   "name": "python",
   "nbconvert_exporter": "python",
   "pygments_lexer": "ipython3",
   "version": "3.9.7"
  }
 },
 "nbformat": 4,
 "nbformat_minor": 5
}
