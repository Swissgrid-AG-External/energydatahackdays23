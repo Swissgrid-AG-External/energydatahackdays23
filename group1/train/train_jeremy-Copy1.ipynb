{
 "cells": [
  {
   "cell_type": "code",
   "execution_count": 40,
   "id": "f20134d5",
   "metadata": {},
   "outputs": [],
   "source": [
    "from sklearn.model_selection import train_test_split\n",
    "import pandas as pd\n",
    "import lightgbm as lgb"
   ]
  },
  {
   "cell_type": "code",
   "execution_count": 48,
   "id": "aec935ea",
   "metadata": {},
   "outputs": [],
   "source": [
    "#load data\n",
    "df_ntc = pd.read_csv(\"../data/NTC.csv\")\n",
    "# display(df_ntc)\n",
    "\n",
    "df_act_loss = pd.read_csv(\"../data/Avtice-losses.csv\")\n",
    "df_act_loss = df_act_loss.rename(columns={\"Wirkverluste/Active Losses\": \"loss\", \"Unnamed: 0\": \"datetime\"})\n",
    "df_act_loss = df_act_loss[1:].reset_index()\n",
    "df_act_loss = df_act_loss.drop(['index'], axis=1)\n",
    "# display(df_act_loss)\n",
    "\n",
    "df_weather_forecast = pd.read_csv(\"../data/Forecast-renewable-generation.csv\")"
   ]
  },
  {
   "cell_type": "code",
   "execution_count": 42,
   "id": "ba933c6b",
   "metadata": {},
   "outputs": [],
   "source": [
    "#set index\n",
    "df_act_loss['datetime'] = pd.to_datetime(df_act_loss['datetime'])\n",
    "df_act_loss.set_index('datetime', inplace=True)\n",
    "\n",
    "# Drop duplicate datetimes\n",
    "# duplicates = df_act_loss.index[df_act_loss.index.duplicated()].unique()\n",
    "# df_act_loss = df_act_loss.loc[~df_act_loss.index.duplicated(keep='first')]"
   ]
  },
  {
   "cell_type": "code",
   "execution_count": 43,
   "id": "03d307bb",
   "metadata": {},
   "outputs": [],
   "source": [
    "#set index\n",
    "df_ntc['datetime'] = pd.to_datetime(df_ntc['datetime'])\n",
    "df_ntc.set_index('datetime', inplace=True)\n",
    "\n",
    "# Drop duplicate datetimes\n",
    "# duplicates = df_ntc.index[df_ntc.index.duplicated()].unique()\n",
    "# df_ntc = df_ntc.loc[~df_ntc.index.duplicated(keep='first')]"
   ]
  },
  {
   "cell_type": "code",
   "execution_count": 44,
   "id": "b6a4d712",
   "metadata": {},
   "outputs": [],
   "source": [
    "# You need to convert kWh to MWh by dividing it by 1000. As all other variables use MW.\n",
    "df_act_loss['loss'] = df_act_loss['loss'].astype(float)\n",
    "df_act_loss['loss'] = df_act_loss['loss'] / 1000.0"
   ]
  },
  {
   "cell_type": "code",
   "execution_count": 45,
   "id": "4d6d691c",
   "metadata": {},
   "outputs": [],
   "source": [
    "#dowsample from 1 hour to 15 min\n",
    "df_act_loss = df_act_loss.loc[~df_act_loss.index.duplicated(keep='first')]\n",
    "df_act_loss.resample('1H').mean()\n",
    "# Interpolate to fill in the missing values\n",
    "df_act_loss = df_act_loss.interpolate()"
   ]
  },
  {
   "cell_type": "code",
   "execution_count": 46,
   "id": "749fa53b",
   "metadata": {},
   "outputs": [],
   "source": [
    "# #upsaple from 1 hour to 15 min\n",
    "# df_ntc = df_ntc.loc[~df_ntc.index.duplicated(keep='first')]\n",
    "# df_ntc.resample('15T').mean()\n",
    "# # Interpolate to fill in the missing values\n",
    "# df_ntc.interpolate()"
   ]
  },
  {
   "cell_type": "code",
   "execution_count": 47,
   "id": "06cf2d64",
   "metadata": {},
   "outputs": [
    {
     "data": {
      "text/plain": [
       "2"
      ]
     },
     "execution_count": 47,
     "metadata": {},
     "output_type": "execute_result"
    }
   ],
   "source": [
    "1+1"
   ]
  }
 ],
 "metadata": {
  "kernelspec": {
   "display_name": "Python 3 (ipykernel)",
   "language": "python",
   "name": "python3"
  },
  "language_info": {
   "codemirror_mode": {
    "name": "ipython",
    "version": 3
   },
   "file_extension": ".py",
   "mimetype": "text/x-python",
   "name": "python",
   "nbconvert_exporter": "python",
   "pygments_lexer": "ipython3",
   "version": "3.9.7"
  }
 },
 "nbformat": 4,
 "nbformat_minor": 5
}
