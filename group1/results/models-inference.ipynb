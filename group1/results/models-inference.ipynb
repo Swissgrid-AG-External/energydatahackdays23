{
 "cells": [
  {
   "cell_type": "code",
   "execution_count": 1,
   "metadata": {},
   "outputs": [
    {
     "name": "stderr",
     "output_type": "stream",
     "text": [
      "/home/jupyter-user05/.local/lib/python3.9/site-packages/sklearn/base.py:318: UserWarning: Trying to unpickle estimator StandardScaler from version 1.3.0 when using version 1.2.2. This might lead to breaking code or invalid results. Use at your own risk. For more info please refer to:\n",
      "https://scikit-learn.org/stable/model_persistence.html#security-maintainability-limitations\n",
      "  warnings.warn(\n"
     ]
    },
    {
     "data": {
      "text/html": [
       "<div>\n",
       "<style scoped>\n",
       "    .dataframe tbody tr th:only-of-type {\n",
       "        vertical-align: middle;\n",
       "    }\n",
       "\n",
       "    .dataframe tbody tr th {\n",
       "        vertical-align: top;\n",
       "    }\n",
       "\n",
       "    .dataframe thead th {\n",
       "        text-align: right;\n",
       "    }\n",
       "</style>\n",
       "<table border=\"1\" class=\"dataframe\">\n",
       "  <thead>\n",
       "    <tr style=\"text-align: right;\">\n",
       "      <th></th>\n",
       "      <th>MWh</th>\n",
       "    </tr>\n",
       "    <tr>\n",
       "      <th>timestamps</th>\n",
       "      <th></th>\n",
       "    </tr>\n",
       "  </thead>\n",
       "  <tbody>\n",
       "    <tr>\n",
       "      <th>2022-01-01 00:00:00</th>\n",
       "      <td>146.054792</td>\n",
       "    </tr>\n",
       "    <tr>\n",
       "      <th>2022-01-01 01:00:00</th>\n",
       "      <td>139.133354</td>\n",
       "    </tr>\n",
       "    <tr>\n",
       "      <th>2022-01-01 02:00:00</th>\n",
       "      <td>147.562500</td>\n",
       "    </tr>\n",
       "    <tr>\n",
       "      <th>2022-01-01 03:00:00</th>\n",
       "      <td>157.636204</td>\n",
       "    </tr>\n",
       "    <tr>\n",
       "      <th>2022-01-01 04:00:00</th>\n",
       "      <td>163.326766</td>\n",
       "    </tr>\n",
       "    <tr>\n",
       "      <th>...</th>\n",
       "      <td>...</td>\n",
       "    </tr>\n",
       "    <tr>\n",
       "      <th>2022-12-31 19:00:00</th>\n",
       "      <td>67.876028</td>\n",
       "    </tr>\n",
       "    <tr>\n",
       "      <th>2022-12-31 20:00:00</th>\n",
       "      <td>72.765318</td>\n",
       "    </tr>\n",
       "    <tr>\n",
       "      <th>2022-12-31 21:00:00</th>\n",
       "      <td>81.277633</td>\n",
       "    </tr>\n",
       "    <tr>\n",
       "      <th>2022-12-31 22:00:00</th>\n",
       "      <td>95.496046</td>\n",
       "    </tr>\n",
       "    <tr>\n",
       "      <th>2022-12-31 23:00:00</th>\n",
       "      <td>74.066704</td>\n",
       "    </tr>\n",
       "  </tbody>\n",
       "</table>\n",
       "<p>8760 rows × 1 columns</p>\n",
       "</div>"
      ],
      "text/plain": [
       "                            MWh\n",
       "timestamps                     \n",
       "2022-01-01 00:00:00  146.054792\n",
       "2022-01-01 01:00:00  139.133354\n",
       "2022-01-01 02:00:00  147.562500\n",
       "2022-01-01 03:00:00  157.636204\n",
       "2022-01-01 04:00:00  163.326766\n",
       "...                         ...\n",
       "2022-12-31 19:00:00   67.876028\n",
       "2022-12-31 20:00:00   72.765318\n",
       "2022-12-31 21:00:00   81.277633\n",
       "2022-12-31 22:00:00   95.496046\n",
       "2022-12-31 23:00:00   74.066704\n",
       "\n",
       "[8760 rows x 1 columns]"
      ]
     },
     "execution_count": 1,
     "metadata": {},
     "output_type": "execute_result"
    }
   ],
   "source": [
    "import joblib\n",
    "import numpy as np\n",
    "import pandas as pd\n",
    "from datetime import timedelta\n",
    "from sklearn.preprocessing import StandardScaler\n",
    "\n",
    "import torch\n",
    "import torch.nn as nn\n",
    "\n",
    "import yaml\n",
    "\n",
    "from load_data import split_data\n",
    "\n",
    "class BestModel(nn.Module):\n",
    "    def __init__(self, input_size, hidden_size, num_layers):\n",
    "        super().__init__()\n",
    "        self.gru_X = nn.GRU(\n",
    "            input_size=7 * 24,\n",
    "            hidden_size=hidden_size,\n",
    "            num_layers=num_layers,\n",
    "        )\n",
    "        self.linear = nn.Linear(hidden_size, 24)\n",
    "\n",
    "    def forward(self, x):\n",
    "        x, _ = self.gru_X(x)\n",
    "        x = self.linear(x)\n",
    "        return x\n",
    "\n",
    "X_scaler = joblib.load(\"X_scaler.joblib\")\n",
    "model = torch.load(\"torch_LSTM.pickle\")\n",
    "\n",
    "with open(\"params.yaml\", \"r\") as yaml_file:\n",
    "    file_paths = yaml.safe_load(yaml_file)\n",
    "        \n",
    "data = pd.read_csv(\n",
    "    file_paths[\"active_loss_path\"],\n",
    "    skiprows=1,\n",
    "    names=[\"unnamed0\", \"unnamed1\", \"timestamps\", \"MWh\"],\n",
    "    parse_dates=[\"timestamps\"],\n",
    "    index_col=\"timestamps\",\n",
    ")\n",
    "data = data.drop(columns=[\"unnamed0\", \"unnamed1\"])\n",
    "data[\"MWh\"] = data[\"MWh\"]\n",
    "\n",
    "\n",
    "data"
   ]
  },
  {
   "cell_type": "code",
   "execution_count": 2,
   "metadata": {
    "scrolled": true
   },
   "outputs": [
    {
     "data": {
      "text/plain": [
       "((8569, 168), (8569, 24))"
      ]
     },
     "execution_count": 2,
     "metadata": {},
     "output_type": "execute_result"
    }
   ],
   "source": [
    "X, y = split_data(data, 7 * 24, 24, 1, \"MWh\")\n",
    "\n",
    "X.shape, y.shape"
   ]
  },
  {
   "cell_type": "code",
   "execution_count": 3,
   "metadata": {},
   "outputs": [],
   "source": [
    "X = X_scaler.transform(X)"
   ]
  },
  {
   "cell_type": "code",
   "execution_count": 4,
   "metadata": {},
   "outputs": [],
   "source": [
    "X = torch.Tensor(X)[:, :].to(device='cuda')\n",
    "y = torch.Tensor(y)[:, :].to(device='cuda')"
   ]
  },
  {
   "cell_type": "code",
   "execution_count": 5,
   "metadata": {},
   "outputs": [
    {
     "name": "stdout",
     "output_type": "stream",
     "text": [
      "MAE 22.0318\n"
     ]
    }
   ],
   "source": [
    "## import torch.optim as optim\n",
    "from torch import utils\n",
    "\n",
    "loader = utils.data.DataLoader(\n",
    "    utils.data.TensorDataset(X, y),\n",
    "    shuffle=False,\n",
    "    batch_size=1024,\n",
    ")\n",
    "    \n",
    "model.eval()\n",
    "with torch.no_grad():\n",
    "    y_pred = model(X)\n",
    "    mae = nn.L1Loss()(y_pred, y).item()\n",
    "print(\"MAE %.4f\" % (mae))"
   ]
  },
  {
   "cell_type": "code",
   "execution_count": 6,
   "metadata": {},
   "outputs": [
    {
     "data": {
      "text/plain": [
       "torch.Size([8569, 24])"
      ]
     },
     "execution_count": 6,
     "metadata": {},
     "output_type": "execute_result"
    }
   ],
   "source": [
    "y_pred.shape"
   ]
  },
  {
   "cell_type": "code",
   "execution_count": 7,
   "metadata": {},
   "outputs": [],
   "source": [
    "y_pred_np = y_pred.to(device=\"cpu\").numpy() #convert to Numpy array\n",
    "y_pred_df = pd.DataFrame(y_pred_np) #convert to a dataframe\n",
    "y_pred_df.to_csv(\"y_pred.csv\",index=False) #save to file"
   ]
  },
  {
   "cell_type": "code",
   "execution_count": null,
   "metadata": {},
   "outputs": [],
   "source": []
  }
 ],
 "metadata": {
  "kernelspec": {
   "display_name": "Python 3 (ipykernel)",
   "language": "python",
   "name": "python3"
  },
  "language_info": {
   "codemirror_mode": {
    "name": "ipython",
    "version": 3
   },
   "file_extension": ".py",
   "mimetype": "text/x-python",
   "name": "python",
   "nbconvert_exporter": "python",
   "pygments_lexer": "ipython3",
   "version": "3.9.7"
  }
 },
 "nbformat": 4,
 "nbformat_minor": 2
}
