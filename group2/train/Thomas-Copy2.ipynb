{
 "cells": [
  {
   "cell_type": "code",
   "execution_count": 45,
   "id": "1e38d0ab",
   "metadata": {},
   "outputs": [],
   "source": [
    "import pandas as pd\n",
    "import numpy as np\n",
    "import matplotlib.pyplot as plt"
   ]
  },
  {
   "cell_type": "code",
   "execution_count": 46,
   "id": "e5b5ba60",
   "metadata": {},
   "outputs": [
    {
     "data": {
      "text/html": [
       "<div>\n",
       "<style scoped>\n",
       "    .dataframe tbody tr th:only-of-type {\n",
       "        vertical-align: middle;\n",
       "    }\n",
       "\n",
       "    .dataframe tbody tr th {\n",
       "        vertical-align: top;\n",
       "    }\n",
       "\n",
       "    .dataframe thead th {\n",
       "        text-align: right;\n",
       "    }\n",
       "</style>\n",
       "<table border=\"1\" class=\"dataframe\">\n",
       "  <thead>\n",
       "    <tr style=\"text-align: right;\">\n",
       "      <th></th>\n",
       "      <th>Zeitstempel</th>\n",
       "      <th>kWh</th>\n",
       "    </tr>\n",
       "  </thead>\n",
       "  <tbody>\n",
       "    <tr>\n",
       "      <th>0</th>\n",
       "      <td>2019-01-01 00:15:00</td>\n",
       "      <td>39143.346123</td>\n",
       "    </tr>\n",
       "    <tr>\n",
       "      <th>1</th>\n",
       "      <td>2019-01-01 00:30:00</td>\n",
       "      <td>32788.068958</td>\n",
       "    </tr>\n",
       "    <tr>\n",
       "      <th>2</th>\n",
       "      <td>2019-01-01 00:45:00</td>\n",
       "      <td>33018.915678</td>\n",
       "    </tr>\n",
       "  </tbody>\n",
       "</table>\n",
       "</div>"
      ],
      "text/plain": [
       "           Zeitstempel           kWh\n",
       "0  2019-01-01 00:15:00  39143.346123\n",
       "1  2019-01-01 00:30:00  32788.068958\n",
       "2  2019-01-01 00:45:00  33018.915678"
      ]
     },
     "execution_count": 46,
     "metadata": {},
     "output_type": "execute_result"
    }
   ],
   "source": [
    "active_losses = pd.read_csv('../data/Avtice-losses.csv', skiprows=1)\n",
    "active_losses.head(3)"
   ]
  },
  {
   "cell_type": "code",
   "execution_count": 47,
   "id": "673fc873",
   "metadata": {},
   "outputs": [
    {
     "data": {
      "text/html": [
       "<div>\n",
       "<style scoped>\n",
       "    .dataframe tbody tr th:only-of-type {\n",
       "        vertical-align: middle;\n",
       "    }\n",
       "\n",
       "    .dataframe tbody tr th {\n",
       "        vertical-align: top;\n",
       "    }\n",
       "\n",
       "    .dataframe thead th {\n",
       "        text-align: right;\n",
       "    }\n",
       "</style>\n",
       "<table border=\"1\" class=\"dataframe\">\n",
       "  <thead>\n",
       "    <tr style=\"text-align: right;\">\n",
       "      <th></th>\n",
       "      <th>Zeitstempel</th>\n",
       "      <th>kWh</th>\n",
       "      <th>MWh</th>\n",
       "    </tr>\n",
       "  </thead>\n",
       "  <tbody>\n",
       "    <tr>\n",
       "      <th>0</th>\n",
       "      <td>2019-01-01 00:15:00</td>\n",
       "      <td>39143.346123</td>\n",
       "      <td>39.143346</td>\n",
       "    </tr>\n",
       "    <tr>\n",
       "      <th>1</th>\n",
       "      <td>2019-01-01 00:30:00</td>\n",
       "      <td>32788.068958</td>\n",
       "      <td>32.788069</td>\n",
       "    </tr>\n",
       "    <tr>\n",
       "      <th>2</th>\n",
       "      <td>2019-01-01 00:45:00</td>\n",
       "      <td>33018.915678</td>\n",
       "      <td>33.018916</td>\n",
       "    </tr>\n",
       "  </tbody>\n",
       "</table>\n",
       "</div>"
      ],
      "text/plain": [
       "           Zeitstempel           kWh        MWh\n",
       "0  2019-01-01 00:15:00  39143.346123  39.143346\n",
       "1  2019-01-01 00:30:00  32788.068958  32.788069\n",
       "2  2019-01-01 00:45:00  33018.915678  33.018916"
      ]
     },
     "execution_count": 47,
     "metadata": {},
     "output_type": "execute_result"
    }
   ],
   "source": [
    "active_losses[\"MWh\"] = active_losses[\"kWh\"]/1000\n",
    "active_losses.head(3)"
   ]
  },
  {
   "cell_type": "code",
   "execution_count": 48,
   "id": "e6f9934e",
   "metadata": {},
   "outputs": [
    {
     "data": {
      "text/html": [
       "<div>\n",
       "<style scoped>\n",
       "    .dataframe tbody tr th:only-of-type {\n",
       "        vertical-align: middle;\n",
       "    }\n",
       "\n",
       "    .dataframe tbody tr th {\n",
       "        vertical-align: top;\n",
       "    }\n",
       "\n",
       "    .dataframe thead th {\n",
       "        text-align: right;\n",
       "    }\n",
       "</style>\n",
       "<table border=\"1\" class=\"dataframe\">\n",
       "  <thead>\n",
       "    <tr style=\"text-align: right;\">\n",
       "      <th></th>\n",
       "      <th>kWh</th>\n",
       "      <th>MWh</th>\n",
       "    </tr>\n",
       "    <tr>\n",
       "      <th>Zeitstempel</th>\n",
       "      <th></th>\n",
       "      <th></th>\n",
       "    </tr>\n",
       "  </thead>\n",
       "  <tbody>\n",
       "    <tr>\n",
       "      <th>2019-01-01 00:15:00</th>\n",
       "      <td>39143.346123</td>\n",
       "      <td>39.143346</td>\n",
       "    </tr>\n",
       "    <tr>\n",
       "      <th>2019-01-01 00:30:00</th>\n",
       "      <td>32788.068958</td>\n",
       "      <td>32.788069</td>\n",
       "    </tr>\n",
       "    <tr>\n",
       "      <th>2019-01-01 00:45:00</th>\n",
       "      <td>33018.915678</td>\n",
       "      <td>33.018916</td>\n",
       "    </tr>\n",
       "  </tbody>\n",
       "</table>\n",
       "</div>"
      ],
      "text/plain": [
       "                              kWh        MWh\n",
       "Zeitstempel                                 \n",
       "2019-01-01 00:15:00  39143.346123  39.143346\n",
       "2019-01-01 00:30:00  32788.068958  32.788069\n",
       "2019-01-01 00:45:00  33018.915678  33.018916"
      ]
     },
     "execution_count": 48,
     "metadata": {},
     "output_type": "execute_result"
    }
   ],
   "source": [
    "active_losses['Zeitstempel'] = pd.to_datetime(active_losses['Zeitstempel'])\n",
    "active_losses.set_index('Zeitstempel', inplace=True)\n",
    "active_losses.head(3)"
   ]
  },
  {
   "cell_type": "code",
   "execution_count": 49,
   "id": "23f90bc2",
   "metadata": {},
   "outputs": [],
   "source": [
    "active_losses_agg = active_losses.resample('60T').sum()"
   ]
  },
  {
   "cell_type": "code",
   "execution_count": 50,
   "id": "319f9c9f",
   "metadata": {},
   "outputs": [
    {
     "data": {
      "text/html": [
       "<div>\n",
       "<style scoped>\n",
       "    .dataframe tbody tr th:only-of-type {\n",
       "        vertical-align: middle;\n",
       "    }\n",
       "\n",
       "    .dataframe tbody tr th {\n",
       "        vertical-align: top;\n",
       "    }\n",
       "\n",
       "    .dataframe thead th {\n",
       "        text-align: right;\n",
       "    }\n",
       "</style>\n",
       "<table border=\"1\" class=\"dataframe\">\n",
       "  <thead>\n",
       "    <tr style=\"text-align: right;\">\n",
       "      <th></th>\n",
       "      <th>kWh</th>\n",
       "      <th>MWh</th>\n",
       "    </tr>\n",
       "    <tr>\n",
       "      <th>Zeitstempel</th>\n",
       "      <th></th>\n",
       "      <th></th>\n",
       "    </tr>\n",
       "  </thead>\n",
       "  <tbody>\n",
       "    <tr>\n",
       "      <th>2019-01-01 00:00:00</th>\n",
       "      <td>104950.330759</td>\n",
       "      <td>104.950331</td>\n",
       "    </tr>\n",
       "    <tr>\n",
       "      <th>2019-01-01 01:00:00</th>\n",
       "      <td>133772.192522</td>\n",
       "      <td>133.772193</td>\n",
       "    </tr>\n",
       "    <tr>\n",
       "      <th>2019-01-01 02:00:00</th>\n",
       "      <td>130398.024931</td>\n",
       "      <td>130.398025</td>\n",
       "    </tr>\n",
       "  </tbody>\n",
       "</table>\n",
       "</div>"
      ],
      "text/plain": [
       "                               kWh         MWh\n",
       "Zeitstempel                                   \n",
       "2019-01-01 00:00:00  104950.330759  104.950331\n",
       "2019-01-01 01:00:00  133772.192522  133.772193\n",
       "2019-01-01 02:00:00  130398.024931  130.398025"
      ]
     },
     "execution_count": 50,
     "metadata": {},
     "output_type": "execute_result"
    }
   ],
   "source": [
    "active_losses_agg.head(3)"
   ]
  },
  {
   "cell_type": "code",
   "execution_count": 84,
   "id": "9e1f38a5",
   "metadata": {},
   "outputs": [
    {
     "data": {
      "text/plain": [
       "<Axes: xlabel='Zeitstempel'>"
      ]
     },
     "execution_count": 84,
     "metadata": {},
     "output_type": "execute_result"
    },
    {
     "data": {
      "image/png": "[encoded data removed]",
      "text/plain": [
       "<Figure size 640x480 with 1 Axes>"
      ]
     },
     "metadata": {},
     "output_type": "display_data"
    }
   ],
   "source": [
    "df_agg = active_losses_agg[\"MWh\"]\n",
    "df_agg.plot()"
   ]
  },
  {
   "cell_type": "code",
   "execution_count": 85,
   "id": "9333e4a2",
   "metadata": {},
   "outputs": [],
   "source": [
    "def df_to_X_y(df, window_size=168):\n",
    "    df_as_np = df.to_numpy()\n",
    "    X = []\n",
    "    y = []\n",
    "    for i in range(len(df_as_np)-window_size-24+1):\n",
    "        row = [[a] for a in df_as_np[i:i+window_size]]\n",
    "        X.append(row)\n",
    "        label = df_as_np[i+window_size:i+window_size+24]\n",
    "        y.append(label)\n",
    "    return np.array(X), np.array(y)"
   ]
  },
  {
   "cell_type": "code",
   "execution_count": 86,
   "id": "dc793f92",
   "metadata": {},
   "outputs": [
    {
     "data": {
      "text/plain": [
       "((26114, 168, 1), (26114, 24))"
      ]
     },
     "execution_count": 86,
     "metadata": {},
     "output_type": "execute_result"
    }
   ],
   "source": [
    "WINDOW_SIZE = 168\n",
    "X, y = df_to_X_y(df_agg, WINDOW_SIZE)\n",
    "X.shape, y.shape"
   ]
  },
  {
   "cell_type": "code",
   "execution_count": 63,
   "id": "0232e7f3",
   "metadata": {},
   "outputs": [
    {
     "data": {
      "text/plain": [
       "Zeitstempel\n",
       "2019-01-01 00:00:00    104.950331\n",
       "2019-01-01 01:00:00    133.772193\n",
       "2019-01-01 02:00:00    130.398025\n",
       "2019-01-01 03:00:00    135.187545\n",
       "2019-01-01 04:00:00    132.939009\n",
       "                          ...    \n",
       "2021-12-31 20:00:00    163.256620\n",
       "2021-12-31 21:00:00    157.771329\n",
       "2021-12-31 22:00:00    167.652363\n",
       "2021-12-31 23:00:00    151.115196\n",
       "2022-01-01 00:00:00     35.660212\n",
       "Freq: 60T, Name: MWh, Length: 26305, dtype: float64"
      ]
     },
     "execution_count": 63,
     "metadata": {},
     "output_type": "execute_result"
    }
   ],
   "source": [
    "df_agg"
   ]
  },
  {
   "cell_type": "code",
   "execution_count": 87,
   "id": "b56bbf23",
   "metadata": {},
   "outputs": [],
   "source": [
    "X_train, y_train = X[:21024], y[:21024]\n",
    "X_val, y_val = X[21024:], y[21024:]"
   ]
  },
  {
   "cell_type": "code",
   "execution_count": 88,
   "id": "a0313bee",
   "metadata": {},
   "outputs": [
    {
     "data": {
      "text/plain": [
       "((21024, 168, 1), (21024, 24), (5090, 168, 1), (5090, 24))"
      ]
     },
     "execution_count": 88,
     "metadata": {},
     "output_type": "execute_result"
    }
   ],
   "source": [
    "X_train.shape, y_train.shape, X_val.shape, y_val.shape"
   ]
  },
  {
   "cell_type": "code",
   "execution_count": 69,
   "id": "86a37bb0",
   "metadata": {},
   "outputs": [],
   "source": [
    "import torch"
   ]
  },
  {
   "cell_type": "code",
   "execution_count": 71,
   "id": "8a66000b",
   "metadata": {},
   "outputs": [],
   "source": [
    "from torch.utils.data import DataLoader\n",
    "import torch.nn as nn"
   ]
  },
  {
   "cell_type": "code",
   "execution_count": 74,
   "id": "3ac06dd8",
   "metadata": {},
   "outputs": [],
   "source": [
    "import torch\n",
    "import torch.nn as nn\n",
    "import torch.optim as optim\n",
    "from torch.utils.data import DataLoader, TensorDataset"
   ]
  },
  {
   "cell_type": "code",
   "execution_count": 89,
   "id": "0552b52f",
   "metadata": {},
   "outputs": [],
   "source": [
    "# Angenommen, Ihre Daten sind Numpy-Arrays. Sie müssen sie zuerst in PyTorch-Tensoren umwandeln\n",
    "X_train_tensor = torch.tensor(X_train, dtype=torch.float32)\n",
    "y_train_tensor = torch.tensor(y_train, dtype=torch.float32)\n",
    "X_val_tensor = torch.tensor(X_val, dtype=torch.float32)\n",
    "y_val_tensor = torch.tensor(y_val, dtype=torch.float32)\n",
    "\n",
    "train_dataset = TensorDataset(X_train_tensor, y_train_tensor)\n",
    "val_dataset = TensorDataset(X_val_tensor, y_val_tensor)\n",
    "\n",
    "train_loader = DataLoader(train_dataset, batch_size=32)  # Annahme: batch_size ist 32\n",
    "val_loader = DataLoader(val_dataset, batch_size=32)\n",
    "\n",
    "# Fehlermaß (Absolute Mean Error) und Optimierer definieren\n",
    "criterion = nn.L1Loss()\n",
    "optimizer = optim.Adam(model1.parameters(), lr=0.001)"
   ]
  },
  {
   "cell_type": "code",
   "execution_count": 90,
   "id": "61db589c",
   "metadata": {},
   "outputs": [
    {
     "data": {
      "text/plain": [
       "array([[151.48332093, 152.94484965, 163.26434375, ..., 147.09900366,\n",
       "        163.28488091, 167.31776235],\n",
       "       [152.94484965, 163.26434375, 182.58819492, ..., 163.28488091,\n",
       "        167.31776235, 174.63731323],\n",
       "       [163.26434375, 182.58819492, 185.32857604, ..., 167.31776235,\n",
       "        174.63731323, 170.45231208],\n",
       "       ...,\n",
       "       [ 75.84653444,  56.60922151,  49.44655644, ...,  60.71544658,\n",
       "         98.70413171, 113.11399736],\n",
       "       [ 56.60922151,  49.44655644,  47.58020122, ...,  98.70413171,\n",
       "        113.11399736,  78.885528  ],\n",
       "       [ 49.44655644,  47.58020122,  45.94756551, ..., 113.11399736,\n",
       "         78.885528  ,  55.72548475]])"
      ]
     },
     "execution_count": 90,
     "metadata": {},
     "output_type": "execute_result"
    }
   ],
   "source": [
    "y_train"
   ]
  },
  {
   "cell_type": "code",
   "execution_count": 91,
   "id": "99660325",
   "metadata": {},
   "outputs": [],
   "source": [
    "class MyModel(nn.Module):\n",
    "    def __init__(self):\n",
    "        super(MyModel, self).__init__()\n",
    "        # LSTM Schicht: Eingang hat Größe 1 und Ausgang hat Größe 64\n",
    "        self.lstm = nn.LSTM(input_size=1, hidden_size=64, batch_first=True)\n",
    "        # Vollverbundene Schicht (Dense) mit ReLU-Aktivierung\n",
    "        self.fc1 = nn.Linear(64, 8)\n",
    "        self.relu = nn.ReLU()\n",
    "        # Ausgabeschicht mit linearer Aktivierung, die 24 Vorhersagen erzeugt\n",
    "        self.fc2 = nn.Linear(8, 24)\n",
    "\n",
    "    def forward(self, x):\n",
    "        # Durchlaufen der LSTM-Schicht\n",
    "        lstm_out, _ = self.lstm(x)\n",
    "        # Wir nehmen nur das letzte Ausgabeelement für die nächsten Schichten\n",
    "        x = lstm_out[:, -1, :]\n",
    "        # Durchlaufen der ersten vollverbundenen Schicht\n",
    "        x = self.relu(self.fc1(x))\n",
    "        # Durchlaufen der zweiten vollverbundenen Schicht (Ausgabeschicht)\n",
    "        x = self.fc2(x)\n",
    "        return x"
   ]
  },
  {
   "cell_type": "code",
   "execution_count": 92,
   "id": "3836848b",
   "metadata": {},
   "outputs": [
    {
     "name": "stdout",
     "output_type": "stream",
     "text": [
      "MyModel(\n",
      "  (lstm): LSTM(1, 64, batch_first=True)\n",
      "  (fc1): Linear(in_features=64, out_features=8, bias=True)\n",
      "  (relu): ReLU()\n",
      "  (fc2): Linear(in_features=8, out_features=24, bias=True)\n",
      ")\n"
     ]
    }
   ],
   "source": [
    "model1 = MyModel()\n",
    "print(model1)"
   ]
  },
  {
   "cell_type": "code",
   "execution_count": null,
   "id": "a6e7e1ef",
   "metadata": {},
   "outputs": [],
   "source": [
    "# Bestes Modell speichern\n",
    "best_val_loss = float('inf')\n",
    "\n",
    "for epoch in range(10):  # 10 Epochen\n",
    "    # Training\n",
    "    model1.train()\n",
    "    running_loss = 0.0\n",
    "    for inputs, targets in train_loader:\n",
    "        optimizer.zero_grad()\n",
    "        outputs = model1(inputs).squeeze()\n",
    "        loss = criterion(outputs, targets)\n",
    "        loss.backward()\n",
    "        optimizer.step()\n",
    "        running_loss += loss.item()\n",
    "    \n",
    "    # Validation\n",
    "    model1.eval()\n",
    "    val_loss = 0.0\n",
    "    with torch.no_grad():\n",
    "        for inputs, targets in val_loader:\n",
    "            outputs = model1(inputs).squeeze()\n",
    "            loss = criterion(outputs, targets)\n",
    "            val_loss += loss.item()\n",
    "    \n",
    "    print(f\"Epoch {epoch + 1}, Training Loss: {running_loss / len(train_loader)}, Validation Loss: {val_loss / len(val_loader)}\")\n",
    "\n",
    "    # Checkpointing\n",
    "    if val_loss < best_val_loss:\n",
    "        best_val_loss = val_loss\n",
    "        if not os.path.exists('model1'):\n",
    "            os.makedirs('model1')\n",
    "        torch.save(model1.state_dict(), 'model1/best_model.pth')"
   ]
  },
  {
   "cell_type": "code",
   "execution_count": null,
   "id": "6250a9d4",
   "metadata": {},
   "outputs": [],
   "source": []
  }
 ],
 "metadata": {
  "kernelspec": {
   "display_name": "Python 3 (ipykernel)",
   "language": "python",
   "name": "python3"
  },
  "language_info": {
   "codemirror_mode": {
    "name": "ipython",
    "version": 3
   },
   "file_extension": ".py",
   "mimetype": "text/x-python",
   "name": "python",
   "nbconvert_exporter": "python",
   "pygments_lexer": "ipython3",
   "version": "3.9.7"
  }
 },
 "nbformat": 4,
 "nbformat_minor": 5
}
