{
 "cells": [
  {
   "cell_type": "code",
   "execution_count": 1,
   "id": "0f2c9eee",
   "metadata": {},
   "outputs": [
    {
     "name": "stderr",
     "output_type": "stream",
     "text": [
      "Importing plotly failed. Interactive plots will not work.\n"
     ]
    }
   ],
   "source": [
    "import math\n",
    "from datetime import datetime\n",
    "from datetime import timedelta\n",
    "import numpy as np\n",
    "import pandas as pd\n",
    "from prophet import Prophet\n",
    "from prophet.plot import add_changepoints_to_plot\n",
    "from prophet.utilities import regressor_coefficients\n",
    "from sklearn.metrics import mean_squared_error\n",
    "from sklearn.metrics import mean_absolute_error\n",
    "from sklearn.metrics import mean_absolute_percentage_error\n",
    "from matplotlib import pyplot as plt\n",
    "from prophet.serialize import model_to_json, model_from_json"
   ]
  },
  {
   "cell_type": "code",
   "execution_count": 2,
   "id": "eca62537",
   "metadata": {},
   "outputs": [],
   "source": [
    "# Enter here location to your test data and modell\n",
    "activelosses = \"../data/Avtice-losses.csv\"\n",
    "renewablegen = \"../data/Forecast-renewable-generation.csv\"\n",
    "forecasttemp = '../data/Forecast-temperature.csv'\n",
    "ntc = '../data/NTC.csv'\n",
    "modell = \"modell_group_02_v01.json\""
   ]
  },
  {
   "cell_type": "markdown",
   "id": "5c4e5c06",
   "metadata": {},
   "source": [
    "# Preprocess data"
   ]
  },
  {
   "cell_type": "code",
   "execution_count": 3,
   "id": "6fd94e42",
   "metadata": {
    "scrolled": true
   },
   "outputs": [
    {
     "data": {
      "text/html": [
       "<div>\n",
       "<style scoped>\n",
       "    .dataframe tbody tr th:only-of-type {\n",
       "        vertical-align: middle;\n",
       "    }\n",
       "\n",
       "    .dataframe tbody tr th {\n",
       "        vertical-align: top;\n",
       "    }\n",
       "\n",
       "    .dataframe thead th {\n",
       "        text-align: right;\n",
       "    }\n",
       "</style>\n",
       "<table border=\"1\" class=\"dataframe\">\n",
       "  <thead>\n",
       "    <tr style=\"text-align: right;\">\n",
       "      <th></th>\n",
       "      <th>MWh</th>\n",
       "    </tr>\n",
       "    <tr>\n",
       "      <th>Zeitstempel</th>\n",
       "      <th></th>\n",
       "    </tr>\n",
       "  </thead>\n",
       "  <tbody>\n",
       "    <tr>\n",
       "      <th>2019-01-01 00:00:00</th>\n",
       "      <td>39.143346</td>\n",
       "    </tr>\n",
       "    <tr>\n",
       "      <th>2019-01-01 00:15:00</th>\n",
       "      <td>32.788069</td>\n",
       "    </tr>\n",
       "    <tr>\n",
       "      <th>2019-01-01 00:30:00</th>\n",
       "      <td>33.018916</td>\n",
       "    </tr>\n",
       "    <tr>\n",
       "      <th>2019-01-01 00:45:00</th>\n",
       "      <td>34.574673</td>\n",
       "    </tr>\n",
       "    <tr>\n",
       "      <th>2019-01-01 01:00:00</th>\n",
       "      <td>33.417096</td>\n",
       "    </tr>\n",
       "    <tr>\n",
       "      <th>...</th>\n",
       "      <td>...</td>\n",
       "    </tr>\n",
       "    <tr>\n",
       "      <th>2021-12-31 22:45:00</th>\n",
       "      <td>40.720617</td>\n",
       "    </tr>\n",
       "    <tr>\n",
       "      <th>2021-12-31 23:00:00</th>\n",
       "      <td>38.156039</td>\n",
       "    </tr>\n",
       "    <tr>\n",
       "      <th>2021-12-31 23:15:00</th>\n",
       "      <td>36.290837</td>\n",
       "    </tr>\n",
       "    <tr>\n",
       "      <th>2021-12-31 23:30:00</th>\n",
       "      <td>35.947704</td>\n",
       "    </tr>\n",
       "    <tr>\n",
       "      <th>2021-12-31 23:45:00</th>\n",
       "      <td>35.660212</td>\n",
       "    </tr>\n",
       "  </tbody>\n",
       "</table>\n",
       "<p>105216 rows × 1 columns</p>\n",
       "</div>"
      ],
      "text/plain": [
       "                           MWh\n",
       "Zeitstempel                   \n",
       "2019-01-01 00:00:00  39.143346\n",
       "2019-01-01 00:15:00  32.788069\n",
       "2019-01-01 00:30:00  33.018916\n",
       "2019-01-01 00:45:00  34.574673\n",
       "2019-01-01 01:00:00  33.417096\n",
       "...                        ...\n",
       "2021-12-31 22:45:00  40.720617\n",
       "2021-12-31 23:00:00  38.156039\n",
       "2021-12-31 23:15:00  36.290837\n",
       "2021-12-31 23:30:00  35.947704\n",
       "2021-12-31 23:45:00  35.660212\n",
       "\n",
       "[105216 rows x 1 columns]"
      ]
     },
     "metadata": {},
     "output_type": "display_data"
    }
   ],
   "source": [
    "def preprocess_and_merge_data(activelosses1, renewablegen1, forecasttemp1, ntc1):\n",
    "    # Load Active Losses data\n",
    "    activeslosses = pd.read_csv(activelosses1, skiprows=1)\n",
    "    activeslosses['Zeitstempel'] = pd.to_datetime(activeslosses['Zeitstempel']) - pd.Timedelta(minutes=15)\n",
    "    activeslosses= activeslosses.set_index(\"Zeitstempel\")\n",
    "    #activeslosses = df.activeslosses(\"Zeitstempel\")\n",
    "    activeslosses['MWh'] = activeslosses['kWh'] / 1000\n",
    "    activeslosses.drop(columns=[\"kWh\"], inplace=True)\n",
    "\n",
    "    activeslosses = activeslosses[~activeslosses.index.duplicated(keep='first')]\n",
    "    activeslosses = activeslosses.resample('15T').asfreq()\n",
    "    # Save the merged dataframe to a CSV file\n",
    "    activeslosses.to_csv('merged_data_patrick.csv')\n",
    "    \n",
    "    return activeslosses\n",
    "    \n",
    "    \n",
    "\n",
    "# Call the function to preprocess and merge the data\n",
    "df = preprocess_and_merge_data(activelosses, renewablegen, forecasttemp, ntc)\n",
    "display(df)"
   ]
  },
  {
   "cell_type": "code",
   "execution_count": null,
   "id": "a5ff1b2d",
   "metadata": {},
   "outputs": [],
   "source": []
  }
 ],
 "metadata": {
  "kernelspec": {
   "display_name": "Python 3 (ipykernel)",
   "language": "python",
   "name": "python3"
  },
  "language_info": {
   "codemirror_mode": {
    "name": "ipython",
    "version": 3
   },
   "file_extension": ".py",
   "mimetype": "text/x-python",
   "name": "python",
   "nbconvert_exporter": "python",
   "pygments_lexer": "ipython3",
   "version": "3.9.7"
  }
 },
 "nbformat": 4,
 "nbformat_minor": 5
}
