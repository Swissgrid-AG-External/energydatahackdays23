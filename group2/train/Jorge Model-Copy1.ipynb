{
 "cells": [
  {
   "cell_type": "code",
   "execution_count": 1,
   "id": "89b8fffe",
   "metadata": {},
   "outputs": [],
   "source": [
    "import pandas as pd\n",
    "import numpy as np\n",
    "import matplotlib.pyplot as plt\n",
    "import datetime\n",
    "\n",
    "import torch\n",
    "from tqdm import tqdm"
   ]
  },
  {
   "cell_type": "code",
   "execution_count": 2,
   "id": "4d89f8af",
   "metadata": {
    "scrolled": true
   },
   "outputs": [],
   "source": [
    "dat = pd.read_csv('merged_data.csv')\n",
    "dat = dat.drop(columns=['kWh'])\n",
    "dat = dat.rename(columns={'Unnamed: 0': 'datetime'})\n",
    "dat['datetime'] = pd.to_datetime(dat['datetime'])\n",
    "dat.head()"
   ]
  },
  {
   "cell_type": "code",
   "execution_count": 3,
   "id": "a50a38d1",
   "metadata": {},
   "outputs": [],
   "source": [
    "dat.shape"
   ]
  },
  {
   "cell_type": "code",
   "execution_count": 4,
   "id": "e2454463",
   "metadata": {},
   "outputs": [],
   "source": [
    "# Extract day of the week (0 = Monday, 6 = Sunday)\n",
    "dat['weekday'] = dat['datetime'].dt.weekday\n",
    "dat['month'] = dat['datetime'].dt.month\n",
    "dat['time'] = dat['datetime'].dt.time\n",
    "\n",
    "# Encode 'month' and 'weekday' as categorical variables\n",
    "dat['month'] = dat['month'].astype('category')\n",
    "dat['weekday'] = dat['weekday'].astype('category')"
   ]
  },
  {
   "cell_type": "code",
   "execution_count": 5,
   "id": "1c12781b",
   "metadata": {},
   "outputs": [],
   "source": [
    "# Perform one-hot encoding on 'month' and 'weekday'\n",
    "df_encoded = pd.get_dummies(dat, columns=['month', 'weekday', \"time\"], prefix=['month', 'weekday', 'time'])\n",
    "\n",
    "# remove datetime\n",
    "df_encoded = df_encoded.drop('datetime', axis=1)"
   ]
  },
  {
   "cell_type": "code",
   "execution_count": 6,
   "id": "282f2940",
   "metadata": {},
   "outputs": [],
   "source": [
    "df_encoded"
   ]
  },
  {
   "cell_type": "code",
   "execution_count": 7,
   "id": "307d0f39",
   "metadata": {},
   "outputs": [],
   "source": [
    "df_encoded.isna().sum()"
   ]
  },
  {
   "cell_type": "markdown",
   "id": "0adc1e2d",
   "metadata": {},
   "source": [
    "# Model\n"
   ]
  },
  {
   "cell_type": "code",
   "execution_count": 8,
   "id": "15aea10e",
   "metadata": {},
   "outputs": [],
   "source": [
    "import torch\n",
    "import torch.nn as nn\n",
    "import torch.optim as optim\n",
    "from torch.utils.data import DataLoader, Dataset\n",
    "import numpy as np\n",
    "import torch.nn as nn\n",
    "import torch.optim as optim\n",
    "from torch.utils.data import DataLoader, TensorDataset\n",
    "from sklearn.preprocessing import MinMaxScaler\n",
    "from torch.optim.lr_scheduler import StepLR\n"
   ]
  },
  {
   "cell_type": "code",
   "execution_count": 9,
   "id": "fa527945",
   "metadata": {},
   "outputs": [],
   "source": [
    "# Extract features and labels\n",
    "labels = df_encoded['MWh'].values\n",
    "features = df_encoded.drop(['MWh'], axis=1).values"
   ]
  },
  {
   "cell_type": "code",
   "execution_count": 10,
   "id": "ff32bd1a",
   "metadata": {},
   "outputs": [],
   "source": [
    "# Normalize features using Min-Max scaling\n",
    "scaler = MinMaxScaler()\n",
    "features = scaler.fit_transform(features)"
   ]
  },
  {
   "cell_type": "code",
   "execution_count": null,
   "id": "5671c507",
   "metadata": {},
   "outputs": [],
   "source": []
  },
  {
   "cell_type": "code",
   "execution_count": 11,
   "id": "b1e6e6bc",
   "metadata": {},
   "outputs": [],
   "source": [
    "# Define sequence length (number of time steps for LSTM)\n",
    "sequence_length = 7*24  # Use the previous 7 days as input, 24 measurements"
   ]
  },
  {
   "cell_type": "code",
   "execution_count": 12,
   "id": "478eccf4",
   "metadata": {},
   "outputs": [],
   "source": [
    "# Create sequences and labels for training\n",
    "X, y = [], []\n",
    "for i in range(len(features) - sequence_length):\n",
    "    X.append(features[i:i+sequence_length])\n",
    "    y.append(labels[i+sequence_length])\n",
    "    \n",
    "    print(labels[i+sequence_length])\n",
    "\n",
    "X, y = np.array(X), np.array(y)"
   ]
  },
  {
   "cell_type": "code",
   "execution_count": 13,
   "id": "c1f59996",
   "metadata": {},
   "outputs": [],
   "source": [
    "# Split data into training and testing sets\n",
    "split_ratio = 0.8  # Adjust as needed\n",
    "split_index = int(split_ratio * len(X))\n",
    "\n",
    "\n",
    "X_train, X_test = X[:split_index], X[split_index:]\n",
    "y_train, y_test = y[:split_index], y[split_index:]"
   ]
  },
  {
   "cell_type": "code",
   "execution_count": 14,
   "id": "feb8ebed",
   "metadata": {},
   "outputs": [],
   "source": [
    "\n",
    "# Convert NumPy arrays to PyTorch tensors\n",
    "X_train = torch.tensor(X_train, dtype=torch.float32)\n",
    "y_train = torch.tensor(y_train, dtype=torch.float32)\n",
    "X_test = torch.tensor(X_test, dtype=torch.float32)\n",
    "y_test = torch.tensor(y_test, dtype=torch.float32)"
   ]
  },
  {
   "cell_type": "code",
   "execution_count": 15,
   "id": "0621788f",
   "metadata": {},
   "outputs": [],
   "source": [
    "# Create DataLoader for training and testing\n",
    "batch_size = 32  # Adjust as needed\n",
    "train_dataset = TensorDataset(X_train, y_train)\n",
    "train_loader = DataLoader(train_dataset, batch_size=batch_size, shuffle=False)\n",
    "test_dataset = TensorDataset(X_test, y_test)\n",
    "test_loader = DataLoader(test_dataset, batch_size=batch_size)"
   ]
  },
  {
   "cell_type": "code",
   "execution_count": 16,
   "id": "35cfb76f",
   "metadata": {},
   "outputs": [],
   "source": [
    "# Define the LSTM model\n",
    "class LSTMModel(nn.Module):\n",
    "    def __init__(self, input_size, hidden_size, num_layers, output_size):\n",
    "        super(LSTMModel, self).__init__()\n",
    "        self.lstm = nn.LSTM(input_size, hidden_size, num_layers, batch_first=True)\n",
    "        self.fc = nn.Linear(hidden_size, output_size)\n",
    "\n",
    "    def forward(self, x):\n",
    "        out, _ = self.lstm(x)\n",
    "        out = self.fc(out[:, -1, :])  # Get the output from the last time step\n",
    "        return out"
   ]
  },
  {
   "cell_type": "code",
   "execution_count": 17,
   "id": "99fe1715",
   "metadata": {},
   "outputs": [],
   "source": [
    "input_size = X_train.shape[2]  # Number of features\n",
    "hidden_size = 132  # Adjust as needed\n",
    "num_layers = 20  # Adjust as needed\n",
    "output_size = 1  # Adjust for regression tasks"
   ]
  },
  {
   "cell_type": "code",
   "execution_count": 18,
   "id": "6938fd79",
   "metadata": {},
   "outputs": [],
   "source": [
    "\n",
    "\n",
    "model = LSTMModel(input_size, hidden_size, num_layers, output_size)\n",
    "\n",
    "# Define loss function and optimizer\n",
    "criterion = nn.MSELoss()  # Mean Squared Error loss for regression\n",
    "optimizer = optim.Adam(model.parameters(), lr=0.001)  # Adjust learning rate as needed\n",
    "\n",
    "scheduler = StepLR(optimizer, step_size=10, gamma=0.9)\n",
    "\n",
    "\n"
   ]
  },
  {
   "cell_type": "code",
   "execution_count": 19,
   "id": "47b72395",
   "metadata": {},
   "outputs": [],
   "source": [
    "# Define the device (GPU or CPU)\n",
    "device = torch.device(\"cuda:0\" if torch.cuda.is_available() else \"cpu\")\n",
    "\n",
    "\n",
    "# Move the model to the GPU\n",
    "model.to(device)\n",
    "\n",
    "# Move data to GPU\n",
    "X_train = X_train.to(device)\n",
    "y_train = y_train.to(device)\n",
    "X_test = X_test.to(device)\n",
    "y_test = y_test.to(device)"
   ]
  },
  {
   "cell_type": "code",
   "execution_count": 21,
   "id": "d74f2195",
   "metadata": {},
   "outputs": [],
   "source": [
    "# Training loop\n",
    "model.train()\n",
    "num_epochs = 100  # Adjust as needed\n",
    "for epoch in range(num_epochs):\n",
    "    for inputs, labels in train_loader:\n",
    "        optimizer.zero_grad()\n",
    "        outputs = model(inputs)\n",
    "        loss = criterion(outputs, labels.view(-1, 1))\n",
    "        loss.backward()\n",
    "        optimizer.step()\n",
    "\n",
    "    print(f'Epoch [{epoch+1}/{num_epochs}], Loss: {loss.item():.4f}')\n",
    "    scheduler.step()\n",
    "\n"
   ]
  },
  {
   "cell_type": "code",
   "execution_count": null,
   "id": "4bf52266",
   "metadata": {},
   "outputs": [],
   "source": [
    "\n",
    "# Rolling window evaluation\n",
    "model.eval()\n",
    "predictions = []\n",
    "\n",
    "for i in range(len(X_test)):\n",
    "    if i < sequence_length:\n",
    "        # Initial predictions using the training data\n",
    "        predictions.append(y_train[i].item())\n",
    "    else:\n",
    "        inputs = X_test[i].unsqueeze(0)\n",
    "        with torch.no_grad():\n",
    "            output = model(inputs)\n",
    "        predictions.append(output.item())\n",
    "\n",
    "\n",
    "        "
   ]
  },
  {
   "cell_type": "code",
   "execution_count": null,
   "id": "7192377e",
   "metadata": {},
   "outputs": [],
   "source": [
    "# Calculate and print evaluation metrics (e.g., MAE, MSE, etc.)\n",
    "from sklearn.metrics import mean_absolute_error, mean_squared_error\n",
    "\n",
    "# Move the predictions tensor from GPU to CPU\n",
    "predictions = np.array(predictions)\n",
    "y_test_cpu = y_test.cpu().numpy()\n",
    "\n",
    "mae = mean_absolute_error(y_test_cpu, predictions)\n",
    "mse = mean_squared_error(y_test_cpu, predictions)\n",
    "print(f'MAE: {mae:.4f}')\n",
    "print(f'MSE: {mse:.4f}')\n"
   ]
  },
  {
   "cell_type": "code",
   "execution_count": null,
   "id": "e963eb6e",
   "metadata": {},
   "outputs": [],
   "source": []
  },
  {
   "cell_type": "code",
   "execution_count": null,
   "id": "680ecdba",
   "metadata": {},
   "outputs": [],
   "source": []
  },
  {
   "cell_type": "code",
   "execution_count": null,
   "id": "715c44fd",
   "metadata": {},
   "outputs": [],
   "source": []
  },
  {
   "cell_type": "code",
   "execution_count": null,
   "id": "8fd9ea90",
   "metadata": {},
   "outputs": [],
   "source": []
  },
  {
   "cell_type": "code",
   "execution_count": null,
   "id": "0da2c396",
   "metadata": {},
   "outputs": [],
   "source": []
  },
  {
   "cell_type": "code",
   "execution_count": null,
   "id": "c6281c59",
   "metadata": {},
   "outputs": [],
   "source": []
  },
  {
   "cell_type": "code",
   "execution_count": null,
   "id": "841e49e3",
   "metadata": {},
   "outputs": [],
   "source": []
  },
  {
   "cell_type": "code",
   "execution_count": null,
   "id": "a822d86f",
   "metadata": {},
   "outputs": [],
   "source": []
  }
 ],
 "metadata": {
  "kernelspec": {
   "display_name": "Python 3 (ipykernel)",
   "language": "python",
   "name": "python3"
  },
  "language_info": {
   "codemirror_mode": {
    "name": "ipython",
    "version": 3
   },
   "file_extension": ".py",
   "mimetype": "text/x-python",
   "name": "python",
   "nbconvert_exporter": "python",
   "pygments_lexer": "ipython3",
   "version": "3.9.7"
  }
 },
 "nbformat": 4,
 "nbformat_minor": 5
}
