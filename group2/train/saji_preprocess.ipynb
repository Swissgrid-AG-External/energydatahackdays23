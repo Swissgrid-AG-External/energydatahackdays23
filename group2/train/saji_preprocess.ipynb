{
 "cells": [
  {
   "cell_type": "code",
   "execution_count": 79,
   "id": "0139834b",
   "metadata": {},
   "outputs": [],
   "source": [
    "import pandas as pd\n",
    "import matplotlib.pyplot as plt"
   ]
  },
  {
   "cell_type": "code",
   "execution_count": 2,
   "id": "e36dd8bb",
   "metadata": {},
   "outputs": [],
   "source": [
    "#activeslosses = pd.read_csv('../data/Avtice-losses.csv', skiprows = 1)\n",
    "#activeslosses"
   ]
  },
  {
   "cell_type": "code",
   "execution_count": 80,
   "id": "02874173",
   "metadata": {},
   "outputs": [],
   "source": [
    "activeslosses = pd.read_csv('../data/Avtice-losses.csv', skiprows = 1)\n",
    "activeslosses['Zeitstempel'] = pd.to_datetime(activeslosses['Zeitstempel']) - pd.Timedelta(minutes=15)\n",
    "activeslosses.set_index(activeslosses.columns[0], inplace=True)\n",
    "activeslosses['MWh'] = activeslosses['kWh']/1000\n",
    "activeslosses = activeslosses[~activeslosses.index.duplicated(keep='first')]\n",
    "activeslosses = activeslosses.resample('15T').asfreq()\n",
    "\n",
    "\n",
    "Forecast_renew = pd.read_csv('../data/Forecast-renewable-generation.csv', skiprows = 0)\n",
    "Forecast_renew['datetime'] = pd.to_datetime(Forecast_renew['datetime'])\n",
    "Forecast_renew.set_index(Forecast_renew.columns[0], inplace=True)\n",
    "Forecast_renew = Forecast_renew[~Forecast_renew.index.duplicated(keep='first')]\n",
    "Forecast_renew = Forecast_renew.resample('H').asfreq()\n",
    "\n",
    "\n",
    "Forecast_temp = pd.read_csv('../data/Forecast-temperature.csv', skiprows = 0)\n",
    "Forecast_temp['datetime'] = pd.to_datetime(Forecast_temp['datetime'])\n",
    "Forecast_temp.set_index(Forecast_temp.columns[0], inplace=True)\n",
    "Forecast_temp = Forecast_temp[~Forecast_temp.index.duplicated(keep='first')]\n",
    "\n",
    "\n",
    "NTC = pd.read_csv('../data/NTC.csv', skiprows = 0)\n",
    "NTC['datetime'] = pd.to_datetime(NTC['datetime'])\n",
    "NTC.set_index(NTC.columns[0], inplace=True)\n",
    "NTC = NTC[~NTC.index.duplicated(keep='first')]\n",
    "NTC = NTC.resample('H').asfreq()\n"
   ]
  },
  {
   "cell_type": "code",
   "execution_count": 81,
   "id": "3025c680",
   "metadata": {},
   "outputs": [
    {
     "data": {
      "text/html": [
       "<div>\n",
       "<style scoped>\n",
       "    .dataframe tbody tr th:only-of-type {\n",
       "        vertical-align: middle;\n",
       "    }\n",
       "\n",
       "    .dataframe tbody tr th {\n",
       "        vertical-align: top;\n",
       "    }\n",
       "\n",
       "    .dataframe thead th {\n",
       "        text-align: right;\n",
       "    }\n",
       "</style>\n",
       "<table border=\"1\" class=\"dataframe\">\n",
       "  <thead>\n",
       "    <tr style=\"text-align: right;\">\n",
       "      <th></th>\n",
       "      <th>solar_fore_de [MW]</th>\n",
       "      <th>solar_fore_it [MW]</th>\n",
       "      <th>wind_fore_de [MW]</th>\n",
       "      <th>wind_fore_it [MW]</th>\n",
       "    </tr>\n",
       "    <tr>\n",
       "      <th>datetime</th>\n",
       "      <th></th>\n",
       "      <th></th>\n",
       "      <th></th>\n",
       "      <th></th>\n",
       "    </tr>\n",
       "  </thead>\n",
       "  <tbody>\n",
       "    <tr>\n",
       "      <th>2019-01-01 00:00:00</th>\n",
       "      <td>0.0</td>\n",
       "      <td>0.0</td>\n",
       "      <td>21344.8514</td>\n",
       "      <td>4302.6977</td>\n",
       "    </tr>\n",
       "    <tr>\n",
       "      <th>2019-01-01 01:00:00</th>\n",
       "      <td>0.0</td>\n",
       "      <td>0.0</td>\n",
       "      <td>23052.3310</td>\n",
       "      <td>4596.5916</td>\n",
       "    </tr>\n",
       "    <tr>\n",
       "      <th>2019-01-01 02:00:00</th>\n",
       "      <td>0.0</td>\n",
       "      <td>0.0</td>\n",
       "      <td>24969.9701</td>\n",
       "      <td>4478.5564</td>\n",
       "    </tr>\n",
       "    <tr>\n",
       "      <th>2019-01-01 03:00:00</th>\n",
       "      <td>0.0</td>\n",
       "      <td>0.0</td>\n",
       "      <td>27082.9626</td>\n",
       "      <td>4323.3712</td>\n",
       "    </tr>\n",
       "    <tr>\n",
       "      <th>2019-01-01 04:00:00</th>\n",
       "      <td>0.0</td>\n",
       "      <td>0.0</td>\n",
       "      <td>26890.9717</td>\n",
       "      <td>4231.8283</td>\n",
       "    </tr>\n",
       "    <tr>\n",
       "      <th>...</th>\n",
       "      <td>...</td>\n",
       "      <td>...</td>\n",
       "      <td>...</td>\n",
       "      <td>...</td>\n",
       "    </tr>\n",
       "    <tr>\n",
       "      <th>2021-12-31 19:00:00</th>\n",
       "      <td>0.0</td>\n",
       "      <td>0.0</td>\n",
       "      <td>36997.7200</td>\n",
       "      <td>1108.4000</td>\n",
       "    </tr>\n",
       "    <tr>\n",
       "      <th>2021-12-31 20:00:00</th>\n",
       "      <td>0.0</td>\n",
       "      <td>0.0</td>\n",
       "      <td>35666.9300</td>\n",
       "      <td>1077.9700</td>\n",
       "    </tr>\n",
       "    <tr>\n",
       "      <th>2021-12-31 21:00:00</th>\n",
       "      <td>0.0</td>\n",
       "      <td>0.0</td>\n",
       "      <td>34383.8800</td>\n",
       "      <td>1048.2800</td>\n",
       "    </tr>\n",
       "    <tr>\n",
       "      <th>2021-12-31 22:00:00</th>\n",
       "      <td>0.0</td>\n",
       "      <td>0.0</td>\n",
       "      <td>33075.2500</td>\n",
       "      <td>1078.7800</td>\n",
       "    </tr>\n",
       "    <tr>\n",
       "      <th>2021-12-31 23:00:00</th>\n",
       "      <td>0.0</td>\n",
       "      <td>0.0</td>\n",
       "      <td>32350.7300</td>\n",
       "      <td>1188.4300</td>\n",
       "    </tr>\n",
       "  </tbody>\n",
       "</table>\n",
       "<p>26304 rows × 4 columns</p>\n",
       "</div>"
      ],
      "text/plain": [
       "                     solar_fore_de [MW]  solar_fore_it [MW]  \\\n",
       "datetime                                                      \n",
       "2019-01-01 00:00:00                 0.0                 0.0   \n",
       "2019-01-01 01:00:00                 0.0                 0.0   \n",
       "2019-01-01 02:00:00                 0.0                 0.0   \n",
       "2019-01-01 03:00:00                 0.0                 0.0   \n",
       "2019-01-01 04:00:00                 0.0                 0.0   \n",
       "...                                 ...                 ...   \n",
       "2021-12-31 19:00:00                 0.0                 0.0   \n",
       "2021-12-31 20:00:00                 0.0                 0.0   \n",
       "2021-12-31 21:00:00                 0.0                 0.0   \n",
       "2021-12-31 22:00:00                 0.0                 0.0   \n",
       "2021-12-31 23:00:00                 0.0                 0.0   \n",
       "\n",
       "                     wind_fore_de [MW]  wind_fore_it [MW]  \n",
       "datetime                                                   \n",
       "2019-01-01 00:00:00         21344.8514          4302.6977  \n",
       "2019-01-01 01:00:00         23052.3310          4596.5916  \n",
       "2019-01-01 02:00:00         24969.9701          4478.5564  \n",
       "2019-01-01 03:00:00         27082.9626          4323.3712  \n",
       "2019-01-01 04:00:00         26890.9717          4231.8283  \n",
       "...                                ...                ...  \n",
       "2021-12-31 19:00:00         36997.7200          1108.4000  \n",
       "2021-12-31 20:00:00         35666.9300          1077.9700  \n",
       "2021-12-31 21:00:00         34383.8800          1048.2800  \n",
       "2021-12-31 22:00:00         33075.2500          1078.7800  \n",
       "2021-12-31 23:00:00         32350.7300          1188.4300  \n",
       "\n",
       "[26304 rows x 4 columns]"
      ]
     },
     "execution_count": 81,
     "metadata": {},
     "output_type": "execute_result"
    }
   ],
   "source": [
    "Forecast_renew"
   ]
  },
  {
   "cell_type": "code",
   "execution_count": 82,
   "id": "eafed859",
   "metadata": {},
   "outputs": [
    {
     "data": {
      "text/plain": [
       "\"\\ntemp = Forecast_temp_hourly.loc['2019-01']\\ntemp_lin = Forecast_temp_hourly_lin.loc['2019-01']\\ntemp_poly = Forecast_temp_hourly_poly.loc['2019-01']\\n\\nplt.plot(temp_lin.index, temp_lin['temperature_fore_ch'], 'o', label='Data')  # 'o-' ensures that points are marked with circles and lines connect them.\\nplt.plot(temp_poly.index, temp_poly['temperature_fore_ch'], 'o', label='Data')  # 'o-' ensures that points are marked with circles and lines connect them.\\nplt.plot(temp.index, temp['temperature_fore_ch'], 'o', label='Data')  # 'o-' ensures that points are marked with circles and lines connect them.\\n\\n\""
      ]
     },
     "execution_count": 82,
     "metadata": {},
     "output_type": "execute_result"
    }
   ],
   "source": [
    "#data_preprocessing\n",
    "\n",
    "activeslosses = activeslosses.interpolate(method='polynomial', order=2)\n",
    "\n",
    "activeslosses_hour = activeslosses.resample('H').sum()\n",
    "\n",
    "\n",
    "\n",
    "Forecast_renew = Forecast_renew.interpolate(method='polynomial', order=2)\n",
    "\n",
    "\n",
    "Forecast_temp_hourly = Forecast_temp.resample('H').asfreq()\n",
    "\n",
    "Forecast_temp_hourly_lin = Forecast_temp_hourly.interpolate(method='linear')\n",
    "\n",
    "Forecast_temp_hourly_poly = Forecast_temp_hourly.interpolate(method='polynomial', order=2)\n",
    "\n",
    "Forecast_temp_hourly_poly.loc[pd.to_datetime('2019-01-01 00:00:00')] = Forecast_temp_hourly_poly.loc['2019-01-01 01:00:00   ']\n",
    "\n",
    "\n",
    "\n",
    "\n",
    "NTC = NTC.interpolate(method='polynomial', order=2)\n",
    "\n",
    "\n",
    "\"\"\"\n",
    "temp = Forecast_temp_hourly.loc['2019-01']\n",
    "temp_lin = Forecast_temp_hourly_lin.loc['2019-01']\n",
    "temp_poly = Forecast_temp_hourly_poly.loc['2019-01']\n",
    "\n",
    "plt.plot(temp_lin.index, temp_lin['temperature_fore_ch'], 'o', label='Data')  # 'o-' ensures that points are marked with circles and lines connect them.\n",
    "plt.plot(temp_poly.index, temp_poly['temperature_fore_ch'], 'o', label='Data')  # 'o-' ensures that points are marked with circles and lines connect them.\n",
    "plt.plot(temp.index, temp['temperature_fore_ch'], 'o', label='Data')  # 'o-' ensures that points are marked with circles and lines connect them.\n",
    "\n",
    "\"\"\""
   ]
  },
  {
   "cell_type": "code",
   "execution_count": 88,
   "id": "6ba9bfd8",
   "metadata": {},
   "outputs": [],
   "source": [
    "#merge all\n",
    "\n",
    "merged_df = pd.merge(activeslosses_hour, Forecast_renew, left_index=True, right_index=True, how='outer')\n",
    "merged_df = pd.merge(merged_df, Forecast_temp_hourly_poly, left_index=True, right_index=True, how='outer')\n",
    "merged_df = pd.merge(merged_df, NTC, left_index=True, right_index=True, how='outer')\n",
    "\n",
    "\n",
    "merged_df.to_csv('merged_data.csv', index=True)"
   ]
  },
  {
   "cell_type": "code",
   "execution_count": null,
   "id": "e9e23d35",
   "metadata": {},
   "outputs": [],
   "source": [
    "merged_df"
   ]
  },
  {
   "cell_type": "code",
   "execution_count": 87,
   "id": "d52740a0",
   "metadata": {},
   "outputs": [
    {
     "name": "stdout",
     "output_type": "stream",
     "text": [
      "[]\n"
     ]
    }
   ],
   "source": [
    "nan_columns = merged_df.columns[merged_df.isna().any()].tolist()\n",
    "print(nan_columns)\n"
   ]
  },
  {
   "cell_type": "code",
   "execution_count": 74,
   "id": "f4f349a6",
   "metadata": {},
   "outputs": [],
   "source": [
    "#print(activeslosses_hour.shape, Forecast_renew.shape, Forecast_temp_hourly_poly.shape, NTC.shape)"
   ]
  },
  {
   "cell_type": "code",
   "execution_count": 28,
   "id": "5f3a83f3",
   "metadata": {},
   "outputs": [],
   "source": [
    "#activeslosses_hour.iloc[10872:10888]"
   ]
  },
  {
   "cell_type": "code",
   "execution_count": 75,
   "id": "5590634f",
   "metadata": {},
   "outputs": [],
   "source": [
    "#print(NTC[NTC.index.duplicated()])"
   ]
  },
  {
   "cell_type": "code",
   "execution_count": 76,
   "id": "73f3543b",
   "metadata": {},
   "outputs": [
    {
     "data": {
      "text/plain": [
       "\"\\nprint(activeslosses[activeslosses.index.duplicated()])\\nactiveslosses.loc['2019-10-27 01:45:00 ']\\nactiveslosses.loc['2019-10-27 02:00:00']\\nactiveslosses.loc['2019-10-27 01:45:00 ']\\nactiveslosses.loc['2019-10-27 02:00:00']\\n\""
      ]
     },
     "execution_count": 76,
     "metadata": {},
     "output_type": "execute_result"
    }
   ],
   "source": [
    "\"\"\"\n",
    "print(activeslosses[activeslosses.index.duplicated()])\n",
    "activeslosses.loc['2019-10-27 01:45:00 ']\n",
    "activeslosses.loc['2019-10-27 02:00:00']\n",
    "activeslosses.loc['2019-10-27 01:45:00 ']\n",
    "activeslosses.loc['2019-10-27 02:00:00']\n",
    "\"\"\""
   ]
  },
  {
   "cell_type": "code",
   "execution_count": 80,
   "id": "58f0f56d",
   "metadata": {},
   "outputs": [
    {
     "data": {
      "text/plain": [
       "'\\nprint(activeslosses.describe())\\nprint(Forecast_renew.describe())\\nprint(Forecast_temp.describe())\\nprint(NTC.describe())\\n'"
      ]
     },
     "execution_count": 80,
     "metadata": {},
     "output_type": "execute_result"
    }
   ],
   "source": [
    "\"\"\"\n",
    "print(activeslosses.describe())\n",
    "print(Forecast_renew.describe())\n",
    "print(Forecast_temp.describe())\n",
    "print(NTC.describe())\n",
    "\"\"\"\n"
   ]
  }
 ],
 "metadata": {
  "kernelspec": {
   "display_name": "Python 3 (ipykernel)",
   "language": "python",
   "name": "python3"
  },
  "language_info": {
   "codemirror_mode": {
    "name": "ipython",
    "version": 3
   },
   "file_extension": ".py",
   "mimetype": "text/x-python",
   "name": "python",
   "nbconvert_exporter": "python",
   "pygments_lexer": "ipython3",
   "version": "3.9.7"
  }
 },
 "nbformat": 4,
 "nbformat_minor": 5
}
