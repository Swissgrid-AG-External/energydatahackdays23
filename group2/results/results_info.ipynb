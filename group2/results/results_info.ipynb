{
 "cells": [
  {
   "cell_type": "markdown",
   "id": "a42df7c1",
   "metadata": {},
   "source": [
    "## This is the folder for your finished model. Please put it in here."
   ]
  },
  {
   "cell_type": "markdown",
   "id": "c6c50659",
   "metadata": {},
   "source": [
    "# Saving model"
   ]
  },
  {
   "cell_type": "markdown",
   "id": "3fd1f8d8",
   "metadata": {},
   "source": [
    "After training the model, it can be saved using either joblib or pickle. Both packages have the same functionalities. Supposing we already have prepared our training set, the saving is done as follows :"
   ]
  },
  {
   "cell_type": "code",
   "execution_count": null,
   "id": "f67469be",
   "metadata": {},
   "outputs": [],
   "source": [
    "import pickle\n",
    "from sklearn.ensemble import RandomForestRegressor\n",
    "\n",
    "model = RandomForestRegressor()\n",
    "\n",
    "model.fit(X_train, Y_train)\n",
    "\n",
    "filename = \"trained_model.pkl\"\n",
    "\n",
    "with open(filename, \"wb\") as file:\n",
    "  pickle.dump(model, file)"
   ]
  },
  {
   "cell_type": "markdown",
   "id": "c826dec5",
   "metadata": {},
   "source": [
    "The model can be then loaded and used for predictions :"
   ]
  },
  {
   "cell_type": "code",
   "execution_count": null,
   "id": "0163a0cc",
   "metadata": {},
   "outputs": [],
   "source": [
    "with open(filename, \"rb\") as file:\n",
    "  model = pickle.load(file)\n",
    "\n",
    "prediciton = model.predict(batch)"
   ]
  }
 ],
 "metadata": {
  "kernelspec": {
   "display_name": "Python 3 (ipykernel)",
   "language": "python",
   "name": "python3"
  },
  "language_info": {
   "codemirror_mode": {
    "name": "ipython",
    "version": 3
   },
   "file_extension": ".py",
   "mimetype": "text/x-python",
   "name": "python",
   "nbconvert_exporter": "python",
   "pygments_lexer": "ipython3",
   "version": "3.9.7"
  }
 },
 "nbformat": 4,
 "nbformat_minor": 5
}
